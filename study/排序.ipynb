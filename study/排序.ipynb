{
 "cells": [
  {
   "cell_type": "code",
   "id": "initial_id",
   "metadata": {
    "collapsed": true,
    "ExecuteTime": {
     "end_time": "2025-04-25T08:40:17.678323Z",
     "start_time": "2025-04-25T08:40:17.666096Z"
    }
   },
   "source": [
    "def select_sort(items, comp=lambda x, y: x < y):\n",
    "    \"\"\"选择排序\"\"\"\n",
    "    items = items[:]\n",
    "    for i in range(len(items) - 1):\n",
    "        min_index = i\n",
    "        for j in range(i + 1, len(items)):\n",
    "            if comp(items[j], items[min_index]):\n",
    "                min_index = j\n",
    "        items[i], items[min_index] = items[min_index], items[i]\n",
    "    return items\n",
    "\n",
    "\n",
    "if __name__ == '__main__':\n",
    "    items = [5, 2, 9, 1, 5, 6]\n",
    "    print(select_sort(items))  # 默认升序\n",
    "    # print(select_sort(items, lambda x, y: x > y))  # 降序"
   ],
   "outputs": [
    {
     "name": "stdout",
     "output_type": "stream",
     "text": [
      "[1, 2, 5, 5, 6, 9]\n"
     ]
    }
   ],
   "execution_count": 5
  },
  {
   "metadata": {
    "ExecuteTime": {
     "end_time": "2025-04-25T09:07:30.536846Z",
     "start_time": "2025-04-25T09:07:30.529031Z"
    }
   },
   "cell_type": "code",
   "source": [
    "def bubble_sort(items, comp=lambda x, y: x > y):\n",
    "    \"\"\"冒泡排序\"\"\"\n",
    "    items = items[:]\n",
    "    for i in range(len(items) - 1):\n",
    "        swapped = False\n",
    "        for j in range(len(items) - 1 - i):\n",
    "            if comp(items[j], items[j + 1]):\n",
    "                items[j], items[j + 1] = items[j + 1], items[j]\n",
    "                swapped = True\n",
    "        if not swapped:\n",
    "            break\n",
    "    return items\n",
    "\n",
    "\n",
    "if __name__ == '__main__':\n",
    "    items = [5, 2, 9, 1, 5, 6]\n",
    "    print(bubble_sort(items))  # 默认升序\n",
    "    # print(bubble_sort(items, lambda x, y: x < y))  # 降序"
   ],
   "id": "35fdfd4070b3e9de",
   "outputs": [
    {
     "name": "stdout",
     "output_type": "stream",
     "text": [
      "[1, 2, 5, 5, 6, 9]\n"
     ]
    }
   ],
   "execution_count": 8
  },
  {
   "metadata": {
    "ExecuteTime": {
     "end_time": "2025-04-25T09:07:19.443991Z",
     "start_time": "2025-04-25T09:07:19.393531Z"
    }
   },
   "cell_type": "code",
   "source": [
    "def bubble_sort(items, comp=lambda x, y: x > y):\n",
    "    \"\"\"搅拌排序(冒泡排序升级版)\"\"\"\n",
    "    items = items[:]\n",
    "    for i in range(len(items) - 1):\n",
    "        swapped = False\n",
    "        for j in range(len(items) - 1 - i):\n",
    "            if comp(items[j], items[j + 1]):\n",
    "                items[j], items[j + 1] = items[j + 1], items[j]\n",
    "                swapped = True\n",
    "        if swapped:\n",
    "            swapped = False\n",
    "            for j in range(len(items) - 2 - i, i, -1):\n",
    "                if comp(items[j - 1], items[j]):\n",
    "                    items[j], items[j - 1] = items[j - 1], items[j]\n",
    "                    swapped = True\n",
    "        if not swapped:\n",
    "            break\n",
    "    return items\n",
    "\n",
    "\n",
    "if __name__ == '__main__':\n",
    "    items = [5, 2, 9, 1, 5, 6]\n",
    "    print(bubble_sort(items))  # 默认升序\n",
    "    # print(bubble_sort(items, lambda x, y: x < y))  # 降序"
   ],
   "id": "636bbb87560cea31",
   "outputs": [
    {
     "name": "stdout",
     "output_type": "stream",
     "text": [
      "[1, 2, 5, 5, 6, 9]\n"
     ]
    }
   ],
   "execution_count": 7
  },
  {
   "metadata": {},
   "cell_type": "code",
   "outputs": [],
   "execution_count": null,
   "source": [
    "def merge(items1, items2, comp=lambda x, y: x < y):\n",
    "    \"\"\"合并(将两个有序的列表合并成一个有序的列表)\"\"\"\n",
    "    items = []\n",
    "    index1, index2 = 0, 0\n",
    "    while index1 < len(items1) and index2 < len(items2):\n",
    "        if comp(items1[index1], items2[index2]):\n",
    "            items.append(items1[index1])\n",
    "            index1 += 1\n",
    "        else:\n",
    "            items.append(items2[index2])\n",
    "            index2 += 1\n",
    "    items += items1[index1:]\n",
    "    items += items2[index2:]\n",
    "    return items\n",
    "\n",
    "\n",
    "def merge_sort(items, comp=lambda x, y: x < y):\n",
    "    return _merge_sort(list(items), comp)\n",
    "\n",
    "\n",
    "def _merge_sort(items, comp):\n",
    "    \"\"\"归并排序\"\"\"\n",
    "    if len(items) < 2:\n",
    "        return items\n",
    "    mid = len(items) // 2\n",
    "    left = _merge_sort(items[:mid], comp)\n",
    "    right = _merge_sort(items[mid:], comp)\n",
    "    return merge(left, right, comp)"
   ],
   "id": "c58c99531b03dae5"
  },
  {
   "metadata": {},
   "cell_type": "code",
   "outputs": [],
   "execution_count": null,
   "source": [
    "def seq_search(items, key):\n",
    "    \"\"\"顺序查找\"\"\"\n",
    "    for index, item in enumerate(items):\n",
    "        if item == key:\n",
    "            return index\n",
    "    return -1"
   ],
   "id": "922c1b453265dd16"
  },
  {
   "metadata": {},
   "cell_type": "code",
   "outputs": [],
   "execution_count": null,
   "source": [
    "def bin_search(items, key):\n",
    "    \"\"\"折半查找\"\"\"\n",
    "    start, end = 0, len(items) - 1\n",
    "    while start <= end:\n",
    "        mid = (start + end) // 2\n",
    "        if key > items[mid]:\n",
    "            start = mid + 1\n",
    "        elif key < items[mid]:\n",
    "            end = mid - 1\n",
    "        else:\n",
    "            return mid\n",
    "    return -1"
   ],
   "id": "da778673e0843920"
  }
 ],
 "metadata": {
  "kernelspec": {
   "display_name": "Python 3",
   "language": "python",
   "name": "python3"
  },
  "language_info": {
   "codemirror_mode": {
    "name": "ipython",
    "version": 2
   },
   "file_extension": ".py",
   "mimetype": "text/x-python",
   "name": "python",
   "nbconvert_exporter": "python",
   "pygments_lexer": "ipython2",
   "version": "2.7.6"
  }
 },
 "nbformat": 4,
 "nbformat_minor": 5
}
