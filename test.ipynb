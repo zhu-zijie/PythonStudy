{
 "cells": [
  {
   "cell_type": "code",
   "id": "initial_id",
   "metadata": {
    "collapsed": true,
    "ExecuteTime": {
     "end_time": "2025-04-25T02:44:16.870910Z",
     "start_time": "2025-04-25T02:44:16.868026Z"
    }
   },
   "source": [
    "import csv\n",
    "import random\n",
    "\n",
    "with open('scores.csv', 'w') as file:\n",
    "    writer = csv.writer(file, delimiter='|', quoting=csv.QUOTE_ALL)\n",
    "    writer.writerow(['姓名', '语文', '数学', '英语'])\n",
    "    names = ['关羽', '张飞', '赵云', '马超', '黄忠']\n",
    "    for name in names:\n",
    "        scores = [random.randrange(50, 101) for _ in range(3)]\n",
    "        scores.insert(0, name)\n",
    "        writer.writerow(scores)"
   ],
   "outputs": [],
   "execution_count": 3
  },
  {
   "metadata": {
    "ExecuteTime": {
     "end_time": "2025-04-25T02:44:55.388218Z",
     "start_time": "2025-04-25T02:44:55.385055Z"
    }
   },
   "cell_type": "code",
   "source": [
    "import csv\n",
    "\n",
    "with open('scores.csv', 'r') as file:\n",
    "    reader = csv.reader(file, delimiter='|')\n",
    "    for data_list in reader:\n",
    "        print(reader.line_num, end='\\t')\n",
    "        for elem in data_list:\n",
    "            print(elem, end='\\t')\n",
    "        print()"
   ],
   "id": "6ae48ad8f3c2a3bc",
   "outputs": [
    {
     "name": "stdout",
     "output_type": "stream",
     "text": [
      "1\t姓名\t语文\t数学\t英语\t\n",
      "2\t关羽\t58\t92\t57\t\n",
      "3\t张飞\t96\t62\t56\t\n",
      "4\t赵云\t65\t98\t91\t\n",
      "5\t马超\t92\t91\t61\t\n",
      "6\t黄忠\t91\t100\t57\t\n"
     ]
    }
   ],
   "execution_count": 4
  },
  {
   "metadata": {
    "ExecuteTime": {
     "end_time": "2025-04-25T03:39:22.887884Z",
     "start_time": "2025-04-25T03:39:22.874115Z"
    }
   },
   "cell_type": "code",
   "source": [
    "import random\n",
    "\n",
    "from PIL import Image, ImageDraw, ImageFont\n",
    "\n",
    "\n",
    "def random_color():\n",
    "    \"\"\"生成随机颜色\"\"\"\n",
    "    red = random.randint(0, 255)\n",
    "    green = random.randint(0, 255)\n",
    "    blue = random.randint(0, 255)\n",
    "    return red, green, blue\n",
    "\n",
    "\n",
    "width, height = 800, 600\n",
    "# 创建一个800*600的图像，背景色为白色\n",
    "image = Image.new(mode='RGB', size=(width, height), color=(255, 255, 255))\n",
    "# 创建一个ImageDraw对象\n",
    "drawer = ImageDraw.Draw(image)\n",
    "# 通过指定字体和大小获得ImageFont对象\n",
    "# font = ImageFont.truetype('Kongxin.ttf', 32)\n",
    "# 通过ImageDraw对象的text方法绘制文字\n",
    "drawer.text((300, 50), 'Hello, world!', fill=(255, 0, 0), font=font)\n",
    "# 通过ImageDraw对象的line方法绘制两条对角直线\n",
    "drawer.line((0, 0, width, height), fill=(0, 0, 255), width=2)\n",
    "drawer.line((width, 0, 0, height), fill=(0, 0, 255), width=2)\n",
    "xy = width // 2 - 60, height // 2 - 60, width // 2 + 60, height // 2 + 60\n",
    "# 通过ImageDraw对象的rectangle方法绘制矩形\n",
    "drawer.rectangle(xy, outline=(255, 0, 0), width=2)\n",
    "# 通过ImageDraw对象的ellipse方法绘制椭圆\n",
    "for i in range(4):\n",
    "    left, top, right, bottom = 150 + i * 120, 220, 310 + i * 120, 380\n",
    "    drawer.ellipse((left, top, right, bottom), outline=random_color(), width=8)\n",
    "# 显示图像\n",
    "image.show()\n",
    "# 保存图像\n",
    "image.save('result.png')"
   ],
   "id": "1d579e90d3d19972",
   "outputs": [
    {
     "ename": "NameError",
     "evalue": "name 'font' is not defined",
     "output_type": "error",
     "traceback": [
      "\u001B[31m---------------------------------------------------------------------------\u001B[39m",
      "\u001B[31mNameError\u001B[39m                                 Traceback (most recent call last)",
      "\u001B[36mCell\u001B[39m\u001B[36m \u001B[39m\u001B[32mIn[7]\u001B[39m\u001B[32m, line 22\u001B[39m\n\u001B[32m     18\u001B[39m drawer = ImageDraw.Draw(image)\n\u001B[32m     19\u001B[39m \u001B[38;5;66;03m# 通过指定字体和大小获得ImageFont对象\u001B[39;00m\n\u001B[32m     20\u001B[39m \u001B[38;5;66;03m# font = ImageFont.truetype('Kongxin.ttf', 32)\u001B[39;00m\n\u001B[32m     21\u001B[39m \u001B[38;5;66;03m# 通过ImageDraw对象的text方法绘制文字\u001B[39;00m\n\u001B[32m---> \u001B[39m\u001B[32m22\u001B[39m drawer.text((\u001B[32m300\u001B[39m, \u001B[32m50\u001B[39m), \u001B[33m'\u001B[39m\u001B[33mHello, world!\u001B[39m\u001B[33m'\u001B[39m, fill=(\u001B[32m255\u001B[39m, \u001B[32m0\u001B[39m, \u001B[32m0\u001B[39m), font=\u001B[43mfont\u001B[49m)\n\u001B[32m     23\u001B[39m \u001B[38;5;66;03m# 通过ImageDraw对象的line方法绘制两条对角直线\u001B[39;00m\n\u001B[32m     24\u001B[39m drawer.line((\u001B[32m0\u001B[39m, \u001B[32m0\u001B[39m, width, height), fill=(\u001B[32m0\u001B[39m, \u001B[32m0\u001B[39m, \u001B[32m255\u001B[39m), width=\u001B[32m2\u001B[39m)\n",
      "\u001B[31mNameError\u001B[39m: name 'font' is not defined"
     ]
    }
   ],
   "execution_count": 7
  },
  {
   "metadata": {
    "ExecuteTime": {
     "end_time": "2025-04-25T07:46:59.014005Z",
     "start_time": "2025-04-25T07:46:59.004210Z"
    }
   },
   "cell_type": "code",
   "source": [
    "import re\n",
    "\n",
    "# 创建正则表达式对象，使用了前瞻和回顾来保证手机号前后不应该再出现数字\n",
    "pattern = re.compile(r'(?<=\\D)1[34578]\\d{9}(?=\\D)')\n",
    "sentence = '''重要的事情说8130123456789遍，我的手机号是13512346789这个靓号，\n",
    "不是15600998765，也不是110或119，王大锤的手机号才是15600998765。'''\n",
    "# 方法一：查找所有匹配并保存到一个列表中\n",
    "tels_list = re.findall(pattern, sentence)\n",
    "for tel in tels_list:\n",
    "    print(tel)\n",
    "print('--------华丽的分隔线--------')\n",
    "\n",
    "# 方法二：通过迭代器取出匹配对象并获得匹配的内容\n",
    "for temp in pattern.finditer(sentence):\n",
    "    print(temp.group())\n",
    "print('--------华丽的分隔线--------')\n",
    "\n",
    "# 方法三：通过search函数指定搜索位置找出所有匹配\n",
    "m = pattern.search(sentence)\n",
    "while m:\n",
    "    print(m.group())\n",
    "    m = pattern.search(sentence, m.end())"
   ],
   "id": "1ffa0731037b5a46",
   "outputs": [
    {
     "name": "stdout",
     "output_type": "stream",
     "text": [
      "13512346789\n",
      "15600998765\n",
      "15600998765\n",
      "--------华丽的分隔线--------\n",
      "13512346789\n",
      "15600998765\n",
      "15600998765\n",
      "--------华丽的分隔线--------\n",
      "13512346789\n",
      "15600998765\n",
      "15600998765\n"
     ]
    }
   ],
   "execution_count": 8
  },
  {
   "metadata": {
    "ExecuteTime": {
     "end_time": "2025-04-25T07:53:13.004178Z",
     "start_time": "2025-04-25T07:53:12.995153Z"
    }
   },
   "cell_type": "code",
   "source": [
    "import re\n",
    "\n",
    "poem = '窗前明月光，疑是地上霜。举头望明月，低头思故乡。'\n",
    "sentences_list = re.split(r'[，。]', poem)\n",
    "sentences_list = [sentence for sentence in sentences_list if sentence]\n",
    "for sentence in sentences_list:\n",
    "    print(sentence)"
   ],
   "id": "1c2b6d11060665d5",
   "outputs": [
    {
     "name": "stdout",
     "output_type": "stream",
     "text": [
      "窗前明月光\n",
      "疑是地上霜\n",
      "举头望明月\n",
      "低头思故乡\n"
     ]
    }
   ],
   "execution_count": 9
  },
  {
   "metadata": {
    "ExecuteTime": {
     "end_time": "2025-04-25T07:59:15.492721Z",
     "start_time": "2025-04-25T07:59:15.480815Z"
    }
   },
   "cell_type": "code",
   "source": [
    "prices = {\n",
    "    'AAPL': 191.88,\n",
    "    'GOOG': 1186.96,\n",
    "    'IBM': 149.24,\n",
    "    'ORCL': 48.44,\n",
    "    'ACN': 166.89,\n",
    "    'FB': 208.09,\n",
    "    'SYMC': 21.29\n",
    "}\n",
    "price2 = {key: value for key, value in prices.items() if value > 100}\n",
    "print(price2)"
   ],
   "id": "a809faeb3d5529a5",
   "outputs": [
    {
     "name": "stdout",
     "output_type": "stream",
     "text": [
      "{'AAPL': 191.88, 'GOOG': 1186.96, 'IBM': 149.24, 'ACN': 166.89, 'FB': 208.09}\n"
     ]
    }
   ],
   "execution_count": 10
  },
  {
   "metadata": {
    "ExecuteTime": {
     "end_time": "2025-04-25T08:19:20.809311Z",
     "start_time": "2025-04-25T08:19:20.798466Z"
    }
   },
   "cell_type": "code",
   "source": [
    "import heapq\n",
    "\n",
    "list1 = [34, 25, 12, 99, 87, 63, 58, 78, 88, 92]\n",
    "list2 = [\n",
    "    {'name': 'IBM', 'shares': 100, 'price': 91.1},\n",
    "    {'name': 'AAPL', 'shares': 50, 'price': 543.22},\n",
    "    {'name': 'FB', 'shares': 200, 'price': 21.09},\n",
    "    {'name': 'HPQ', 'shares': 35, 'price': 31.75},\n",
    "    {'name': 'YHOO', 'shares': 45, 'price': 16.35},\n",
    "    {'name': 'ACME', 'shares': 75, 'price': 115.65}\n",
    "]\n",
    "print(heapq.nlargest(3, list2, key=lambda x: x['shares']))\n",
    "\n"
   ],
   "id": "a78326eec6525bd9",
   "outputs": [
    {
     "name": "stdout",
     "output_type": "stream",
     "text": [
      "[{'name': 'FB', 'shares': 200, 'price': 21.09}, {'name': 'IBM', 'shares': 100, 'price': 91.1}, {'name': 'ACME', 'shares': 75, 'price': 115.65}]\n"
     ]
    }
   ],
   "execution_count": 17
  },
  {
   "metadata": {
    "ExecuteTime": {
     "end_time": "2025-04-25T08:24:17.348508Z",
     "start_time": "2025-04-25T08:24:17.339313Z"
    }
   },
   "cell_type": "code",
   "source": [
    "import itertools\n",
    "\n",
    "# 生成 ABCD 和 123 的笛卡尔积\n",
    "for prod in itertools.product('ABCD', '123'):\n",
    "    print(prod)"
   ],
   "id": "636d63ce7de22a73",
   "outputs": [
    {
     "name": "stdout",
     "output_type": "stream",
     "text": [
      "('A', '1')\n",
      "('A', '2')\n",
      "('A', '3')\n",
      "('B', '1')\n",
      "('B', '2')\n",
      "('B', '3')\n",
      "('C', '1')\n",
      "('C', '2')\n",
      "('C', '3')\n",
      "('D', '1')\n",
      "('D', '2')\n",
      "('D', '3')\n"
     ]
    }
   ],
   "execution_count": 22
  },
  {
   "metadata": {
    "ExecuteTime": {
     "end_time": "2025-04-25T08:27:59.659690Z",
     "start_time": "2025-04-25T08:27:59.647817Z"
    }
   },
   "cell_type": "code",
   "source": [
    "\"\"\"\n",
    "找出序列中出现次数最多的元素\n",
    "\"\"\"\n",
    "from collections import Counter\n",
    "\n",
    "words = [\n",
    "    'look', 'into', 'my', 'eyes', 'look', 'into', 'my', 'eyes',\n",
    "    'the', 'eyes', 'the', 'eyes', 'the', 'eyes', 'not', 'around',\n",
    "    'the', 'eyes', \"don't\", 'look', 'around', 'the', 'eyes',\n",
    "    'look', 'into', 'my', 'eyes', \"you're\", 'under'\n",
    "]\n",
    "counter = Counter(words)\n",
    "print(counter.most_common(2))"
   ],
   "id": "fac81f3e6750df8c",
   "outputs": [
    {
     "name": "stdout",
     "output_type": "stream",
     "text": [
      "[('eyes', 8), ('the', 5)]\n"
     ]
    }
   ],
   "execution_count": 24
  },
  {
   "metadata": {
    "jupyter": {
     "is_executing": true
    }
   },
   "cell_type": "code",
   "source": [
    "def calc_avg():\n",
    "    \"\"\"流式计算平均值\"\"\"\n",
    "    total, counter = 0, 0\n",
    "    avg_value = None\n",
    "    while True:\n",
    "        value = yield avg_value\n",
    "        total, counter = total + value, counter + 1\n",
    "        avg_value = total / counter\n",
    "\n",
    "\n",
    "gen = calc_avg()\n",
    "next(gen)\n",
    "print(gen.send(10))\n",
    "print(gen.send(20))\n",
    "print(gen.send(30))"
   ],
   "id": "df830082182457aa",
   "outputs": [],
   "execution_count": null
  }
 ],
 "metadata": {
  "kernelspec": {
   "display_name": "Python 3",
   "language": "python",
   "name": "python3"
  },
  "language_info": {
   "codemirror_mode": {
    "name": "ipython",
    "version": 2
   },
   "file_extension": ".py",
   "mimetype": "text/x-python",
   "name": "python",
   "nbconvert_exporter": "python",
   "pygments_lexer": "ipython2",
   "version": "2.7.6"
  }
 },
 "nbformat": 4,
 "nbformat_minor": 5
}
