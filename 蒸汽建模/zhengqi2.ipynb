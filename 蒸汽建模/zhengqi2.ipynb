{
 "cells": [
  {
   "metadata": {},
   "cell_type": "markdown",
   "source": "### 1 导入数据分析相关的库",
   "id": "f6ad0c05462d6cc9"
  },
  {
   "metadata": {},
   "cell_type": "code",
   "outputs": [],
   "execution_count": null,
   "source": [
    "import numpy as np\n",
    "import pandas as pd\n",
    "import matplotlib.pyplot as plt\n",
    "from sklearn.linear_model import LinearRegression  #线性回归\n",
    "from sklearn.ensemble import RandomForestRegressor  #随机森林回归\n",
    "from sklearn.ensemble import GradientBoostingRegressor  #梯度提升回归\n",
    "from sklearn.svm import SVR  #支持向量机回归\n",
    "import lightgbm as lgb  #LightGBM\n",
    "from xgboost import XGBRegressor  #XGBoost\n",
    "from sklearn.model_selection import learning_curve  # 用于学习曲线绘制\n",
    "from sklearn.model_selection import ShuffleSplit  # 用于数据集划分\n",
    "from sklearn.model_selection import train_test_split  # 用于数据集划分\n",
    "from sklearn.metrics import mean_squared_error  #均方误差\n",
    "import warnings\n",
    "\n",
    "warnings.filterwarnings('ignore')"
   ],
   "id": "8e0682b2dd1fc05c"
  },
  {
   "metadata": {},
   "cell_type": "markdown",
   "source": "### 2 数据加载",
   "id": "d8e1f0816296ed7d"
  },
  {
   "metadata": {},
   "cell_type": "markdown",
   "source": "##### 2.1 未降维数据",
   "id": "e31e2bb380c5dd00"
  },
  {
   "metadata": {},
   "cell_type": "code",
   "outputs": [],
   "execution_count": null,
   "source": [
    "all_data = pd.read_csv('./processed_zhengqi_data.csv')\n",
    "\n",
    "# 训练数据\n",
    "cond1 = all_data['label'] == 'train'\n",
    "train_data = all_data[cond1]\n",
    "train_data.drop(labels=['label'], axis=1, inplace=True)\n",
    "# 切分数据\n",
    "X_train, X_valid, y_train, y_valid = train_test_split(train_data.drop(labels=['target'], axis=1), train_data['target'],\n",
    "                                                      test_size=0.2)\n",
    "# 测试数据\n",
    "cond2 = all_data['label'] == 'test'\n",
    "test_data = all_data[cond2]\n",
    "test_data.drop(labels=['label', 'target'], axis=1, inplace=True)"
   ],
   "id": "38a3b7e7b01d6501"
  },
  {
   "metadata": {},
   "cell_type": "markdown",
   "source": "##### 2.2 降维数据",
   "id": "ce6053a1efe9aedf"
  },
  {
   "metadata": {},
   "cell_type": "code",
   "outputs": [],
   "execution_count": null,
   "source": [
    "# 采用pca保留特征的数据\n",
    "train_data_pca = np.load('./train_data_pca.npz')['X_train']\n",
    "target_data_pca = np.load('./train_data_pca.npz')['y_train']\n",
    "# 切分数据\n",
    "X_train_pca, X_valid_pca, y_train_pca, y_valid_pca = train_test_split(train_data_pca, target_data_pca, test_size=0.2)\n",
    "test_data_pca = np.load('./test_data_pca.npz')['X_test']"
   ],
   "id": "38acd22dda5cabf1"
  },
  {
   "metadata": {},
   "cell_type": "markdown",
   "source": "### 3 定义绘制模型学习曲线的函数",
   "id": "ff4d973a45bab7a9"
  },
  {
   "metadata": {},
   "cell_type": "code",
   "outputs": [],
   "execution_count": null,
   "source": [
    "def plot_learn_curve(model, title, X, y, cv=None):\n",
    "    \"\"\"\n",
    "    绘制模型学习曲线\n",
    "    :param model: 模型\n",
    "    :param title: 标题\n",
    "    :param X: 特征\n",
    "    :param y: 标签\n",
    "    :param cv: 交叉验证划分器\n",
    "    \"\"\"\n",
    "\n",
    "    # 学习曲线\n",
    "    train_sizes, train_scores, test_scores = learning_curve(model, X, y, cv=cv)\n",
    "    # 计算训练集和测试集的平均分数和标准差\n",
    "    train_scores_std = np.std(train_scores, axis=1)\n",
    "    train_scores_mean = np.mean(train_scores, axis=1)\n",
    "    test_scores_mean = np.mean(test_scores, axis=1)\n",
    "    test_scores_std = np.std(test_scores, axis=1)\n",
    "\n",
    "    # 训练数据得分可视化\n",
    "    plt.plot(train_sizes, train_scores_mean, 'o-', label=\"Training score\", color=\"r\")\n",
    "    plt.fill_between(train_sizes, train_scores_mean - train_scores_std, train_scores_mean + train_scores_std, alpha=0.1,\n",
    "                     color=\"r\")\n",
    "\n",
    "    # 测试数据得分可视化\n",
    "    plt.plot(train_sizes, test_scores_mean, 'o-', label=\"Cross-validation score\", color=\"g\")\n",
    "    plt.fill_between(train_sizes, test_scores_mean - test_scores_std, test_scores_mean + test_scores_std, alpha=0.1,\n",
    "                     color=\"g\")\n",
    "\n",
    "    # 画图设置\n",
    "    plt.grid()  # 网格\n",
    "    plt.legend(loc=\"best\")\n",
    "    plt.title(title)  # 标题\n",
    "    plt.xlabel(\"Training examples\")  # x轴标签\n",
    "    plt.ylabel(\"Score\")  # y轴标签"
   ],
   "id": "6ed824cbed143e5c"
  },
  {
   "metadata": {},
   "cell_type": "markdown",
   "source": "### 4 多元线性回归",
   "id": "385fbbbbe67e2c3a"
  },
  {
   "metadata": {},
   "cell_type": "markdown",
   "source": " ##### 4.1 模型训练",
   "id": "90e4911944c35882"
  },
  {
   "metadata": {},
   "cell_type": "code",
   "outputs": [],
   "execution_count": null,
   "source": [
    "# 降维数据建模验证\n",
    "clf = LinearRegression()\n",
    "clf.fit(X_train_pca, y_train_pca)\n",
    "score = mean_squared_error(y_train_pca, clf.predict(X_train_pca))\n",
    "print(\"LinearRegression train score: \", score)"
   ],
   "id": "70d43fabff137115"
  },
  {
   "metadata": {},
   "cell_type": "code",
   "outputs": [],
   "execution_count": null,
   "source": [
    "# 未降维数据建模验证\n",
    "clf = LinearRegression()\n",
    "clf.fit(X_train, y_train)\n",
    "score = mean_squared_error(y_train, clf.predict(X_train))\n",
    "print(\"LinearRegression train score: \", score)"
   ],
   "id": "c084265a934e8a0e"
  },
  {
   "metadata": {},
   "cell_type": "markdown",
   "source": "##### 4.2 模型学习曲线",
   "id": "3463550859338e44"
  },
  {
   "metadata": {},
   "cell_type": "code",
   "outputs": [],
   "execution_count": null,
   "source": [
    "# 降维数据学习曲线\n",
    "X = X_train_pca\n",
    "y = y_train_pca\n",
    "title = \"Learning Curves (Linear Regression)\"\n",
    "cv = ShuffleSplit(n_splits=100, test_size=0.25, random_state=0)\n",
    "estimator = LinearRegression()  # 线性回归模型\n",
    "plot_learn_curve(estimator, title, X, y, cv=cv)\n",
    "plt.savefig(\"./多元线性回归降维数据学习曲线.png\", dpi=300, bbox_inches='tight')"
   ],
   "id": "2364f4d47cf9c74e"
  },
  {
   "metadata": {},
   "cell_type": "code",
   "outputs": [],
   "execution_count": null,
   "source": [
    "# 未降维数据学习曲线\n",
    "X = X_train\n",
    "y = y_train\n",
    "title = \"Learning Curves (Linear Regression)\"\n",
    "cv = ShuffleSplit(n_splits=100, test_size=0.25, random_state=0)\n",
    "estimator = LinearRegression()  # 线性回归模型\n",
    "plot_learn_curve(estimator, title, X, y, cv=cv)\n",
    "plt.savefig(\"./多元线性回归未降维数据学习曲线.png\", dpi=300, bbox_inches='tight')"
   ],
   "id": "1fb3de60525e5a4f"
  },
  {
   "metadata": {},
   "cell_type": "markdown",
   "source": "##### 4.3 模型预测",
   "id": "7b1b1abf431671e9"
  },
  {
   "metadata": {},
   "cell_type": "code",
   "outputs": [],
   "execution_count": null,
   "source": [
    "# 降维数据预测\n",
    "model = LinearRegression()\n",
    "model.fit(train_data_pca, target_data_pca)\n",
    "y_pred = model.predict(train_data_pca)\n",
    "np.savetxt(\"./多元线性回归模型预测（降维数据）.csv\", y_pred, delimiter=\",\")"
   ],
   "id": "323d622d1cb63fae"
  },
  {
   "metadata": {},
   "cell_type": "code",
   "outputs": [],
   "execution_count": null,
   "source": [
    "# 未降维数据预测\n",
    "model = LinearRegression()\n",
    "model.fit(train_data.drop('target', axis=1), train_data['target'])\n",
    "y_pred = model.predict(test_data)\n",
    "np.savetxt(\"./多元线性回归模型预测（未降维数据）.csv\", y_pred, delimiter=\",\")"
   ],
   "id": "5d52a7056af71de8"
  },
  {
   "metadata": {},
   "cell_type": "markdown",
   "source": "### 5 随机森林回归",
   "id": "a97b05d7d63cd1a1"
  },
  {
   "metadata": {},
   "cell_type": "markdown",
   "source": "##### 5.1 模型训练",
   "id": "febc9e0fdaa04b53"
  },
  {
   "metadata": {},
   "cell_type": "code",
   "outputs": [],
   "execution_count": null,
   "source": [
    "# 降维数据建模验证\n",
    "model = RandomForestRegressor(n_estimators=200, max_depth=10, max_features='sqrt', min_samples_leaf=10,\n",
    "                              min_samples_split=40, criterion='squared_error')\n",
    "model.fit(X_train_pca, y_train_pca)\n",
    "score = mean_squared_error(y_valid_pca, model.predict(X_valid_pca))\n",
    "print(\"RandomForestRegressor train score: \", score)"
   ],
   "id": "8a8c317792d48878"
  },
  {
   "metadata": {},
   "cell_type": "code",
   "outputs": [],
   "execution_count": null,
   "source": [
    "# 未降维数据建模验证\n",
    "model = RandomForestRegressor(n_estimators=200, max_depth=10, max_features='sqrt', min_samples_leaf=10,\n",
    "                              min_samples_split=40, criterion='squared_error')\n",
    "model.fit(X_train, y_train)\n",
    "score = mean_squared_error(y_valid, model.predict(X_valid))\n",
    "print(\"RandomForestRegressor train score: \", score)"
   ],
   "id": "8df0a70eb15c5745"
  },
  {
   "metadata": {},
   "cell_type": "markdown",
   "source": "##### 5.2 模型学习曲线",
   "id": "c2561b5594bbb71c"
  },
  {
   "metadata": {},
   "cell_type": "code",
   "outputs": [],
   "execution_count": null,
   "source": [
    "# 降维数据学习曲线\n",
    "X = X_train_pca\n",
    "y = y_train_pca\n",
    "title = \"Learning Curves (Random Forest)\"\n",
    "cv = ShuffleSplit(n_splits=100, test_size=0.25, random_state=0)\n",
    "estimator = RandomForestRegressor(n_estimators=200, max_depth=10, max_features='sqrt', min_samples_leaf=10,\n",
    "                                  min_samples_split=40, criterion='squared_error')  # 随机森林回归模型\n",
    "plot_learn_curve(estimator, title, X, y, cv=cv)\n",
    "plt.savefig(\"./随机森林回归降维数据学习曲线.png\", dpi=300, bbox_inches='tight')"
   ],
   "id": "d92c062d8de968dd"
  },
  {
   "metadata": {},
   "cell_type": "code",
   "outputs": [],
   "execution_count": null,
   "source": [
    "# 未降维数据学习曲线\n",
    "X = X_train\n",
    "y = y_train\n",
    "title = \"Learning Curves (Random Forest)\"\n",
    "cv = ShuffleSplit(n_splits=100, test_size=0.25, random_state=0)\n",
    "estimator = RandomForestRegressor(n_estimators=200, max_depth=10, max_features='sqrt', min_samples_leaf=10,\n",
    "                                  min_samples_split=40, criterion='squared_error')  # 随机森林回归模型\n",
    "plot_learn_curve(estimator, title, X, y, cv=cv)\n",
    "plt.savefig(\"./随机森林回归未降维数据学习曲线.png\", dpi=300, bbox_inches='tight')"
   ],
   "id": "be3d12bec1004fce"
  },
  {
   "metadata": {},
   "cell_type": "markdown",
   "source": "##### 5.3 模型预测",
   "id": "1b0d5555737b265"
  },
  {
   "metadata": {},
   "cell_type": "code",
   "outputs": [],
   "execution_count": null,
   "source": [
    "# 降维数据预测\n",
    "model = RandomForestRegressor(n_estimators=200, max_depth=10, max_features='sqrt', min_samples_leaf=10,\n",
    "                              min_samples_split=40, criterion='squared_error')\n",
    "model.fit(train_data_pca, target_data_pca)\n",
    "y_pred = model.predict(test_data_pca)\n",
    "np.savetxt(\"./随机森林回归模型预测（降维数据）.csv\", y_pred, delimiter=\",\")"
   ],
   "id": "4f6d94c3ecc3f333"
  },
  {
   "metadata": {},
   "cell_type": "code",
   "outputs": [],
   "execution_count": null,
   "source": [
    "# 未降维数据预测\n",
    "model = RandomForestRegressor(n_estimators=200, max_depth=10, max_features='sqrt', min_samples_leaf=10,\n",
    "                              min_samples_split=40, criterion='squared_error')\n",
    "model.fit(train_data.drop('target', axis=1), train_data['target'])\n",
    "y_pred = model.predict(test_data)\n",
    "np.savetxt(\"./随机森林回归模型预测（未降维数据）.csv\", y_pred, delimiter=\",\")"
   ],
   "id": "17e386560158cb51"
  },
  {
   "metadata": {},
   "cell_type": "markdown",
   "source": "### 6 SVR支持向量机回归",
   "id": "836cf698af94c242"
  },
  {
   "metadata": {},
   "cell_type": "markdown",
   "source": "##### 6.1 模型训练",
   "id": "b63cf26929236a5"
  },
  {
   "metadata": {},
   "cell_type": "code",
   "outputs": [],
   "execution_count": null,
   "source": [
    "# 降维数据建模验证\n",
    "model = SVR(kernel='rbf', C=1.0, gamma=0.01, tol=0.0001, epsilon=0.3)\n",
    "model.fit(X_train_pca, y_train_pca)\n",
    "score = mean_squared_error(y_valid_pca, model.predict(X_valid_pca))\n",
    "print(\"SVR train score: \", score)"
   ],
   "id": "8e677b11a9812d6e"
  },
  {
   "metadata": {},
   "cell_type": "code",
   "outputs": [],
   "execution_count": null,
   "source": [
    "# 未降维数据建模验证\n",
    "model = SVR(kernel='rbf')\n",
    "model.fit(X_train, y_train)\n",
    "score = mean_squared_error(y_valid, model.predict(X_valid))\n",
    "print(\"SVR train score: \", score)"
   ],
   "id": "f258254eeda74c06"
  },
  {
   "metadata": {},
   "cell_type": "markdown",
   "source": "##### 6.2 模型学习曲线",
   "id": "625b9c767df9872f"
  },
  {
   "metadata": {},
   "cell_type": "code",
   "outputs": [],
   "execution_count": null,
   "source": [
    "# 降维数据学习曲线\n",
    "X = X_train_pca\n",
    "y = y_train_pca\n",
    "title = \"Learning Curves (SVR)\"\n",
    "cv = ShuffleSplit(n_splits=100, test_size=0.25, random_state=0)\n",
    "estimator = SVR(kernel='rbf', C=1.0, gamma=0.01, tol=0.0001, epsilon=0.3)  # 支持向量机回归模型\n",
    "plot_learn_curve(estimator, title, X, y, cv=cv)\n",
    "plt.savefig(\"./SVR降维数据学习曲线.png\", dpi=300, bbox_inches='tight')"
   ],
   "id": "805e92e60271bb6e"
  },
  {
   "metadata": {},
   "cell_type": "code",
   "outputs": [],
   "execution_count": null,
   "source": [
    "# 未降维数据学习曲线\n",
    "X = X_train\n",
    "y = y_train\n",
    "title = \"Learning Curves (SVR)\"\n",
    "cv = ShuffleSplit(n_splits=100, test_size=0.25, random_state=0)\n",
    "estimator = SVR(kernel='rbf')  # 支持向量机回归模型\n",
    "plot_learn_curve(estimator, title, X, y, cv=cv)\n",
    "plt.savefig(\"./SVR未降维数据学习曲线.png\", dpi=300, bbox_inches='tight')"
   ],
   "id": "93d8d3233f3beadf"
  },
  {
   "metadata": {},
   "cell_type": "markdown",
   "source": "##### 6.3 模型预测",
   "id": "c4a6db8632967721"
  },
  {
   "metadata": {},
   "cell_type": "code",
   "outputs": [],
   "execution_count": null,
   "source": [
    "# 降维数据预测\n",
    "model = SVR(kernel='rbf', C=1.0, gamma=0.01, tol=0.0001, epsilon=0.3)\n",
    "model.fit(train_data_pca, target_data_pca)\n",
    "y_pred = model.predict(test_data_pca)\n",
    "np.savetxt(\"./SVR模型预测（降维数据）.csv\", y_pred, delimiter=\",\")"
   ],
   "id": "45d5af5465177848"
  },
  {
   "metadata": {},
   "cell_type": "code",
   "outputs": [],
   "execution_count": null,
   "source": [
    "# 未降维数据预测\n",
    "model = SVR(kernel='rbf')\n",
    "model.fit(train_data.drop('target', axis=1), train_data['target'])\n",
    "y_pred = model.predict(test_data)\n",
    "np.savetxt(\"./SVR模型预测（未降维数据）.csv\", y_pred, delimiter=\",\")"
   ],
   "id": "88bb45a2fc9965d"
  },
  {
   "metadata": {},
   "cell_type": "markdown",
   "source": "### 7 梯度提升回归",
   "id": "dd819c11d6a89bf7"
  },
  {
   "metadata": {},
   "cell_type": "markdown",
   "source": "##### 7.1 模型训练",
   "id": "f531a37835806e3b"
  },
  {
   "metadata": {},
   "cell_type": "code",
   "outputs": [],
   "execution_count": null,
   "source": [
    "# 降维数据建模验证\n",
    "model = GradientBoostingRegressor(n_estimators=300, max_depth=14, max_features='sqrt', min_samples_leaf=10,\n",
    "                                  min_samples_split=40, learning_rate=0.03, loss='huber', subsample=0.8)\n",
    "model.fit(X_train_pca, y_train_pca)\n",
    "score = mean_squared_error(y_valid_pca, model.predict(X_valid_pca))\n",
    "print(\"GradientBoostingRegressor train score: \", score)"
   ],
   "id": "d806b4aa5f69008d"
  },
  {
   "metadata": {},
   "cell_type": "code",
   "outputs": [],
   "execution_count": null,
   "source": [
    "# 未降维数据建模验证\n",
    "model = GradientBoostingRegressor(n_estimators=300, max_depth=14, max_features='sqrt', min_samples_leaf=10,\n",
    "                                  min_samples_split=40, learning_rate=0.03, loss='huber', subsample=0.8)\n",
    "model.fit(X_train, y_train)\n",
    "score = mean_squared_error(y_valid, model.predict(X_valid))\n",
    "print(\"GradientBoostingRegressor train score: \", score)"
   ],
   "id": "e4e7423afa06ea75"
  },
  {
   "metadata": {},
   "cell_type": "markdown",
   "source": "##### 7.2 模型学习曲线",
   "id": "d11e4b92de361678"
  },
  {
   "metadata": {},
   "cell_type": "code",
   "outputs": [],
   "execution_count": null,
   "source": [
    "# 降维数据学习曲线\n",
    "X = X_train_pca\n",
    "y = y_train_pca\n",
    "title = \"Learning Curves (Gradient Boosting)\"\n",
    "cv = ShuffleSplit(n_splits=100, test_size=0.25, random_state=0)\n",
    "estimator = GradientBoostingRegressor(n_estimators=300, max_depth=14, max_features='sqrt', min_samples_leaf=10,\n",
    "                                      min_samples_split=40, learning_rate=0.03, loss='huber', subsample=0.8)  # 梯度提升回归模型\n",
    "plot_learn_curve(estimator, title, X, y, cv=cv)\n",
    "plt.savefig(\"./梯度提升回归降维数据学习曲线.png\", dpi=300, bbox_inches='tight')"
   ],
   "id": "8c44308b821f49e5"
  },
  {
   "metadata": {},
   "cell_type": "code",
   "outputs": [],
   "execution_count": null,
   "source": [
    "# 未降维数据学习曲线\n",
    "X = X_train\n",
    "y = y_train\n",
    "title = \"Learning Curves (Gradient Boosting)\"\n",
    "cv = ShuffleSplit(n_splits=100, test_size=0.25, random_state=0)\n",
    "estimator = GradientBoostingRegressor(n_estimators=300, max_depth=14, max_features='sqrt', min_samples_leaf=10,\n",
    "                                      min_samples_split=40, learning_rate=0.03, loss='huber', subsample=0.8)  # 梯度提升回归模型\n",
    "plot_learn_curve(estimator, title, X, y, cv=cv)\n",
    "plt.savefig(\"./梯度提升回归未降维数据学习曲线.png\", dpi=300, bbox_inches='tight')"
   ],
   "id": "11d87e8958d67a91"
  },
  {
   "metadata": {},
   "cell_type": "markdown",
   "source": "##### 7.3 模型预测",
   "id": "2feaa1234898962"
  },
  {
   "metadata": {},
   "cell_type": "code",
   "outputs": [],
   "execution_count": null,
   "source": [
    "# 降维数据预测\n",
    "model = GradientBoostingRegressor(n_estimators=300, max_depth=14, max_features='sqrt', min_samples_leaf=10,\n",
    "                                  min_samples_split=40, learning_rate=0.03, loss='huber', subsample=0.8)\n",
    "model.fit(train_data_pca, target_data_pca)\n",
    "y_pred = model.predict(test_data_pca)\n",
    "np.savetxt(\"./梯度提升回归模型预测（降维数据）.csv\", y_pred, delimiter=\",\")"
   ],
   "id": "af0c8c27971d6263"
  },
  {
   "metadata": {},
   "cell_type": "code",
   "outputs": [],
   "execution_count": null,
   "source": [
    "# 未降维数据预测\n",
    "model = GradientBoostingRegressor(n_estimators=300, max_depth=14, max_features='sqrt', min_samples_leaf=10,\n",
    "                                  min_samples_split=40, learning_rate=0.03, loss='huber', subsample=0.8)\n",
    "model.fit(train_data.drop('target', axis=1), train_data['target'])\n",
    "y_pred = model.predict(test_data)\n",
    "np.savetxt(\"./梯度提升回归模型预测（未降维数据）.csv\", y_pred, delimiter=\",\")"
   ],
   "id": "cdc5bb1e0c4c7532"
  },
  {
   "metadata": {},
   "cell_type": "markdown",
   "source": "### 8 LightGBM",
   "id": "47f49386aa2dc32b"
  },
  {
   "metadata": {},
   "cell_type": "markdown",
   "source": "##### 8.1 模型训练",
   "id": "ca394ced12355d8a"
  },
  {
   "metadata": {},
   "cell_type": "code",
   "outputs": [],
   "execution_count": null,
   "source": [
    "# 降维数据建模验证\n",
    "model = lgb.LGBMRegressor(n_estimators=300, max_depth=5, max_bin=100, min_child_samples=10,\n",
    "                          min_child_weight=0.1, learning_rate=0.05, subsample=0.8, num_leaves=25, colsample_bytree=0.8,\n",
    "                          reg_alpha=0.5, reg_lambda=0.1)\n",
    "model.fit(train_data_pca, target_data_pca)\n",
    "score = mean_squared_error(y_valid_pca, model.predict(X_valid_pca))\n",
    "print(\"LightGBM train score: \", score)"
   ],
   "id": "1e89a0cd1d2f8f75"
  },
  {
   "metadata": {},
   "cell_type": "code",
   "outputs": [],
   "execution_count": null,
   "source": [
    "# 未降维数据建模验证\n",
    "model = lgb.LGBMRegressor(n_estimators=300, max_depth=5, max_bin=100, min_child_samples=10,\n",
    "                          min_child_weight=0.1, learning_rate=0.05, subsample=0.8, num_leaves=25, colsample_bytree=0.8,\n",
    "                          reg_alpha=0.5, reg_lambda=0.1)\n",
    "model.fit(train_data.drop('target', axis=1), train_data['target'])\n",
    "score = mean_squared_error(y_valid, model.predict(X_valid))\n",
    "print(\"LightGBM train score: \", score)"
   ],
   "id": "4db03a3b2dbfdb06"
  },
  {
   "metadata": {},
   "cell_type": "markdown",
   "source": "##### 8.2 模型学习曲线",
   "id": "460bf31e02b15542"
  },
  {
   "metadata": {},
   "cell_type": "code",
   "outputs": [],
   "execution_count": null,
   "source": [
    "# 降维数据学习曲线\n",
    "X = X_train_pca\n",
    "y = y_train_pca\n",
    "title = \"Learning Curves (LightGBM)\"\n",
    "cv = ShuffleSplit(n_splits=100, test_size=0.25, random_state=0)\n",
    "estimator = lgb.LGBMRegressor(n_estimators=300, max_depth=5, max_bin=100, min_child_samples=10,\n",
    "                              min_child_weight=0.1, learning_rate=0.05, subsample=0.8, num_leaves=25,\n",
    "                              colsample_bytree=0.8,\n",
    "                              reg_alpha=0.5, reg_lambda=0.1)  # LightGBM模型\n",
    "plot_learn_curve(estimator, title, X, y, cv=cv)\n",
    "plt.savefig(\"./LightGBM降维数据学习曲线.png\", dpi=300, bbox_inches='tight')"
   ],
   "id": "965d7ae1f22f158"
  },
  {
   "metadata": {},
   "cell_type": "code",
   "outputs": [],
   "execution_count": null,
   "source": [
    "# 未降维数据学习曲线\n",
    "X = X_train\n",
    "y = y_train\n",
    "title = \"Learning Curves (LightGBM)\"\n",
    "cv = ShuffleSplit(n_splits=100, test_size=0.25, random_state=0)\n",
    "estimator = lgb.LGBMRegressor(n_estimators=300, max_depth=5, max_bin=100, min_child_samples=10,\n",
    "                              min_child_weight=0.1, learning_rate=0.05, subsample=0.8, num_leaves=25,\n",
    "                              colsample_bytree=0.8,\n",
    "                              reg_alpha=0.5, reg_lambda=0.1)  # LightGBM模型\n",
    "plot_learn_curve(estimator, title, X, y, cv=cv)\n",
    "plt.savefig(\"LightGBM未降维数据学习曲线.png\", dpi=300, bbox_inches='tight')"
   ],
   "id": "c1ac9e4fd6d0b3d8"
  },
  {
   "metadata": {},
   "cell_type": "markdown",
   "source": "##### 8.3 模型预测",
   "id": "1335eb66f2dca39b"
  },
  {
   "metadata": {},
   "cell_type": "code",
   "outputs": [],
   "execution_count": null,
   "source": [
    "# 降维数据预测\n",
    "model = lgb.LGBMRegressor(n_estimators=300, max_depth=5, max_bin=100, min_child_samples=10,\n",
    "                          min_child_weight=0.1, learning_rate=0.05, subsample=0.8, num_leaves=25,\n",
    "                          colsample_bytree=0.8,\n",
    "                          reg_alpha=0.5, reg_lambda=0.1)\n",
    "model.fit(train_data_pca, target_data_pca)\n",
    "y_pred = model.predict(test_data_pca)\n",
    "np.savetxt(\"./lightGBM回归模型预测（降维数据）.csv\", y_pred, delimiter=\",\")"
   ],
   "id": "22b2c8990117d077"
  },
  {
   "metadata": {},
   "cell_type": "code",
   "outputs": [],
   "execution_count": null,
   "source": [
    "# 未降维数据预测\n",
    "model = lgb.LGBMRegressor(n_estimators=300, max_depth=5, max_bin=100, min_child_samples=10,\n",
    "                          min_child_weight=0.1, learning_rate=0.05, subsample=0.8, num_leaves=25,\n",
    "                          colsample_bytree=0.8,\n",
    "                          reg_alpha=0.5, reg_lambda=0.1)\n",
    "model.fit(train_data.drop('target', axis=1), train_data['target'])\n",
    "y_pred = model.predict(test_data)\n",
    "np.savetxt(\"./lightGBM回归模型预测（未降维数据）.csv\", y_pred, delimiter=\",\")"
   ],
   "id": "d3748854759e647a"
  },
  {
   "metadata": {},
   "cell_type": "markdown",
   "source": "### 9 Xgboost",
   "id": "ba5f344c7128b8f2"
  },
  {
   "metadata": {},
   "cell_type": "markdown",
   "source": "##### 9.1 模型训练",
   "id": "d88f0e12bf140758"
  },
  {
   "metadata": {},
   "cell_type": "code",
   "outputs": [],
   "execution_count": null,
   "source": [
    "# 降维数据\n",
    "model = XGBRegressor(n_estimators=300, max_depth=15, subsample=0.8, colsample_bytree=0.8, learning_rate=0.05, gamma=0,\n",
    "                     reg_alpha=0, reg_lambda=0, verbosity=1)\n",
    "model.fit(X_train_pca, y_train_pca)\n",
    "score = mean_squared_error(y_valid_pca, model.predict(X_valid_pca))\n",
    "print(\"XGB train score: \", score)"
   ],
   "id": "abb1a3e1056ada22"
  },
  {
   "metadata": {},
   "cell_type": "code",
   "outputs": [],
   "execution_count": null,
   "source": [
    "# 未降维数据\n",
    "model = XGBRegressor(n_estimators=300, max_depth=15, subsample=0.8, colsample_bytree=0.8, learning_rate=0.05, gamma=0,\n",
    "                     reg_alpha=0, reg_lambda=0, verbosity=1)\n",
    "model.fit(X_train, y_train)\n",
    "score = mean_squared_error(y_valid, model.predict(X_valid))\n",
    "print(\"XGB train score: \", score)"
   ],
   "id": "cf1610143849f4aa"
  },
  {
   "metadata": {},
   "cell_type": "markdown",
   "source": "##### 9.2 模型学习曲线",
   "id": "7b9cedfd44a090ea"
  },
  {
   "metadata": {},
   "cell_type": "code",
   "outputs": [],
   "execution_count": null,
   "source": [
    "# 降维数据学习曲线\n",
    "X = X_train_pca\n",
    "y = y_train_pca\n",
    "title = \"Learning Curves (XGB)\"\n",
    "cv = ShuffleSplit(n_splits=100, test_size=0.25, random_state=0)\n",
    "estimator = XGBRegressor(n_estimators=300, max_depth=15, subsample=0.8, colsample_bytree=0.8, learning_rate=0.05,\n",
    "                         gamma=0,\n",
    "                         reg_alpha=0, reg_lambda=0, verbosity=1)\n",
    "plot_learn_curve(estimator, title, X, y, cv=cv)\n",
    "plt.savefig(\"./Xgboost降维数据学习曲线\", dpi=300, bbox_inches='tight')"
   ],
   "id": "2768feb0d29471e"
  },
  {
   "metadata": {},
   "cell_type": "code",
   "outputs": [],
   "execution_count": null,
   "source": [
    "# 未降维数据学习曲线\n",
    "X = X_train\n",
    "y = y_train\n",
    "title = \"Learning Curves (XGB)\"\n",
    "cv = ShuffleSplit(n_splits=100, test_size=0.25, random_state=0)\n",
    "estimator = XGBRegressor(n_estimators=300, max_depth=15, subsample=0.8, colsample_bytree=0.8, learning_rate=0.05,\n",
    "                         gamma=0,\n",
    "                         reg_alpha=0, reg_lambda=0, verbosity=1)\n",
    "plot_learn_curve(estimator, title, X, y, cv=cv)\n",
    "plt.savefig(\"./Xgboost未降维数据学习曲线\", dpi=300, bbox_inches='tight')"
   ],
   "id": "be00294b25bc50ad"
  },
  {
   "metadata": {},
   "cell_type": "markdown",
   "source": "##### 9.3 模型预测",
   "id": "23d283fa746df404"
  },
  {
   "metadata": {},
   "cell_type": "code",
   "outputs": [],
   "execution_count": null,
   "source": [
    "# 降维数据\n",
    "model = XGBRegressor(n_estimators=300, max_depth=15, subsample=0.8, colsample_bytree=0.8, learning_rate=0.05,\n",
    "                     gamma=0,\n",
    "                     reg_alpha=0, reg_lambda=0, verbosity=1)\n",
    "model.fit(train_data_pca, target_data_pca)\n",
    "y_pred = model.predict(test_data_pca)\n",
    "np.savetxt(\"./Xgboost回归模型预测（降维数据）.csv\", y_pred, delimiter=\",\")"
   ],
   "id": "134dca6b2d6ee793"
  },
  {
   "metadata": {},
   "cell_type": "code",
   "outputs": [],
   "execution_count": null,
   "source": [
    "# 未降维数据\n",
    "model = XGBRegressor(n_estimators=300, max_depth=15, subsample=0.8, colsample_bytree=0.8, learning_rate=0.05,\n",
    "                     gamma=0,\n",
    "                     reg_alpha=0, reg_lambda=0, verbosity=1)\n",
    "model.fit(train_data.drop('target', axis=1), train_data['target'])\n",
    "y_pred = model.predict(test_data)\n",
    "np.savetxt(\"./Xgboost回归模型预测（未降维数据）.csv\", y_pred, delimiter=\",\")"
   ],
   "id": "f5ca231668419c25"
  }
 ],
 "metadata": {},
 "nbformat": 4,
 "nbformat_minor": 5
}
