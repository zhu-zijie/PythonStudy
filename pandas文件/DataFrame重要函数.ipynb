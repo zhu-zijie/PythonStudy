{
 "cells": [
  {
   "cell_type": "code",
   "id": "initial_id",
   "metadata": {
    "collapsed": true,
    "ExecuteTime": {
     "end_time": "2025-03-21T06:06:17.138038Z",
     "start_time": "2025-03-21T06:06:16.916644Z"
    }
   },
   "source": [
    "from itertools import count\n",
    "\n",
    "import pandas as pd\n",
    "data = [['小太阳', 320.9, 100], ['鼠标', 20.9, 200], ['键盘', 100.9, 300]]\n",
    "columns = ['商品', '价格', '销量']\n",
    "df = pd.DataFrame(data = data, columns = columns)\n",
    "print(df)"
   ],
   "outputs": [
    {
     "name": "stdout",
     "output_type": "stream",
     "text": [
      "    商品     价格   销量\n",
      "0  小太阳  320.9  100\n",
      "1   鼠标   20.9  200\n",
      "2   键盘  100.9  300\n"
     ]
    }
   ],
   "execution_count": 1
  },
  {
   "metadata": {
    "ExecuteTime": {
     "end_time": "2025-03-21T06:06:30.756320Z",
     "start_time": "2025-03-21T06:06:30.739822Z"
    }
   },
   "cell_type": "code",
   "source": "print(df.describe())",
   "id": "723d9984b531769b",
   "outputs": [
    {
     "name": "stdout",
     "output_type": "stream",
     "text": [
      "               价格     销量\n",
      "count    3.000000    3.0\n",
      "mean   147.566667  200.0\n",
      "std    155.349069  100.0\n",
      "min     20.900000  100.0\n",
      "25%     60.900000  150.0\n",
      "50%    100.900000  200.0\n",
      "75%    210.900000  250.0\n",
      "max    320.900000  300.0\n"
     ]
    }
   ],
   "execution_count": 2
  },
  {
   "metadata": {
    "ExecuteTime": {
     "end_time": "2025-03-21T06:07:40.012667Z",
     "start_time": "2025-03-21T06:07:40.008232Z"
    }
   },
   "cell_type": "code",
   "source": "print(df.count())",
   "id": "5d19a4ec55aa935b",
   "outputs": [
    {
     "name": "stdout",
     "output_type": "stream",
     "text": [
      "商品    3\n",
      "价格    3\n",
      "销量    3\n",
      "dtype: int64\n"
     ]
    }
   ],
   "execution_count": 5
  },
  {
   "metadata": {
    "ExecuteTime": {
     "end_time": "2025-03-21T06:08:27.741046Z",
     "start_time": "2025-03-21T06:08:27.738061Z"
    }
   },
   "cell_type": "code",
   "source": "print(df.sum())",
   "id": "2edabc332be4863a",
   "outputs": [
    {
     "name": "stdout",
     "output_type": "stream",
     "text": [
      "商品    小太阳鼠标键盘\n",
      "价格      442.7\n",
      "销量        600\n",
      "dtype: object\n"
     ]
    }
   ],
   "execution_count": 6
  },
  {
   "metadata": {
    "ExecuteTime": {
     "end_time": "2025-03-21T06:09:14.446235Z",
     "start_time": "2025-03-21T06:09:14.443017Z"
    }
   },
   "cell_type": "code",
   "source": "print(df.max())",
   "id": "88a651551cb333a2",
   "outputs": [
    {
     "name": "stdout",
     "output_type": "stream",
     "text": [
      "商品       鼠标\n",
      "价格    320.9\n",
      "销量      300\n",
      "dtype: object\n"
     ]
    }
   ],
   "execution_count": 7
  },
  {
   "metadata": {
    "ExecuteTime": {
     "end_time": "2025-03-21T06:10:45.182590Z",
     "start_time": "2025-03-21T06:10:45.175959Z"
    }
   },
   "cell_type": "code",
   "source": "print(df.min())",
   "id": "e00b01e2091b5d0c",
   "outputs": [
    {
     "name": "stdout",
     "output_type": "stream",
     "text": [
      "商品     小太阳\n",
      "价格    20.9\n",
      "销量     100\n",
      "dtype: object\n"
     ]
    }
   ],
   "execution_count": 8
  }
 ],
 "metadata": {
  "kernelspec": {
   "display_name": "Python 3",
   "language": "python",
   "name": "python3"
  },
  "language_info": {
   "codemirror_mode": {
    "name": "ipython",
    "version": 2
   },
   "file_extension": ".py",
   "mimetype": "text/x-python",
   "name": "python",
   "nbconvert_exporter": "python",
   "pygments_lexer": "ipython2",
   "version": "2.7.6"
  }
 },
 "nbformat": 4,
 "nbformat_minor": 5
}
