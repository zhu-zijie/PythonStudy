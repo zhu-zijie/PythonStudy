{
 "cells": [
  {
   "cell_type": "code",
   "id": "be7d251f-0329-4fe5-8197-4ff27e81b168",
   "metadata": {},
   "source": [
    "import pandas as pd\n",
    "data = [90, 89, 80]\n",
    "index = ['zhangsan', 'lisi', 'wangwu']\n",
    "s = pd.Series(data = data, index = index)\n",
    "print(s)"
   ],
   "outputs": [],
   "execution_count": null
  },
  {
   "cell_type": "code",
   "id": "b0a230ef-9542-4c19-8cc5-b52279437401",
   "metadata": {},
   "source": [
    "print(s['zhangsan'])\n"
   ],
   "outputs": [],
   "execution_count": null
  },
  {
   "cell_type": "code",
   "id": "f197805a-aa1b-4866-b52c-b9273940b24d",
   "metadata": {},
   "source": [
    "print(s[['zhangsan', 'lisi']])"
   ],
   "outputs": [],
   "execution_count": null
  },
  {
   "cell_type": "code",
   "id": "831d32db-3756-49d5-ac91-319f69e058e4",
   "metadata": {},
   "source": [
    "print(s[0:2:1])"
   ],
   "outputs": [],
   "execution_count": null
  },
  {
   "cell_type": "code",
   "id": "91f2d42c-d421-47fb-9c86-917d4f46db53",
   "metadata": {},
   "source": [
    "print(s.index)"
   ],
   "outputs": [],
   "execution_count": null
  },
  {
   "cell_type": "code",
   "id": "217168c6-147f-43f5-8fb7-b19a77719f8f",
   "metadata": {},
   "source": [
    "print(s.values)"
   ],
   "outputs": [],
   "execution_count": null
  },
  {
   "cell_type": "code",
   "id": "2e924658-9e46-4c75-ae93-7be92bfd045d",
   "metadata": {},
   "source": [],
   "outputs": [],
   "execution_count": null
  }
 ],
 "metadata": {
  "kernelspec": {
   "display_name": "Python 3 (ipykernel)",
   "language": "python",
   "name": "python3"
  },
  "language_info": {
   "codemirror_mode": {
    "name": "ipython",
    "version": 3
   },
   "file_extension": ".py",
   "mimetype": "text/x-python",
   "name": "python",
   "nbconvert_exporter": "python",
   "pygments_lexer": "ipython3",
   "version": "3.12.8"
  }
 },
 "nbformat": 4,
 "nbformat_minor": 5
}
