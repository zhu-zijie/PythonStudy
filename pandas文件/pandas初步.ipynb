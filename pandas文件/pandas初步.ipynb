{
 "cells": [
  {
   "cell_type": "code",
   "id": "be7d251f-0329-4fe5-8197-4ff27e81b168",
   "metadata": {
    "ExecuteTime": {
     "end_time": "2025-03-22T05:49:45.505198Z",
     "start_time": "2025-03-22T05:49:45.345204Z"
    }
   },
   "source": [
    "import pandas as pd\n",
    "data = [90, 89, 80]\n",
    "index = ['zhangsan', 'lisi', 'wangwu']\n",
    "s = pd.Series(data = data, index = index)\n",
    "print(s)"
   ],
   "outputs": [
    {
     "name": "stdout",
     "output_type": "stream",
     "text": [
      "zhangsan    90\n",
      "lisi        89\n",
      "wangwu      80\n",
      "dtype: int64\n"
     ]
    }
   ],
   "execution_count": 1
  },
  {
   "cell_type": "code",
   "id": "b0a230ef-9542-4c19-8cc5-b52279437401",
   "metadata": {
    "ExecuteTime": {
     "end_time": "2025-03-22T05:49:55.956428Z",
     "start_time": "2025-03-22T05:49:55.952976Z"
    }
   },
   "source": [
    "print(s['zhangsan'])\n"
   ],
   "outputs": [
    {
     "name": "stdout",
     "output_type": "stream",
     "text": [
      "90\n"
     ]
    }
   ],
   "execution_count": 2
  },
  {
   "cell_type": "code",
   "id": "f197805a-aa1b-4866-b52c-b9273940b24d",
   "metadata": {
    "ExecuteTime": {
     "end_time": "2025-03-22T05:50:00.946940Z",
     "start_time": "2025-03-22T05:50:00.943555Z"
    }
   },
   "source": [
    "print(s[['zhangsan', 'lisi']])"
   ],
   "outputs": [
    {
     "name": "stdout",
     "output_type": "stream",
     "text": [
      "zhangsan    90\n",
      "lisi        89\n",
      "dtype: int64\n"
     ]
    }
   ],
   "execution_count": 3
  },
  {
   "cell_type": "code",
   "id": "831d32db-3756-49d5-ac91-319f69e058e4",
   "metadata": {
    "ExecuteTime": {
     "end_time": "2025-03-22T05:50:03.773493Z",
     "start_time": "2025-03-22T05:50:03.770508Z"
    }
   },
   "source": [
    "print(s[0:2:1])"
   ],
   "outputs": [
    {
     "name": "stdout",
     "output_type": "stream",
     "text": [
      "zhangsan    90\n",
      "lisi        89\n",
      "dtype: int64\n"
     ]
    }
   ],
   "execution_count": 4
  },
  {
   "cell_type": "code",
   "id": "91f2d42c-d421-47fb-9c86-917d4f46db53",
   "metadata": {
    "ExecuteTime": {
     "end_time": "2025-03-22T05:50:07.732230Z",
     "start_time": "2025-03-22T05:50:07.729129Z"
    }
   },
   "source": [
    "print(s.index)"
   ],
   "outputs": [
    {
     "name": "stdout",
     "output_type": "stream",
     "text": [
      "Index(['zhangsan', 'lisi', 'wangwu'], dtype='object')\n"
     ]
    }
   ],
   "execution_count": 5
  },
  {
   "cell_type": "code",
   "execution_count": 12,
   "id": "217168c6-147f-43f5-8fb7-b19a77719f8f",
   "metadata": {},
   "outputs": [
    {
     "name": "stdout",
     "output_type": "stream",
     "text": [
      "[90 89 80]\n"
     ]
    }
   ],
   "source": [
    "print(s.values)"
   ]
  },
  {
   "cell_type": "code",
   "execution_count": null,
   "id": "2e924658-9e46-4c75-ae93-7be92bfd045d",
   "metadata": {},
   "outputs": [],
   "source": []
  }
 ],
 "metadata": {
  "kernelspec": {
   "display_name": "Python 3 (ipykernel)",
   "language": "python",
   "name": "python3"
  },
  "language_info": {
   "codemirror_mode": {
    "name": "ipython",
    "version": 3
   },
   "file_extension": ".py",
   "mimetype": "text/x-python",
   "name": "python",
   "nbconvert_exporter": "python",
   "pygments_lexer": "ipython3",
   "version": "3.12.8"
  }
 },
 "nbformat": 4,
 "nbformat_minor": 5
}
