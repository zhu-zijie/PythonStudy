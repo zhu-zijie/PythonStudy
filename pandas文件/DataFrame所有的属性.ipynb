{
 "cells": [
  {
   "cell_type": "code",
   "id": "initial_id",
   "metadata": {
    "collapsed": true,
    "ExecuteTime": {
     "end_time": "2025-03-21T05:51:50.554171Z",
     "start_time": "2025-03-21T05:51:50.549453Z"
    }
   },
   "source": [
    "import pandas as pd\n",
    "data = [['小太阳', 320.9, 100], ['鼠标', 20.9, 200], ['键盘', 100.9, 300]]\n",
    "columns = ['商品', '价格', '销量']\n",
    "df = pd.DataFrame(data = data, columns = columns)\n",
    "print(df)\n",
    "print('查看所有元素的值：', df.values)\n",
    "print('查看所有元素的类型：', df.dtypes)\n",
    "print('查看所有行名称：', list(df.index))\n",
    "df.index = [1, 2, 3]\n",
    "print(df)\n",
    "print('查看所有列索引：', df.columns)\n",
    "df.columns = ['商品名称', '商品价格', '商品销量']\n",
    "print(df)"
   ],
   "outputs": [
    {
     "name": "stdout",
     "output_type": "stream",
     "text": [
      "    商品     价格   销量\n",
      "0  小太阳  320.9  100\n",
      "1   鼠标   20.9  200\n",
      "2   键盘  100.9  300\n",
      "查看所有元素的值： [['小太阳' 320.9 100]\n",
      " ['鼠标' 20.9 200]\n",
      " ['键盘' 100.9 300]]\n",
      "查看所有元素的类型： 商品     object\n",
      "价格    float64\n",
      "销量      int64\n",
      "dtype: object\n",
      "查看所有行名称： [0, 1, 2]\n",
      "    商品     价格   销量\n",
      "1  小太阳  320.9  100\n",
      "2   鼠标   20.9  200\n",
      "3   键盘  100.9  300\n",
      "查看所有列索引： Index(['商品', '价格', '销量'], dtype='object')\n",
      "  商品名称   商品价格  商品销量\n",
      "1  小太阳  320.9   100\n",
      "2   鼠标   20.9   200\n",
      "3   键盘  100.9   300\n"
     ]
    }
   ],
   "execution_count": 3
  },
  {
   "metadata": {
    "ExecuteTime": {
     "end_time": "2025-03-21T05:55:42.846964Z",
     "start_time": "2025-03-21T05:55:42.841345Z"
    }
   },
   "cell_type": "code",
   "source": [
    "# 行列数据的转换\n",
    "pd.set_option('display.unicode.east_asian_width', True) # 设置列名对齐\n",
    "new_df = df.T\n",
    "print(new_df)\n",
    "print(\"查看前2条数据\\n\", df.head(2))\n",
    "print(\"查看后2条数据\\n\", df.tail(2))"
   ],
   "id": "cf75778dbe0286d6",
   "outputs": [
    {
     "name": "stdout",
     "output_type": "stream",
     "text": [
      "               1     2      3\n",
      "商品名称  小太阳  鼠标   键盘\n",
      "商品价格   320.9  20.9  100.9\n",
      "商品销量     100   200    300\n",
      "查看前2条数据\n",
      "   商品名称  商品价格  商品销量\n",
      "1   小太阳     320.9       100\n",
      "2     鼠标      20.9       200\n",
      "查看后2条数据\n",
      "   商品名称  商品价格  商品销量\n",
      "2     鼠标      20.9       200\n",
      "3     键盘     100.9       300\n"
     ]
    }
   ],
   "execution_count": 8
  },
  {
   "metadata": {
    "ExecuteTime": {
     "end_time": "2025-03-21T06:03:32.420321Z",
     "start_time": "2025-03-21T06:03:32.417837Z"
    }
   },
   "cell_type": "code",
   "source": "print(\"行：\", df.shape[0], \"列：\", df.shape[1])",
   "id": "7c14e9636faa4f72",
   "outputs": [
    {
     "name": "stdout",
     "output_type": "stream",
     "text": [
      "行： 3 列： 3\n"
     ]
    }
   ],
   "execution_count": 9
  },
  {
   "metadata": {
    "ExecuteTime": {
     "end_time": "2025-03-21T06:04:40.215225Z",
     "start_time": "2025-03-21T06:04:40.211742Z"
    }
   },
   "cell_type": "code",
   "source": "print(\"查看索引， 数据类型， 内存信息：\\n\", df.info)",
   "id": "a23bd7ec208fb878",
   "outputs": [
    {
     "name": "stdout",
     "output_type": "stream",
     "text": [
      "查看索引， 数据类型， 内存信息：\n",
      " <bound method DataFrame.info of   商品名称  商品价格  商品销量\n",
      "1   小太阳     320.9       100\n",
      "2     鼠标      20.9       200\n",
      "3     键盘     100.9       300>\n"
     ]
    }
   ],
   "execution_count": 11
  }
 ],
 "metadata": {
  "kernelspec": {
   "display_name": "Python 3",
   "language": "python",
   "name": "python3"
  },
  "language_info": {
   "codemirror_mode": {
    "name": "ipython",
    "version": 2
   },
   "file_extension": ".py",
   "mimetype": "text/x-python",
   "name": "python",
   "nbconvert_exporter": "python",
   "pygments_lexer": "ipython2",
   "version": "2.7.6"
  }
 },
 "nbformat": 4,
 "nbformat_minor": 5
}
