{
 "cells": [
  {
   "cell_type": "code",
   "id": "initial_id",
   "metadata": {
    "collapsed": true
   },
   "source": [
    "import pandas as pd\n",
    "data = [['小太阳', 320.9, 100], ['鼠标', 20.9, 200], ['键盘', 100.9, 300]]\n",
    "columns = ['商品', '价格', '销量']\n",
    "df = pd.DataFrame(data = data, columns = columns)\n",
    "print(df)\n",
    "print('查看所有元素的值：', df.values)\n",
    "print('查看所有元素的类型：', df.dtypes)\n",
    "print('查看所有行名称：', list(df.index))zx\n",
    "df.index = [1, 2, 3]\n",
    "print(df)\n",
    "print('查看所有列索引：', df.columns)\n",
    "df.columns = ['商品名称', '商品价格', '商品销量']\n",
    "print(df)"
   ],
   "outputs": [],
   "execution_count": null
  },
  {
   "metadata": {},
   "cell_type": "code",
   "source": [
    "# 行列数据的转换\n",
    "pd.set_option('display.unicode.east_asian_width', True) # 设置列名对齐\n",
    "new_df = df.T\n",
    "print(new_df)\n",
    "print(\"查看前2条数据\\n\", df.head(2))\n",
    "print(\"查看后2条数据\\n\", df.tail(2))"
   ],
   "id": "cf75778dbe0286d6",
   "outputs": [],
   "execution_count": null
  },
  {
   "metadata": {},
   "cell_type": "code",
   "source": "print(\"行：\", df.shape[0], \"列：\", df.shape[1])",
   "id": "7c14e9636faa4f72",
   "outputs": [],
   "execution_count": null
  },
  {
   "metadata": {},
   "cell_type": "code",
   "source": "print(\"查看索引， 数据类型， 内存信息：\\n\", df.info)",
   "id": "a23bd7ec208fb878",
   "outputs": [],
   "execution_count": null
  }
 ],
 "metadata": {
  "kernelspec": {
   "display_name": "Python 3",
   "language": "python",
   "name": "python3"
  },
  "language_info": {
   "codemirror_mode": {
    "name": "ipython",
    "version": 2
   },
   "file_extension": ".py",
   "mimetype": "text/x-python",
   "name": "python",
   "nbconvert_exporter": "python",
   "pygments_lexer": "ipython2",
   "version": "2.7.6"
  }
 },
 "nbformat": 4,
 "nbformat_minor": 5
}
