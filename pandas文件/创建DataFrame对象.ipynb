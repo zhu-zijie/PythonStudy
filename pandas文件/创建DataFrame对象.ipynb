{
 "cells": [
  {
   "cell_type": "code",
   "id": "initial_id",
   "metadata": {
    "collapsed": true,
    "ExecuteTime": {
     "end_time": "2025-03-22T05:45:43.437768Z",
     "start_time": "2025-03-22T05:45:42.528705Z"
    }
   },
   "source": [
    "# 列表方式创建DataFrame对象\n",
    "import pandas as pd\n",
    "data = [['小太阳', 320.9, 100], ['鼠标', 20.9, 200], ['键盘', 100.9, 300]]\n",
    "columns = ['商品', '价格', '销量']\n",
    "df = pd.DataFrame(data = data, columns = columns)\n",
    "print(df)\n",
    "print(type(df))"
   ],
   "outputs": [
    {
     "name": "stdout",
     "output_type": "stream",
     "text": [
      "    商品     价格   销量\n",
      "0  小太阳  320.9  100\n",
      "1   鼠标   20.9  200\n",
      "2   键盘  100.9  300\n",
      "<class 'pandas.core.frame.DataFrame'>\n"
     ]
    }
   ],
   "execution_count": 1
  },
  {
   "metadata": {
    "ExecuteTime": {
     "end_time": "2025-03-21T05:42:29.498491Z",
     "start_time": "2025-03-21T05:42:29.493874Z"
    }
   },
   "cell_type": "code",
   "source": [
    "# 字典方式创建DataFrame对象\n",
    "data = {'商品': ['小太阳', '鼠标', '键盘'], '价格': [320.9, 20.9, 100.9], '销量': [100, 200, 300], '公司名称': '智慧生活'}\n",
    "df = pd.DataFrame(data = data)\n",
    "print(df)"
   ],
   "id": "a3afed8bd23066b1",
   "outputs": [
    {
     "name": "stdout",
     "output_type": "stream",
     "text": [
      "    商品     价格   销量  公司名称\n",
      "0  小太阳  320.9  100  智慧生活\n",
      "1   鼠标   20.9  200  智慧生活\n",
      "2   键盘  100.9  300  智慧生活\n"
     ]
    }
   ],
   "execution_count": 7
  },
  {
   "metadata": {
    "ExecuteTime": {
     "end_time": "2025-03-21T05:44:43.764009Z",
     "start_time": "2025-03-21T05:44:43.760489Z"
    }
   },
   "cell_type": "code",
   "source": "print(df)",
   "id": "2bce25faf31688aa",
   "outputs": [
    {
     "name": "stdout",
     "output_type": "stream",
     "text": [
      "    商品     价格   销量  公司名称\n",
      "0  小太阳  320.9  100  智慧生活\n",
      "1   鼠标   20.9  200  智慧生活\n",
      "2   键盘  100.9  300  智慧生活\n"
     ]
    }
   ],
   "execution_count": 9
  }
 ],
 "metadata": {
  "kernelspec": {
   "display_name": "Python 3",
   "language": "python",
   "name": "python3"
  },
  "language_info": {
   "codemirror_mode": {
    "name": "ipython",
    "version": 2
   },
   "file_extension": ".py",
   "mimetype": "text/x-python",
   "name": "python",
   "nbconvert_exporter": "python",
   "pygments_lexer": "ipython2",
   "version": "2.7.6"
  }
 },
 "nbformat": 4,
 "nbformat_minor": 5
}
