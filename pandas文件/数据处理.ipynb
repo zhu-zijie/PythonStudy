{
 "cells": [
  {
   "metadata": {},
   "cell_type": "code",
   "source": [
    "import pandas as pd\n",
    "\n",
    "data = [7898, 8769, 6745, 9876, 3456]\n",
    "index = [1, 2, 3, 4, 5]\n",
    "df = pd.DataFrame(data=data, index=index, columns=['Xiaomi'])\n",
    "df['销量差'] = df['Xiaomi'] - df['Xiaomi'].shift(1)\n",
    "print(df)"
   ],
   "id": "f415ccec7ee3f4c3",
   "outputs": [],
   "execution_count": null
  },
  {
   "metadata": {},
   "cell_type": "code",
   "source": [
    "import pandas as pd\n",
    "\n",
    "data = {\n",
    "    'a': [1, 2, 3, 4],\n",
    "    'b': [(1, 2), (2, 3), (3, 4), (4, 5)]\n",
    "}\n",
    "index = [1, 2]\n",
    "df = pd.DataFrame(data=data)\n",
    "# df[['b1', 'b2']] = df['b'].apply(pd.Series)\n",
    "df = df.join(df['b'].apply(pd.Series))\n",
    "df"
   ],
   "id": "8b9ce04355dc8ae",
   "outputs": [],
   "execution_count": null
  },
  {
   "metadata": {},
   "cell_type": "code",
   "source": [
    "import pandas as pd\n",
    "\n",
    "df = pd.DataFrame(\n",
    "    {\n",
    "        '编号': ['1001', '1002', '1003'],\n",
    "        '姓名': ['张三', '李四', '王五'],\n",
    "        '总成绩': [300, 280, 310]\n",
    "    }\n",
    ")\n",
    "df.to_csv('test.csv', index=False, columns=['编号', '总成绩'])"
   ],
   "id": "42fb8a4d4d519f04",
   "outputs": [],
   "execution_count": null
  },
  {
   "metadata": {},
   "cell_type": "code",
   "source": [
    "import pandas as pd\n",
    "\n",
    "df = pd.DataFrame(\n",
    "    {\n",
    "        '编号': ['1001', '1002', '1003'],\n",
    "        '姓名': ['张三', '李四', '王五'],\n",
    "        '总成绩': [300, 280, 310]\n",
    "    }\n",
    ")\n",
    "# 打开一个Excel文件\n",
    "work = pd.ExcelWriter('test.xlsx')\n",
    "df.to_excel(work, sheet_name='学生成绩信息', index=False)\n",
    "df[['姓名', '总成绩']].to_excel(work, sheet_name='成绩表', index=False)\n",
    "# 保存文件\n",
    "work.close()"
   ],
   "id": "60761e395bdf07c7",
   "outputs": [],
   "execution_count": null
  }
 ],
 "metadata": {
  "kernelspec": {
   "display_name": "Python 3",
   "language": "python",
   "name": "python3"
  },
  "language_info": {
   "codemirror_mode": {
    "name": "ipython",
    "version": 2
   },
   "file_extension": ".py",
   "mimetype": "text/x-python",
   "name": "python",
   "nbconvert_exporter": "python",
   "pygments_lexer": "ipython2",
   "version": "2.7.6"
  }
 },
 "nbformat": 4,
 "nbformat_minor": 5
}
