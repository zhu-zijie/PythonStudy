{
 "cells": [
  {
   "cell_type": "code",
   "execution_count": null,
   "id": "initial_id",
   "metadata": {
    "collapsed": true
   },
   "outputs": [],
   "source": [
    "# 将各种日期字符串转成日期格式\n",
    "import pandas as pd\n",
    "\n",
    "df = pd.DataFrame({\n",
    "    'date_old': ['2023-10-01', '2023/10/02', '2023.10.03', '20231004', '2023年10月05日']\n",
    "})\n",
    "# 先处理中文日期格式\n",
    "df['date_old'] = df['date_old'].str.replace('年', '-').str.replace('月', '-').str.replace('日', '')\n",
    "# 然后转换\n",
    "df['date_new'] = pd.to_datetime(df['date_old'], format='mixed')\n",
    "df"
   ]
  },
  {
   "cell_type": "code",
   "execution_count": null,
   "id": "7e2fb83563565771",
   "metadata": {},
   "outputs": [],
   "source": [
    "import pandas as pd\n",
    "\n",
    "df = pd.DataFrame({\n",
    "    'year': [2023, 2024, 2025],\n",
    "    'month': [1, 3, 5],\n",
    "    'day': [10, 20, 30],\n",
    "    'hour': [13, 14, 15],\n",
    "    'minute': [10, 20, 30],\n",
    "    'second': [15, 25, 35]\n",
    "})\n",
    "\n",
    "df['date'] = pd.to_datetime(df)\n",
    "# 提取年\n",
    "df['年'] = df['date'].dt.year\n",
    "# 提取月\n",
    "df['月'] = df['date'].dt.month\n",
    "# 提取日\n",
    "df['日'] = df['date'].dt.day\n",
    "# 提取星期\n",
    "df['星期'] = df['date'].dt.day_name()\n",
    "# 提取季度\n",
    "df['季度'] = df['date'].dt.quarter\n",
    "# 判断是否年底\n",
    "df['年底'] = df['date'].dt.is_year_end\n",
    "df"
   ]
  },
  {
   "cell_type": "code",
   "execution_count": null,
   "id": "636e2e868dcc24eb",
   "metadata": {},
   "outputs": [],
   "source": [
    "# data_range()函数的使用\n",
    "import pandas as pd\n",
    "\n",
    "pd.date_range('2025-01-01', periods=10, freq='W')"
   ]
  },
  {
   "cell_type": "code",
   "execution_count": null,
   "id": "be8be8e7c2ae6e9b",
   "metadata": {},
   "outputs": [],
   "source": [
    "# 将一分钟时间序列转换成三分钟时间序列\n",
    "import pandas as pd\n",
    "\n",
    "index = pd.date_range('2025-01-01', periods=12, freq='min')\n",
    "s = pd.Series(data=range(12), index=index, name='Value')\n",
    "s.resample(rule='3min').sum()"
   ]
  },
  {
   "cell_type": "code",
   "execution_count": null,
   "id": "5e5de38e65d2913c",
   "metadata": {},
   "outputs": [],
   "source": [
    "# 创建淘宝的每日销量数据\n",
    "import pandas as pd\n",
    "\n",
    "index = pd.date_range('2025-01-01', periods=12, freq='D')\n",
    "data = [100, 200, 300, 400, 500, 600, 700, 800, 900, 1000, 1100, 1200]\n",
    "s = pd.Series(data=data, index=index, name='销量')\n",
    "# 使用rolling()函数计算每三天的销量平均值\n",
    "s.rolling(window=3, min_periods=1).mean()"
   ]
  }
 ],
 "metadata": {
  "kernelspec": {
   "display_name": "Python 3",
   "language": "python",
   "name": "python3"
  },
  "language_info": {
   "codemirror_mode": {
    "name": "ipython",
    "version": 3
   },
   "file_extension": ".py",
   "mimetype": "text/x-python",
   "name": "python",
   "nbconvert_exporter": "python",
   "pygments_lexer": "ipython3",
   "version": "3.12.8"
  }
 },
 "nbformat": 4,
 "nbformat_minor": 5
}
