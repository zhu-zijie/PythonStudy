{
 "cells": [
  {
   "cell_type": "code",
   "id": "initial_id",
   "metadata": {
    "collapsed": true,
    "ExecuteTime": {
     "end_time": "2025-04-18T09:12:39.891690Z",
     "start_time": "2025-04-18T09:12:39.888769Z"
    }
   },
   "source": [
    "# 数据导入\n",
    "import pandas as pd\n",
    "import warnings, gc\n",
    "\n",
    "from sklearn.model_selection import train_test_split  # 划分数据集\n",
    "from sklearn.model_selection import StratifiedKFold  # 分层k折交叉验证\n",
    "from xgboost.callback import EarlyStopping\n",
    "\n",
    "import lightgbm as lgb\n",
    "import xgboost as xgb\n",
    "\n",
    "warnings.filterwarnings('ignore')"
   ],
   "outputs": [],
   "execution_count": 64
  },
  {
   "metadata": {},
   "cell_type": "code",
   "source": [
    "# 数据加载\n",
    "# 用户行为日志\n",
    "user_log = pd.read_csv('/Users/zhuzijie/Downloads/data_format1/user_log_format1.csv')\n",
    "# 用户画像\n",
    "user_info = pd.read_csv('/Users/zhuzijie/Downloads/data_format1/user_info_format1.csv')\n",
    "# 训练数据和测试数据\n",
    "train_data = pd.read_csv('/Users/zhuzijie/Downloads/data_format1/train_format1.csv')\n",
    "test_data = pd.read_csv('/Users/zhuzijie/Downloads/data_format1/test_format1.csv')"
   ],
   "id": "cab20809e1abac25",
   "outputs": [],
   "execution_count": null
  },
  {
   "metadata": {},
   "cell_type": "code",
   "source": [
    "# 查看数据\n",
    "# print('-- data shape --')\n",
    "# for data in [user_log, user_info, train_data, test_data]:\n",
    "#     print(data.shape)\n",
    "\n",
    "print('-- data info --')\n",
    "for data in [user_log, user_info, train_data, test_data]:\n",
    "    print(data.info())"
   ],
   "id": "189013724d3934e4",
   "outputs": [],
   "execution_count": null
  },
  {
   "metadata": {
    "ExecuteTime": {
     "end_time": "2025-04-18T05:25:55.443062Z",
     "start_time": "2025-04-18T05:25:55.359426Z"
    }
   },
   "cell_type": "code",
   "source": [
    "# 数据集成\n",
    "train_data['origin'] = 'train'\n",
    "test_data['origin'] = 'test'\n",
    "\n",
    "# 合并数据集\n",
    "all_data = pd.concat([train_data, test_data], ignore_index=True, sort=False)\n",
    "all_data.drop(['prob'], axis=1, inplace=True)\n",
    "\n",
    "# 连接user_info，通过user_id连接\n",
    "all_data = all_data.merge(user_info, on='user_id', how='left')\n",
    "\n",
    "# 修改user_log表的seller_id列名\n",
    "user_log.rename(columns={'seller_id': 'merchant_id'}, inplace=True)\n",
    "\n",
    "del train_data, test_data, user_info\n",
    "gc.collect()"
   ],
   "id": "cfba736c4b8566ab",
   "outputs": [
    {
     "data": {
      "text/plain": [
       "705"
      ]
     },
     "execution_count": 4,
     "metadata": {},
     "output_type": "execute_result"
    }
   ],
   "execution_count": 4
  },
  {
   "metadata": {
    "ExecuteTime": {
     "end_time": "2025-04-18T05:26:01.203496Z",
     "start_time": "2025-04-18T05:26:00.073250Z"
    }
   },
   "cell_type": "code",
   "source": [
    "# 数据类型转换\n",
    "user_log['user_id'] = user_log['user_id'].astype('int32')\n",
    "user_log['item_id'] = user_log['item_id'].astype('int32')\n",
    "user_log['cat_id'] = user_log['cat_id'].astype('int32')\n",
    "user_log['merchant_id'] = user_log['merchant_id'].astype('int32')\n",
    "user_log.fillna({'brand_id': 0}, inplace=True)\n",
    "user_log['brand_id'] = user_log['brand_id'].astype('int32')\n",
    "user_log['time_stamp'] = pd.to_datetime(user_log['time_stamp'], format='%H%M')\n",
    "user_log['action_type'] = user_log['action_type'].astype('int8')\n",
    "user_log.head()"
   ],
   "id": "799beecd2595aac0",
   "outputs": [
    {
     "data": {
      "text/plain": [
       "   user_id  item_id  cat_id  merchant_id  brand_id          time_stamp  \\\n",
       "0   328862   323294     833         2882      2661 1900-01-01 08:29:00   \n",
       "1   328862   844400    1271         2882      2661 1900-01-01 08:29:00   \n",
       "2   328862   575153    1271         2882      2661 1900-01-01 08:29:00   \n",
       "3   328862   996875    1271         2882      2661 1900-01-01 08:29:00   \n",
       "4   328862  1086186    1271         1253      1049 1900-01-01 08:29:00   \n",
       "\n",
       "   action_type  \n",
       "0            0  \n",
       "1            0  \n",
       "2            0  \n",
       "3            0  \n",
       "4            0  "
      ],
      "text/html": [
       "<div>\n",
       "<style scoped>\n",
       "    .dataframe tbody tr th:only-of-type {\n",
       "        vertical-align: middle;\n",
       "    }\n",
       "\n",
       "    .dataframe tbody tr th {\n",
       "        vertical-align: top;\n",
       "    }\n",
       "\n",
       "    .dataframe thead th {\n",
       "        text-align: right;\n",
       "    }\n",
       "</style>\n",
       "<table border=\"1\" class=\"dataframe\">\n",
       "  <thead>\n",
       "    <tr style=\"text-align: right;\">\n",
       "      <th></th>\n",
       "      <th>user_id</th>\n",
       "      <th>item_id</th>\n",
       "      <th>cat_id</th>\n",
       "      <th>merchant_id</th>\n",
       "      <th>brand_id</th>\n",
       "      <th>time_stamp</th>\n",
       "      <th>action_type</th>\n",
       "    </tr>\n",
       "  </thead>\n",
       "  <tbody>\n",
       "    <tr>\n",
       "      <th>0</th>\n",
       "      <td>328862</td>\n",
       "      <td>323294</td>\n",
       "      <td>833</td>\n",
       "      <td>2882</td>\n",
       "      <td>2661</td>\n",
       "      <td>1900-01-01 08:29:00</td>\n",
       "      <td>0</td>\n",
       "    </tr>\n",
       "    <tr>\n",
       "      <th>1</th>\n",
       "      <td>328862</td>\n",
       "      <td>844400</td>\n",
       "      <td>1271</td>\n",
       "      <td>2882</td>\n",
       "      <td>2661</td>\n",
       "      <td>1900-01-01 08:29:00</td>\n",
       "      <td>0</td>\n",
       "    </tr>\n",
       "    <tr>\n",
       "      <th>2</th>\n",
       "      <td>328862</td>\n",
       "      <td>575153</td>\n",
       "      <td>1271</td>\n",
       "      <td>2882</td>\n",
       "      <td>2661</td>\n",
       "      <td>1900-01-01 08:29:00</td>\n",
       "      <td>0</td>\n",
       "    </tr>\n",
       "    <tr>\n",
       "      <th>3</th>\n",
       "      <td>328862</td>\n",
       "      <td>996875</td>\n",
       "      <td>1271</td>\n",
       "      <td>2882</td>\n",
       "      <td>2661</td>\n",
       "      <td>1900-01-01 08:29:00</td>\n",
       "      <td>0</td>\n",
       "    </tr>\n",
       "    <tr>\n",
       "      <th>4</th>\n",
       "      <td>328862</td>\n",
       "      <td>1086186</td>\n",
       "      <td>1271</td>\n",
       "      <td>1253</td>\n",
       "      <td>1049</td>\n",
       "      <td>1900-01-01 08:29:00</td>\n",
       "      <td>0</td>\n",
       "    </tr>\n",
       "  </tbody>\n",
       "</table>\n",
       "</div>"
      ]
     },
     "execution_count": 5,
     "metadata": {},
     "output_type": "execute_result"
    }
   ],
   "execution_count": 5
  },
  {
   "metadata": {
    "ExecuteTime": {
     "end_time": "2025-04-18T05:26:05.610218Z",
     "start_time": "2025-04-18T05:26:05.589310Z"
    }
   },
   "cell_type": "code",
   "source": [
    "# all_data数据填充\n",
    "all_data.fillna({'age_range': 0}, inplace=True)\n",
    "all_data.fillna({'gender': 2}, inplace=True)\n",
    "all_data.isnull().sum()"
   ],
   "id": "534fd080215cde13",
   "outputs": [
    {
     "data": {
      "text/plain": [
       "user_id             0\n",
       "merchant_id         0\n",
       "label          261477\n",
       "origin              0\n",
       "age_range           0\n",
       "gender              0\n",
       "dtype: int64"
      ]
     },
     "execution_count": 6,
     "metadata": {},
     "output_type": "execute_result"
    }
   ],
   "execution_count": 6
  },
  {
   "metadata": {
    "ExecuteTime": {
     "end_time": "2025-04-18T05:26:09.684736Z",
     "start_time": "2025-04-18T05:26:09.590984Z"
    }
   },
   "cell_type": "code",
   "source": [
    "# all_data表的数据类型转换\n",
    "all_data['user_id'] = all_data['user_id'].astype('int32')\n",
    "all_data['merchant_id'] = all_data['merchant_id'].astype('int32')\n",
    "all_data['label'] = all_data['label'].astype('str')\n",
    "all_data['age_range'] = all_data['age_range'].astype('int8')\n",
    "all_data['gender'] = all_data['gender'].astype('int8')\n",
    "all_data.info()"
   ],
   "id": "489475c3d0db6fb0",
   "outputs": [
    {
     "name": "stdout",
     "output_type": "stream",
     "text": [
      "<class 'pandas.core.frame.DataFrame'>\n",
      "RangeIndex: 522341 entries, 0 to 522340\n",
      "Data columns (total 6 columns):\n",
      " #   Column       Non-Null Count   Dtype \n",
      "---  ------       --------------   ----- \n",
      " 0   user_id      522341 non-null  int32 \n",
      " 1   merchant_id  522341 non-null  int32 \n",
      " 2   label        522341 non-null  object\n",
      " 3   origin       522341 non-null  object\n",
      " 4   age_range    522341 non-null  int8  \n",
      " 5   gender       522341 non-null  int8  \n",
      "dtypes: int32(2), int8(2), object(2)\n",
      "memory usage: 13.0+ MB\n"
     ]
    }
   ],
   "execution_count": 7
  },
  {
   "metadata": {
    "ExecuteTime": {
     "end_time": "2025-04-18T05:26:33.178972Z",
     "start_time": "2025-04-18T05:26:15.124502Z"
    }
   },
   "cell_type": "code",
   "source": [
    "# 用户特征工程\n",
    "groups = user_log.groupby(['user_id'])\n",
    "\n",
    "# 用户交互行为数量\n",
    "temp = groups.size().reset_index().rename(columns={0: 'u1'})\n",
    "all_data = all_data.merge(temp, on='user_id', how='left')\n",
    "\n",
    "temp = groups['item_id'].nunique().reset_index(name='u2')\n",
    "all_data = all_data.merge(temp, on='user_id', how='left')\n",
    "\n",
    "temp = groups['cat_id'].nunique().reset_index(name='u3')\n",
    "all_data = all_data.merge(temp, on='user_id', how='left')\n",
    "\n",
    "temp = groups['merchant_id'].nunique().reset_index(name='u4')\n",
    "all_data = all_data.merge(temp, on='user_id', how='left')\n",
    "\n",
    "temp = groups['brand_id'].nunique().reset_index(name='u5')\n",
    "all_data = all_data.merge(temp, on='user_id', how='left')\n",
    "\n",
    "# 购物时间间隔特征\n",
    "temp = groups['time_stamp'].agg([('u6', lambda x: (x.max() - x.min()).seconds // 3600)]).reset_index()\n",
    "all_data = all_data.merge(temp, on='user_id', how='left')\n",
    "\n",
    "# 统计操作类型为0，1，2，3的个数\n",
    "temp = groups['action_type'].value_counts().unstack().reset_index()\n",
    "temp.rename(columns={0: 'u7', 1: 'u8', 2: 'u9', 3: 'u10'}, inplace=True)\n",
    "all_data = all_data.merge(temp, on='user_id', how='left')\n",
    "\n",
    "del temp, groups\n",
    "gc.collect()"
   ],
   "id": "29cbedf99be7cbe",
   "outputs": [
    {
     "data": {
      "text/plain": [
       "0"
      ]
     },
     "execution_count": 8,
     "metadata": {},
     "output_type": "execute_result"
    }
   ],
   "execution_count": 8
  },
  {
   "metadata": {
    "ExecuteTime": {
     "end_time": "2025-04-18T05:27:09.074589Z",
     "start_time": "2025-04-18T05:27:09.066182Z"
    }
   },
   "cell_type": "code",
   "source": [
    "# 在特征工程前，移除可能存在的特征列\n",
    "# feature_cols = ['m1', 'm2', 'm3', 'm4', 'm5']\n",
    "# existing_cols = [col for col in feature_cols if col in all_data.columns]\n",
    "# if existing_cols:\n",
    "#     all_data = all_data.drop(existing_cols, axis=1)\n",
    "\n",
    "all_data.head()"
   ],
   "id": "3dae783e36dbc7d1",
   "outputs": [
    {
     "data": {
      "text/plain": [
       "   user_id  merchant_id label origin  age_range  gender   u1   u2  u3   u4  \\\n",
       "0    34176         3906   0.0  train          6       0  451  256  45  109   \n",
       "1    34176          121   0.0  train          6       0  451  256  45  109   \n",
       "2    34176         4356   1.0  train          6       0  451  256  45  109   \n",
       "3    34176         2217   0.0  train          6       0  451  256  45  109   \n",
       "4   230784         4818   0.0  train          0       0   54   31  17   20   \n",
       "\n",
       "   ...  u10     m1     m2    m3  m4  m5       m6     m7      m8      m9  \n",
       "0  ...  7.0  16269   5819   308  20   2  14870.0   28.0   410.0   961.0  \n",
       "1  ...  7.0  79865  10931  1179  26   2  72265.0  121.0  4780.0  2699.0  \n",
       "2  ...  7.0   7269   2281    67  15   2   6094.0   16.0   963.0   196.0  \n",
       "3  ...  7.0  60202  16870   377   5   2  52230.0  101.0  3721.0  4150.0  \n",
       "4  ...  NaN  48089   7500   461  27   2  43268.0  129.0  2733.0  1959.0  \n",
       "\n",
       "[5 rows x 25 columns]"
      ],
      "text/html": [
       "<div>\n",
       "<style scoped>\n",
       "    .dataframe tbody tr th:only-of-type {\n",
       "        vertical-align: middle;\n",
       "    }\n",
       "\n",
       "    .dataframe tbody tr th {\n",
       "        vertical-align: top;\n",
       "    }\n",
       "\n",
       "    .dataframe thead th {\n",
       "        text-align: right;\n",
       "    }\n",
       "</style>\n",
       "<table border=\"1\" class=\"dataframe\">\n",
       "  <thead>\n",
       "    <tr style=\"text-align: right;\">\n",
       "      <th></th>\n",
       "      <th>user_id</th>\n",
       "      <th>merchant_id</th>\n",
       "      <th>label</th>\n",
       "      <th>origin</th>\n",
       "      <th>age_range</th>\n",
       "      <th>gender</th>\n",
       "      <th>u1</th>\n",
       "      <th>u2</th>\n",
       "      <th>u3</th>\n",
       "      <th>u4</th>\n",
       "      <th>...</th>\n",
       "      <th>u10</th>\n",
       "      <th>m1</th>\n",
       "      <th>m2</th>\n",
       "      <th>m3</th>\n",
       "      <th>m4</th>\n",
       "      <th>m5</th>\n",
       "      <th>m6</th>\n",
       "      <th>m7</th>\n",
       "      <th>m8</th>\n",
       "      <th>m9</th>\n",
       "    </tr>\n",
       "  </thead>\n",
       "  <tbody>\n",
       "    <tr>\n",
       "      <th>0</th>\n",
       "      <td>34176</td>\n",
       "      <td>3906</td>\n",
       "      <td>0.0</td>\n",
       "      <td>train</td>\n",
       "      <td>6</td>\n",
       "      <td>0</td>\n",
       "      <td>451</td>\n",
       "      <td>256</td>\n",
       "      <td>45</td>\n",
       "      <td>109</td>\n",
       "      <td>...</td>\n",
       "      <td>7.0</td>\n",
       "      <td>16269</td>\n",
       "      <td>5819</td>\n",
       "      <td>308</td>\n",
       "      <td>20</td>\n",
       "      <td>2</td>\n",
       "      <td>14870.0</td>\n",
       "      <td>28.0</td>\n",
       "      <td>410.0</td>\n",
       "      <td>961.0</td>\n",
       "    </tr>\n",
       "    <tr>\n",
       "      <th>1</th>\n",
       "      <td>34176</td>\n",
       "      <td>121</td>\n",
       "      <td>0.0</td>\n",
       "      <td>train</td>\n",
       "      <td>6</td>\n",
       "      <td>0</td>\n",
       "      <td>451</td>\n",
       "      <td>256</td>\n",
       "      <td>45</td>\n",
       "      <td>109</td>\n",
       "      <td>...</td>\n",
       "      <td>7.0</td>\n",
       "      <td>79865</td>\n",
       "      <td>10931</td>\n",
       "      <td>1179</td>\n",
       "      <td>26</td>\n",
       "      <td>2</td>\n",
       "      <td>72265.0</td>\n",
       "      <td>121.0</td>\n",
       "      <td>4780.0</td>\n",
       "      <td>2699.0</td>\n",
       "    </tr>\n",
       "    <tr>\n",
       "      <th>2</th>\n",
       "      <td>34176</td>\n",
       "      <td>4356</td>\n",
       "      <td>1.0</td>\n",
       "      <td>train</td>\n",
       "      <td>6</td>\n",
       "      <td>0</td>\n",
       "      <td>451</td>\n",
       "      <td>256</td>\n",
       "      <td>45</td>\n",
       "      <td>109</td>\n",
       "      <td>...</td>\n",
       "      <td>7.0</td>\n",
       "      <td>7269</td>\n",
       "      <td>2281</td>\n",
       "      <td>67</td>\n",
       "      <td>15</td>\n",
       "      <td>2</td>\n",
       "      <td>6094.0</td>\n",
       "      <td>16.0</td>\n",
       "      <td>963.0</td>\n",
       "      <td>196.0</td>\n",
       "    </tr>\n",
       "    <tr>\n",
       "      <th>3</th>\n",
       "      <td>34176</td>\n",
       "      <td>2217</td>\n",
       "      <td>0.0</td>\n",
       "      <td>train</td>\n",
       "      <td>6</td>\n",
       "      <td>0</td>\n",
       "      <td>451</td>\n",
       "      <td>256</td>\n",
       "      <td>45</td>\n",
       "      <td>109</td>\n",
       "      <td>...</td>\n",
       "      <td>7.0</td>\n",
       "      <td>60202</td>\n",
       "      <td>16870</td>\n",
       "      <td>377</td>\n",
       "      <td>5</td>\n",
       "      <td>2</td>\n",
       "      <td>52230.0</td>\n",
       "      <td>101.0</td>\n",
       "      <td>3721.0</td>\n",
       "      <td>4150.0</td>\n",
       "    </tr>\n",
       "    <tr>\n",
       "      <th>4</th>\n",
       "      <td>230784</td>\n",
       "      <td>4818</td>\n",
       "      <td>0.0</td>\n",
       "      <td>train</td>\n",
       "      <td>0</td>\n",
       "      <td>0</td>\n",
       "      <td>54</td>\n",
       "      <td>31</td>\n",
       "      <td>17</td>\n",
       "      <td>20</td>\n",
       "      <td>...</td>\n",
       "      <td>NaN</td>\n",
       "      <td>48089</td>\n",
       "      <td>7500</td>\n",
       "      <td>461</td>\n",
       "      <td>27</td>\n",
       "      <td>2</td>\n",
       "      <td>43268.0</td>\n",
       "      <td>129.0</td>\n",
       "      <td>2733.0</td>\n",
       "      <td>1959.0</td>\n",
       "    </tr>\n",
       "  </tbody>\n",
       "</table>\n",
       "<p>5 rows × 25 columns</p>\n",
       "</div>"
      ]
     },
     "execution_count": 11,
     "metadata": {},
     "output_type": "execute_result"
    }
   ],
   "execution_count": 11
  },
  {
   "metadata": {
    "ExecuteTime": {
     "end_time": "2025-04-18T05:26:50.006961Z",
     "start_time": "2025-04-18T05:26:45.875267Z"
    }
   },
   "cell_type": "code",
   "source": [
    "# 商家特征处理\n",
    "groups = user_log.groupby(['merchant_id'])\n",
    "\n",
    "# 商家交互行为数量\n",
    "temp = groups.size().reset_index().rename(columns={0: 'm1'})\n",
    "all_data = all_data.merge(temp, on='merchant_id', how='left')\n",
    "\n",
    "# 统计商家被交互的user_id,item_id,cat_id,brand_id的唯一值\n",
    "temp = pd.DataFrame({\n",
    "    'm2': groups['user_id'].nunique(),\n",
    "    'm3': groups['item_id'].nunique(),\n",
    "    'm4': groups['cat_id'].nunique(),\n",
    "    'm5': groups['brand_id'].nunique()\n",
    "}).reset_index()\n",
    "all_data = all_data.merge(temp, on='merchant_id', how='left')\n",
    "\n",
    "# 统计商家被交互的action_type唯一值\n",
    "temp = groups['action_type'].value_counts().unstack().reset_index()\n",
    "temp.rename(columns={0: 'm6', 1: 'm7', 2: 'm8', 3: 'm9'}, inplace=True)\n",
    "all_data = all_data.merge(temp, on='merchant_id', how='left')\n",
    "\n",
    "del temp, groups\n",
    "gc.collect()"
   ],
   "id": "8917f8f8c5f442a5",
   "outputs": [
    {
     "data": {
      "text/plain": [
       "12"
      ]
     },
     "execution_count": 10,
     "metadata": {},
     "output_type": "execute_result"
    }
   ],
   "execution_count": 10
  },
  {
   "metadata": {
    "ExecuteTime": {
     "end_time": "2025-04-18T05:32:40.830070Z",
     "start_time": "2025-04-18T05:27:20.366563Z"
    }
   },
   "cell_type": "code",
   "source": [
    "# 用户店铺联合特征\n",
    "groups = user_log.groupby(['user_id', 'merchant_id'])\n",
    "\n",
    "# 用户在不同商家交互统计\n",
    "temp = groups.size().reset_index().rename(columns={0: 'um1'})\n",
    "all_data = all_data.merge(temp, on=['user_id', 'merchant_id'], how='left')\n",
    "\n",
    "# 统计用户在不同商家交互的item_id,cat_id,brand_id的唯一值\n",
    "temp = pd.DataFrame({\n",
    "    'um2': groups['item_id'].nunique(),\n",
    "    'um3': groups['cat_id'].nunique(),\n",
    "    'um4': groups['brand_id'].nunique()\n",
    "}).reset_index()\n",
    "all_data = all_data.merge(temp, on=['user_id', 'merchant_id'], how='left')\n",
    "\n",
    "# 统计用户在不同的商家交互的action_type唯一值\n",
    "temp = groups['action_type'].value_counts().unstack().reset_index()\n",
    "temp.rename(columns={0: 'um5', 1: 'um6', 2: 'um7', 3: 'um8'}, inplace=True)\n",
    "all_data = all_data.merge(temp, on=['user_id', 'merchant_id'], how='left')\n",
    "\n",
    "# 统计用户在不同商家交互的时间间隔\n",
    "temp = groups['time_stamp'].agg([('um9', lambda x: (x.max() - x.min()).seconds // 3600)]).reset_index()\n",
    "all_data = all_data.merge(temp, on=['user_id', 'merchant_id'], how='left')\n",
    "\n",
    "del temp, groups\n",
    "gc.collect()"
   ],
   "id": "cebefa57050bcdf5",
   "outputs": [
    {
     "data": {
      "text/plain": [
       "0"
      ]
     },
     "execution_count": 12,
     "metadata": {},
     "output_type": "execute_result"
    }
   ],
   "execution_count": 12
  },
  {
   "metadata": {
    "ExecuteTime": {
     "end_time": "2025-04-18T05:32:47.914362Z",
     "start_time": "2025-04-18T05:32:47.901531Z"
    }
   },
   "cell_type": "code",
   "source": [
    "# 购买点击比\n",
    "all_data['r1'] = all_data['u9'] / all_data['u7']  # 用户购买点击比\n",
    "all_data['r2'] = all_data['m8'] / all_data['m6']  # 商家购买点击比\n",
    "all_data['r3'] = all_data['um7'] / all_data['um5']  # 不同用户不同商家购买点击比\n",
    "all_data.head()"
   ],
   "id": "ba7c54fccfea8ee2",
   "outputs": [
    {
     "data": {
      "text/plain": [
       "   user_id  merchant_id label origin  age_range  gender   u1   u2  u3   u4  \\\n",
       "0    34176         3906   0.0  train          6       0  451  256  45  109   \n",
       "1    34176          121   0.0  train          6       0  451  256  45  109   \n",
       "2    34176         4356   1.0  train          6       0  451  256  45  109   \n",
       "3    34176         2217   0.0  train          6       0  451  256  45  109   \n",
       "4   230784         4818   0.0  train          0       0   54   31  17   20   \n",
       "\n",
       "   ...  um3  um4   um5  um6  um7  um8  um9        r1        r2        r3  \n",
       "0  ...    6    1  36.0  NaN  1.0  2.0    0  0.082927  0.027572  0.027778  \n",
       "1  ...    1    1  13.0  NaN  1.0  NaN    0  0.082927  0.066145  0.076923  \n",
       "2  ...    1    1  12.0  NaN  6.0  NaN    0  0.082927  0.158024  0.500000  \n",
       "3  ...    1    1   1.0  NaN  1.0  NaN    0  0.082927  0.071243  1.000000  \n",
       "4  ...    1    1   7.0  NaN  1.0  NaN    0  0.148936  0.063164  0.142857  \n",
       "\n",
       "[5 rows x 37 columns]"
      ],
      "text/html": [
       "<div>\n",
       "<style scoped>\n",
       "    .dataframe tbody tr th:only-of-type {\n",
       "        vertical-align: middle;\n",
       "    }\n",
       "\n",
       "    .dataframe tbody tr th {\n",
       "        vertical-align: top;\n",
       "    }\n",
       "\n",
       "    .dataframe thead th {\n",
       "        text-align: right;\n",
       "    }\n",
       "</style>\n",
       "<table border=\"1\" class=\"dataframe\">\n",
       "  <thead>\n",
       "    <tr style=\"text-align: right;\">\n",
       "      <th></th>\n",
       "      <th>user_id</th>\n",
       "      <th>merchant_id</th>\n",
       "      <th>label</th>\n",
       "      <th>origin</th>\n",
       "      <th>age_range</th>\n",
       "      <th>gender</th>\n",
       "      <th>u1</th>\n",
       "      <th>u2</th>\n",
       "      <th>u3</th>\n",
       "      <th>u4</th>\n",
       "      <th>...</th>\n",
       "      <th>um3</th>\n",
       "      <th>um4</th>\n",
       "      <th>um5</th>\n",
       "      <th>um6</th>\n",
       "      <th>um7</th>\n",
       "      <th>um8</th>\n",
       "      <th>um9</th>\n",
       "      <th>r1</th>\n",
       "      <th>r2</th>\n",
       "      <th>r3</th>\n",
       "    </tr>\n",
       "  </thead>\n",
       "  <tbody>\n",
       "    <tr>\n",
       "      <th>0</th>\n",
       "      <td>34176</td>\n",
       "      <td>3906</td>\n",
       "      <td>0.0</td>\n",
       "      <td>train</td>\n",
       "      <td>6</td>\n",
       "      <td>0</td>\n",
       "      <td>451</td>\n",
       "      <td>256</td>\n",
       "      <td>45</td>\n",
       "      <td>109</td>\n",
       "      <td>...</td>\n",
       "      <td>6</td>\n",
       "      <td>1</td>\n",
       "      <td>36.0</td>\n",
       "      <td>NaN</td>\n",
       "      <td>1.0</td>\n",
       "      <td>2.0</td>\n",
       "      <td>0</td>\n",
       "      <td>0.082927</td>\n",
       "      <td>0.027572</td>\n",
       "      <td>0.027778</td>\n",
       "    </tr>\n",
       "    <tr>\n",
       "      <th>1</th>\n",
       "      <td>34176</td>\n",
       "      <td>121</td>\n",
       "      <td>0.0</td>\n",
       "      <td>train</td>\n",
       "      <td>6</td>\n",
       "      <td>0</td>\n",
       "      <td>451</td>\n",
       "      <td>256</td>\n",
       "      <td>45</td>\n",
       "      <td>109</td>\n",
       "      <td>...</td>\n",
       "      <td>1</td>\n",
       "      <td>1</td>\n",
       "      <td>13.0</td>\n",
       "      <td>NaN</td>\n",
       "      <td>1.0</td>\n",
       "      <td>NaN</td>\n",
       "      <td>0</td>\n",
       "      <td>0.082927</td>\n",
       "      <td>0.066145</td>\n",
       "      <td>0.076923</td>\n",
       "    </tr>\n",
       "    <tr>\n",
       "      <th>2</th>\n",
       "      <td>34176</td>\n",
       "      <td>4356</td>\n",
       "      <td>1.0</td>\n",
       "      <td>train</td>\n",
       "      <td>6</td>\n",
       "      <td>0</td>\n",
       "      <td>451</td>\n",
       "      <td>256</td>\n",
       "      <td>45</td>\n",
       "      <td>109</td>\n",
       "      <td>...</td>\n",
       "      <td>1</td>\n",
       "      <td>1</td>\n",
       "      <td>12.0</td>\n",
       "      <td>NaN</td>\n",
       "      <td>6.0</td>\n",
       "      <td>NaN</td>\n",
       "      <td>0</td>\n",
       "      <td>0.082927</td>\n",
       "      <td>0.158024</td>\n",
       "      <td>0.500000</td>\n",
       "    </tr>\n",
       "    <tr>\n",
       "      <th>3</th>\n",
       "      <td>34176</td>\n",
       "      <td>2217</td>\n",
       "      <td>0.0</td>\n",
       "      <td>train</td>\n",
       "      <td>6</td>\n",
       "      <td>0</td>\n",
       "      <td>451</td>\n",
       "      <td>256</td>\n",
       "      <td>45</td>\n",
       "      <td>109</td>\n",
       "      <td>...</td>\n",
       "      <td>1</td>\n",
       "      <td>1</td>\n",
       "      <td>1.0</td>\n",
       "      <td>NaN</td>\n",
       "      <td>1.0</td>\n",
       "      <td>NaN</td>\n",
       "      <td>0</td>\n",
       "      <td>0.082927</td>\n",
       "      <td>0.071243</td>\n",
       "      <td>1.000000</td>\n",
       "    </tr>\n",
       "    <tr>\n",
       "      <th>4</th>\n",
       "      <td>230784</td>\n",
       "      <td>4818</td>\n",
       "      <td>0.0</td>\n",
       "      <td>train</td>\n",
       "      <td>0</td>\n",
       "      <td>0</td>\n",
       "      <td>54</td>\n",
       "      <td>31</td>\n",
       "      <td>17</td>\n",
       "      <td>20</td>\n",
       "      <td>...</td>\n",
       "      <td>1</td>\n",
       "      <td>1</td>\n",
       "      <td>7.0</td>\n",
       "      <td>NaN</td>\n",
       "      <td>1.0</td>\n",
       "      <td>NaN</td>\n",
       "      <td>0</td>\n",
       "      <td>0.148936</td>\n",
       "      <td>0.063164</td>\n",
       "      <td>0.142857</td>\n",
       "    </tr>\n",
       "  </tbody>\n",
       "</table>\n",
       "<p>5 rows × 37 columns</p>\n",
       "</div>"
      ]
     },
     "execution_count": 13,
     "metadata": {},
     "output_type": "execute_result"
    }
   ],
   "execution_count": 13
  },
  {
   "metadata": {
    "ExecuteTime": {
     "end_time": "2025-04-18T05:32:56.536406Z",
     "start_time": "2025-04-18T05:32:56.488337Z"
    }
   },
   "cell_type": "code",
   "source": [
    "# 空数据的填充\n",
    "all_data.fillna(0, inplace=True)"
   ],
   "id": "cb7ece30232f7ff7",
   "outputs": [],
   "execution_count": 14
  },
  {
   "metadata": {
    "ExecuteTime": {
     "end_time": "2025-04-18T05:33:11.762671Z",
     "start_time": "2025-04-18T05:33:11.653298Z"
    }
   },
   "cell_type": "code",
   "source": [
    "# 年龄性别类型的转换\n",
    "# 修改age_range字段名称为age_0,age_1,...,age_8\n",
    "# 独热编码\n",
    "temp = pd.get_dummies(all_data['age_range'], prefix='age')\n",
    "all_data = pd.concat([all_data, temp], axis=1)\n",
    "temp = pd.get_dummies(all_data['gender'], prefix='gender')\n",
    "all_data = pd.concat([all_data, temp], axis=1)\n",
    "# 删除原始数据\n",
    "all_data.drop(['age_range', 'gender'], axis=1, inplace=True)\n",
    "del temp\n",
    "gc.collect()"
   ],
   "id": "ca407f18312db038",
   "outputs": [
    {
     "data": {
      "text/plain": [
       "12"
      ]
     },
     "execution_count": 15,
     "metadata": {},
     "output_type": "execute_result"
    }
   ],
   "execution_count": 15
  },
  {
   "metadata": {
    "ExecuteTime": {
     "end_time": "2025-04-18T05:33:34.315649Z",
     "start_time": "2025-04-18T05:33:34.253600Z"
    }
   },
   "cell_type": "code",
   "source": [
    "# 数据存储\n",
    "train_data = all_data[all_data['origin'] == 'train'].drop(columns=['origin'], axis=1)\n",
    "test_data = all_data[all_data['origin'] == 'test'].drop(columns=['origin'], axis=1)\n",
    "\n",
    "train_data.to_csv('train_data.csv', index=False)\n",
    "test_data.to_csv('test_data.csv', index=False)"
   ],
   "id": "1bbf40b2a4248c74",
   "outputs": [],
   "execution_count": 16
  },
  {
   "metadata": {
    "ExecuteTime": {
     "end_time": "2025-04-18T05:33:46.012716Z",
     "start_time": "2025-04-18T05:33:45.973395Z"
    }
   },
   "cell_type": "code",
   "source": [
    "# 算法建模预测\n",
    "# 训练数据和目标值\n",
    "train_X, train_Y = train_data.drop(['label'], axis=1), train_data['label']\n",
    "\n",
    "# 数据划分保留20%作为验证集\n",
    "X_train, X_valid, Y_train, Y_valid = train_test_split(train_X, train_Y, test_size=0.2)"
   ],
   "id": "b0fbb5c6044244a9",
   "outputs": [],
   "execution_count": 17
  },
  {
   "metadata": {
    "ExecuteTime": {
     "end_time": "2025-04-18T06:53:49.594616Z",
     "start_time": "2025-04-18T06:53:49.591181Z"
    }
   },
   "cell_type": "code",
   "source": [
    "# LGBM模型训练\n",
    "def lgb_train(x_train, y_train, x_valid, y_valid, verbose=True):\n",
    "    \"\"\"\n",
    "    LightGBM 模型训练函数\n",
    "\n",
    "    参数:\n",
    "        x_train: 训练集特征\n",
    "        y_train: 训练集标签\n",
    "        x_valid: 验证集特征\n",
    "        y_valid: 验证集标签\n",
    "        verbose: 是否显示训练信息，默认为True\n",
    "\n",
    "    返回:\n",
    "        训练好的LightGBM模型\n",
    "    \"\"\"\n",
    "    # 创建回调函数列表\n",
    "    callbacks = [\n",
    "        lgb.early_stopping(stopping_rounds=10)  # 早停策略，10轮内无改善则停止\n",
    "    ]\n",
    "\n",
    "    # 仅当verbose为True时添加日志回调\n",
    "    if verbose:\n",
    "        callbacks.append(lgb.log_evaluation(period=100))\n",
    "\n",
    "    # 创建LightGBM分类器\n",
    "    model_lgb = lgb.LGBMClassifier(\n",
    "        max_depth=10,  # 树的最大深度\n",
    "        n_estimators=5000,  # 最大迭代次数\n",
    "        min_child_weight=100,  # 叶子节点最小样本权重和\n",
    "        colsample_bytree=0.7,  # 每棵树随机选择70%的特征\n",
    "        subsample=0.9,  # 每棵树随机选择90%的样本\n",
    "        learning_rate=0.1,  # 学习率\n",
    "        verbose=-1 if not verbose else 0  # -1完全禁止输出，0只显示警告和错误\n",
    "    )\n",
    "\n",
    "    # 训练模型\n",
    "    model_lgb.fit(\n",
    "        x_train,\n",
    "        y_train,\n",
    "        eval_metric='auc',  # 评估指标为AUC\n",
    "        eval_set=[(x_train, y_train), (x_valid, y_valid)],  # 评估数据集\n",
    "        callbacks=callbacks  # 回调函数列表\n",
    "    )\n",
    "\n",
    "    # 打印验证集的最佳AUC得分\n",
    "    print(f\"最佳验证集AUC得分: {model_lgb.best_score_['valid_1']['auc']}\")\n",
    "    return model_lgb"
   ],
   "id": "88ca042220f596f8",
   "outputs": [],
   "execution_count": 47
  },
  {
   "metadata": {
    "ExecuteTime": {
     "end_time": "2025-04-18T07:01:36.453634Z",
     "start_time": "2025-04-18T07:01:34.044990Z"
    }
   },
   "cell_type": "code",
   "source": [
    "# verbose=True时显示训练信息\n",
    "model_lgb = lgb_train(X_train.values, Y_train, X_valid.values, Y_valid, verbose=False)"
   ],
   "id": "4b218abdcaccf580",
   "outputs": [
    {
     "name": "stdout",
     "output_type": "stream",
     "text": [
      "Training until validation scores don't improve for 10 rounds\n",
      "Early stopping, best iteration is:\n",
      "[104]\ttraining's auc: 0.728575\ttraining's binary_logloss: 0.210499\tvalid_1's auc: 0.682499\tvalid_1's binary_logloss: 0.215529\n",
      "最佳验证集AUC得分: 0.6824988455792353\n"
     ]
    }
   ],
   "execution_count": 50
  },
  {
   "metadata": {
    "ExecuteTime": {
     "end_time": "2025-04-18T07:24:14.726385Z",
     "start_time": "2025-04-18T07:24:13.927184Z"
    }
   },
   "cell_type": "code",
   "source": [
    "prob = model_lgb.predict_proba(test_data.drop(['label'], axis=1).values)\n",
    "\n",
    "submission = pd.read_csv('/Users/zhuzijie/Downloads/data_format1/test_format1.csv')\n",
    "submission['prob'] = pd.Series(prob[:, 1])\n",
    "submission.to_csv('submission.csv', index=False)\n",
    "\n",
    "del submission\n",
    "gc.collect()"
   ],
   "id": "2689d3dc90fc027c",
   "outputs": [
    {
     "data": {
      "text/plain": [
       "20"
      ]
     },
     "execution_count": 56,
     "metadata": {},
     "output_type": "execute_result"
    }
   ],
   "execution_count": 56
  },
  {
   "metadata": {
    "ExecuteTime": {
     "end_time": "2025-04-18T09:39:17.004567Z",
     "start_time": "2025-04-18T09:39:16.954406Z"
    }
   },
   "cell_type": "code",
   "source": [
    "# 算法建模预测\n",
    "# 训练数据和目标值\n",
    "train_X, train_Y = train_data.drop(['label'], axis=1), train_data['label'].astype(float).astype(int)\n",
    "\n",
    "# 数据划分保留20%作为验证集\n",
    "X_train, X_valid, Y_train, Y_valid = train_test_split(train_X, train_Y, test_size=0.2)"
   ],
   "id": "3c7a2147bc6cc7d9",
   "outputs": [],
   "execution_count": 73
  },
  {
   "metadata": {
    "ExecuteTime": {
     "end_time": "2025-04-18T10:24:44.524361Z",
     "start_time": "2025-04-18T10:24:44.520417Z"
    }
   },
   "cell_type": "code",
   "source": [
    "# XGBoost模型\n",
    "def xgb_train(x_train, y_train, x_valid, y_valid, verbose=True):\n",
    "    \"\"\"\n",
    "    使用XGBoost原生API而非sklearn包装器\n",
    "    \"\"\"\n",
    "    # 转换为DMatrix格式\n",
    "    train = xgb.DMatrix(x_train, label=y_train)\n",
    "    valid = xgb.DMatrix(x_valid, label=y_valid)\n",
    "\n",
    "    # 参数设置\n",
    "    params = {\n",
    "        'max_depth': 10,\n",
    "        'eta': 0.1,\n",
    "        'min_child_weight': 300,\n",
    "        'colsample_bytree': 0.7,\n",
    "        'subsample': 0.9,\n",
    "        'objective': 'binary:logistic',\n",
    "        'eval_metric': 'auc'\n",
    "    }\n",
    "\n",
    "    model = xgb.train(\n",
    "        params,\n",
    "        train,\n",
    "        num_boost_round=5000,\n",
    "        evals=[(train, 'train'), (valid, 'eval')],\n",
    "        early_stopping_rounds=10,\n",
    "        verbose_eval=verbose\n",
    "    )\n",
    "\n",
    "    print(f\"最佳迭代轮数: {model.best_iteration}\")\n",
    "    print(f\"最佳验证集AUC得分: {model.best_score}\")\n",
    "\n",
    "    return model"
   ],
   "id": "1b35e6b6b4536879",
   "outputs": [],
   "execution_count": 95
  },
  {
   "metadata": {
    "ExecuteTime": {
     "end_time": "2025-04-18T10:24:49.796825Z",
     "start_time": "2025-04-18T10:24:47.272242Z"
    }
   },
   "cell_type": "code",
   "source": "model_xgb = xgb_train(X_train, Y_train, X_valid, Y_valid, verbose=False)",
   "id": "fbefa39471e7e10b",
   "outputs": [
    {
     "name": "stdout",
     "output_type": "stream",
     "text": [
      "最佳迭代轮数: 97\n",
      "最佳验证集AUC得分: 0.6809273845416097\n"
     ]
    }
   ],
   "execution_count": 96
  },
  {
   "metadata": {
    "ExecuteTime": {
     "end_time": "2025-04-18T10:34:56.557514Z",
     "start_time": "2025-04-18T10:34:56.025028Z"
    }
   },
   "cell_type": "code",
   "source": [
    "# 创建DMatrix用于预测\n",
    "dtest = xgb.DMatrix(test_data.drop(['label'], axis=1))\n",
    "prob = model_xgb.predict(dtest)\n",
    "\n",
    "submission = pd.read_csv('/Users/zhuzijie/Downloads/data_format1/test_format1.csv')\n",
    "submission['prob'] = pd.Series(prob)\n",
    "submission.to_csv('submission2.csv', index=False)\n",
    "\n",
    "del submission\n",
    "gc.collect()"
   ],
   "id": "80eab2ae65c9ca35",
   "outputs": [
    {
     "data": {
      "text/plain": [
       "6461"
      ]
     },
     "execution_count": 99,
     "metadata": {},
     "output_type": "execute_result"
    }
   ],
   "execution_count": 99
  }
 ],
 "metadata": {
  "kernelspec": {
   "display_name": "Python 3",
   "language": "python",
   "name": "python3"
  },
  "language_info": {
   "codemirror_mode": {
    "name": "ipython",
    "version": 2
   },
   "file_extension": ".py",
   "mimetype": "text/x-python",
   "name": "python",
   "nbconvert_exporter": "python",
   "pygments_lexer": "ipython2",
   "version": "2.7.6"
  }
 },
 "nbformat": 4,
 "nbformat_minor": 5
}
