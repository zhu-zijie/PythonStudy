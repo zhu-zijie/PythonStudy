{
 "cells": [
  {
   "cell_type": "code",
   "id": "initial_id",
   "metadata": {
    "collapsed": true
   },
   "source": [
    "# 数据导入\n",
    "import pandas as pd\n",
    "import numpy as np\n",
    "import warnings, gc\n",
    "\n",
    "from sklearn.model_selection import train_test_split  # 划分数据集\n",
    "from sklearn.model_selection import StratifiedKFold  # 分层k折交叉验证\n",
    "import lightgbm as lgb\n",
    "import xgboost as xgb\n",
    "\n",
    "warnings.filterwarnings('ignore')"
   ],
   "outputs": [],
   "execution_count": null
  },
  {
   "metadata": {},
   "cell_type": "code",
   "source": [
    "# 数据加载\n",
    "# 用户行为日志\n",
    "user_log = pd.read_csv('/Users/zhuzijie/Downloads/data_format1/user_log_format1.csv')\n",
    "# 用户画像\n",
    "user_info = pd.read_csv('/Users/zhuzijie/Downloads/data_format1/user_info_format1.csv')\n",
    "# 训练数据和测试数据\n",
    "train_data = pd.read_csv('/Users/zhuzijie/Downloads/data_format1/train_format1.csv')\n",
    "test_data = pd.read_csv('/Users/zhuzijie/Downloads/data_format1/test_format1.csv')"
   ],
   "id": "cab20809e1abac25",
   "outputs": [],
   "execution_count": null
  },
  {
   "metadata": {
    "ExecuteTime": {
     "end_time": "2025-04-17T09:43:36.473676Z",
     "start_time": "2025-04-17T09:43:36.436327Z"
    }
   },
   "cell_type": "code",
   "source": [
    "# 查看数据\n",
    "# print('-- data shape --')\n",
    "# for data in [user_log, user_info, train_data, test_data]:\n",
    "#     print(data.shape)\n",
    "\n",
    "print('-- data info --')\n",
    "for data in [user_log, user_info, train_data, test_data]:\n",
    "    print(data.info())"
   ],
   "id": "189013724d3934e4",
   "outputs": [
    {
     "name": "stdout",
     "output_type": "stream",
     "text": [
      "-- data info --\n",
      "<class 'pandas.core.frame.DataFrame'>\n",
      "RangeIndex: 54925330 entries, 0 to 54925329\n",
      "Data columns (total 7 columns):\n",
      " #   Column       Dtype  \n",
      "---  ------       -----  \n",
      " 0   user_id      int64  \n",
      " 1   item_id      int64  \n",
      " 2   cat_id       int64  \n",
      " 3   seller_id    int64  \n",
      " 4   brand_id     float64\n",
      " 5   time_stamp   int64  \n",
      " 6   action_type  int64  \n",
      "dtypes: float64(1), int64(6)\n",
      "memory usage: 2.9 GB\n",
      "None\n",
      "<class 'pandas.core.frame.DataFrame'>\n",
      "RangeIndex: 424170 entries, 0 to 424169\n",
      "Data columns (total 3 columns):\n",
      " #   Column     Non-Null Count   Dtype  \n",
      "---  ------     --------------   -----  \n",
      " 0   user_id    424170 non-null  int64  \n",
      " 1   age_range  421953 non-null  float64\n",
      " 2   gender     417734 non-null  float64\n",
      "dtypes: float64(2), int64(1)\n",
      "memory usage: 9.7 MB\n",
      "None\n",
      "<class 'pandas.core.frame.DataFrame'>\n",
      "RangeIndex: 260864 entries, 0 to 260863\n",
      "Data columns (total 3 columns):\n",
      " #   Column       Non-Null Count   Dtype\n",
      "---  ------       --------------   -----\n",
      " 0   user_id      260864 non-null  int64\n",
      " 1   merchant_id  260864 non-null  int64\n",
      " 2   label        260864 non-null  int64\n",
      "dtypes: int64(3)\n",
      "memory usage: 6.0 MB\n",
      "None\n",
      "<class 'pandas.core.frame.DataFrame'>\n",
      "RangeIndex: 261477 entries, 0 to 261476\n",
      "Data columns (total 3 columns):\n",
      " #   Column       Non-Null Count   Dtype  \n",
      "---  ------       --------------   -----  \n",
      " 0   user_id      261477 non-null  int64  \n",
      " 1   merchant_id  261477 non-null  int64  \n",
      " 2   prob         0 non-null       float64\n",
      "dtypes: float64(1), int64(2)\n",
      "memory usage: 6.0 MB\n",
      "None\n"
     ]
    }
   ],
   "execution_count": 9
  },
  {
   "metadata": {},
   "cell_type": "code",
   "source": [
    "# 数据集成\n",
    "train_data['origin'] = 'train'\n",
    "test_data['origin'] = 'test'\n",
    "\n",
    "# 合并数据集\n",
    "all_data = pd.concat([train_data, test_data], ignore_index=True, sort=False)\n",
    "all_data.drop(['prob'], axis=1, inplace=True)\n",
    "\n",
    "# 连接user_info，通过user_id连接\n",
    "all_data = all_data.merge(user_info, on='user_id', how='left')\n",
    "\n",
    "# 修改user_log表的seller_id列名\n",
    "user_log.rename(columns={'seller_id': 'merchant_id'}, inplace=True)\n",
    "\n",
    "del train_data, test_data, user_info\n",
    "gc.collect()"
   ],
   "id": "cfba736c4b8566ab",
   "outputs": [],
   "execution_count": null
  },
  {
   "metadata": {
    "ExecuteTime": {
     "end_time": "2025-04-17T10:39:15.634784Z",
     "start_time": "2025-04-17T10:39:14.364896Z"
    }
   },
   "cell_type": "code",
   "source": [
    "# 数据类型转换\n",
    "user_log['user_id'] = user_log['user_id'].astype('int32')\n",
    "user_log['item_id'] = user_log['item_id'].astype('int32')\n",
    "user_log['cat_id'] = user_log['cat_id'].astype('int32')\n",
    "user_log['merchant_id'] = user_log['merchant_id'].astype('int32')\n",
    "user_log.fillna({'brand_id': 0}, inplace=True)\n",
    "user_log['brand_id'] = user_log['brand_id'].astype('int32')\n",
    "user_log['time_stamp'] = pd.to_datetime(user_log['time_stamp'], format='%H%M')\n",
    "user_log['action_type'] = user_log['action_type'].astype('int8')\n",
    "user_log.head()"
   ],
   "id": "799beecd2595aac0",
   "outputs": [
    {
     "data": {
      "text/plain": [
       "   user_id  item_id  cat_id  merchant_id  brand_id          time_stamp  \\\n",
       "0   328862   323294     833         2882      2661 1900-01-01 08:29:00   \n",
       "1   328862   844400    1271         2882      2661 1900-01-01 08:29:00   \n",
       "2   328862   575153    1271         2882      2661 1900-01-01 08:29:00   \n",
       "3   328862   996875    1271         2882      2661 1900-01-01 08:29:00   \n",
       "4   328862  1086186    1271         1253      1049 1900-01-01 08:29:00   \n",
       "\n",
       "   action_type  \n",
       "0            0  \n",
       "1            0  \n",
       "2            0  \n",
       "3            0  \n",
       "4            0  "
      ],
      "text/html": [
       "<div>\n",
       "<style scoped>\n",
       "    .dataframe tbody tr th:only-of-type {\n",
       "        vertical-align: middle;\n",
       "    }\n",
       "\n",
       "    .dataframe tbody tr th {\n",
       "        vertical-align: top;\n",
       "    }\n",
       "\n",
       "    .dataframe thead th {\n",
       "        text-align: right;\n",
       "    }\n",
       "</style>\n",
       "<table border=\"1\" class=\"dataframe\">\n",
       "  <thead>\n",
       "    <tr style=\"text-align: right;\">\n",
       "      <th></th>\n",
       "      <th>user_id</th>\n",
       "      <th>item_id</th>\n",
       "      <th>cat_id</th>\n",
       "      <th>merchant_id</th>\n",
       "      <th>brand_id</th>\n",
       "      <th>time_stamp</th>\n",
       "      <th>action_type</th>\n",
       "    </tr>\n",
       "  </thead>\n",
       "  <tbody>\n",
       "    <tr>\n",
       "      <th>0</th>\n",
       "      <td>328862</td>\n",
       "      <td>323294</td>\n",
       "      <td>833</td>\n",
       "      <td>2882</td>\n",
       "      <td>2661</td>\n",
       "      <td>1900-01-01 08:29:00</td>\n",
       "      <td>0</td>\n",
       "    </tr>\n",
       "    <tr>\n",
       "      <th>1</th>\n",
       "      <td>328862</td>\n",
       "      <td>844400</td>\n",
       "      <td>1271</td>\n",
       "      <td>2882</td>\n",
       "      <td>2661</td>\n",
       "      <td>1900-01-01 08:29:00</td>\n",
       "      <td>0</td>\n",
       "    </tr>\n",
       "    <tr>\n",
       "      <th>2</th>\n",
       "      <td>328862</td>\n",
       "      <td>575153</td>\n",
       "      <td>1271</td>\n",
       "      <td>2882</td>\n",
       "      <td>2661</td>\n",
       "      <td>1900-01-01 08:29:00</td>\n",
       "      <td>0</td>\n",
       "    </tr>\n",
       "    <tr>\n",
       "      <th>3</th>\n",
       "      <td>328862</td>\n",
       "      <td>996875</td>\n",
       "      <td>1271</td>\n",
       "      <td>2882</td>\n",
       "      <td>2661</td>\n",
       "      <td>1900-01-01 08:29:00</td>\n",
       "      <td>0</td>\n",
       "    </tr>\n",
       "    <tr>\n",
       "      <th>4</th>\n",
       "      <td>328862</td>\n",
       "      <td>1086186</td>\n",
       "      <td>1271</td>\n",
       "      <td>1253</td>\n",
       "      <td>1049</td>\n",
       "      <td>1900-01-01 08:29:00</td>\n",
       "      <td>0</td>\n",
       "    </tr>\n",
       "  </tbody>\n",
       "</table>\n",
       "</div>"
      ]
     },
     "execution_count": 26,
     "metadata": {},
     "output_type": "execute_result"
    }
   ],
   "execution_count": 26
  },
  {
   "metadata": {
    "ExecuteTime": {
     "end_time": "2025-04-17T10:43:33.013100Z",
     "start_time": "2025-04-17T10:43:32.951765Z"
    }
   },
   "cell_type": "code",
   "source": [
    "# all_data数据填充\n",
    "all_data.fillna({'age_range': 0}, inplace=True)\n",
    "all_data.fillna({'gender': 2}, inplace=True)\n",
    "all_data.isnull().sum()"
   ],
   "id": "534fd080215cde13",
   "outputs": [
    {
     "data": {
      "text/plain": [
       "user_id             0\n",
       "merchant_id         0\n",
       "label          261477\n",
       "origin              0\n",
       "age_range           0\n",
       "gender              0\n",
       "dtype: int64"
      ]
     },
     "execution_count": 28,
     "metadata": {},
     "output_type": "execute_result"
    }
   ],
   "execution_count": 28
  },
  {
   "metadata": {
    "ExecuteTime": {
     "end_time": "2025-04-17T10:52:52.949774Z",
     "start_time": "2025-04-17T10:52:52.892500Z"
    }
   },
   "cell_type": "code",
   "source": [
    "# all_data表的数据类型转换\n",
    "all_data['user_id'] = all_data['user_id'].astype('int32')\n",
    "all_data['merchant_id'] = all_data['merchant_id'].astype('int32')\n",
    "all_data['label'] = all_data['label'].astype('str')\n",
    "all_data['age_range'] = all_data['age_range'].astype('int8')\n",
    "all_data['gender'] = all_data['gender'].astype('int8')\n",
    "all_data.info()"
   ],
   "id": "489475c3d0db6fb0",
   "outputs": [
    {
     "name": "stdout",
     "output_type": "stream",
     "text": [
      "<class 'pandas.core.frame.DataFrame'>\n",
      "RangeIndex: 522341 entries, 0 to 522340\n",
      "Data columns (total 6 columns):\n",
      " #   Column       Non-Null Count   Dtype \n",
      "---  ------       --------------   ----- \n",
      " 0   user_id      522341 non-null  int32 \n",
      " 1   merchant_id  522341 non-null  int32 \n",
      " 2   label        522341 non-null  object\n",
      " 3   origin       522341 non-null  object\n",
      " 4   age_range    522341 non-null  int8  \n",
      " 5   gender       522341 non-null  int8  \n",
      "dtypes: int32(2), int8(2), object(2)\n",
      "memory usage: 13.0+ MB\n"
     ]
    }
   ],
   "execution_count": 31
  },
  {
   "metadata": {
    "ExecuteTime": {
     "end_time": "2025-04-17T15:09:08.575348Z",
     "start_time": "2025-04-17T15:08:49.823333Z"
    }
   },
   "cell_type": "code",
   "source": [
    "# 用户特征工程\n",
    "groups = user_log.groupby(['user_id'])\n",
    "\n",
    "# 用户交互行为数量\n",
    "temp = groups.size().reset_index().rename(columns={0: 'u1'})\n",
    "all_data = all_data.merge(temp, on='user_id', how='left')\n",
    "\n",
    "temp = groups['item_id'].nunique().reset_index(name='u2')\n",
    "all_data = all_data.merge(temp, on='user_id', how='left')\n",
    "\n",
    "temp = groups['cat_id'].nunique().reset_index(name='u3')\n",
    "all_data = all_data.merge(temp, on='user_id', how='left')\n",
    "\n",
    "temp = groups['merchant_id'].nunique().reset_index(name='u4')\n",
    "all_data = all_data.merge(temp, on='user_id', how='left')\n",
    "\n",
    "temp = groups['brand_id'].nunique().reset_index(name='u5')\n",
    "all_data = all_data.merge(temp, on='user_id', how='left')\n",
    "\n",
    "# 购物时间间隔特征\n",
    "temp = groups['time_stamp'].agg([('u6', lambda x: (x.max() - x.min()).seconds // 3600)]).reset_index()\n",
    "all_data = all_data.merge(temp, on='user_id', how='left')\n",
    "\n",
    "# 统计操作类型为0，1，2，3的个数\n",
    "temp = groups['action_type'].value_counts().unstack().reset_index()\n",
    "temp.rename(columns={0: 'u7', 1: 'u8', 2: 'u9', 3: 'u10'}, inplace=True)\n",
    "all_data = all_data.merge(temp, on='user_id', how='left')\n",
    "\n",
    "del temp, groups\n",
    "gc.collect()"
   ],
   "id": "29cbedf99be7cbe",
   "outputs": [
    {
     "data": {
      "text/plain": [
       "0"
      ]
     },
     "execution_count": 57,
     "metadata": {},
     "output_type": "execute_result"
    }
   ],
   "execution_count": 57
  },
  {
   "metadata": {
    "ExecuteTime": {
     "end_time": "2025-04-17T15:36:20.297156Z",
     "start_time": "2025-04-17T15:36:20.288256Z"
    }
   },
   "cell_type": "code",
   "source": [
    "# 在特征工程前，移除可能存在的特征列\n",
    "# feature_cols = ['m1', 'm2', 'm3', 'm4', 'm5']\n",
    "# existing_cols = [col for col in feature_cols if col in all_data.columns]\n",
    "# if existing_cols:\n",
    "#     all_data = all_data.drop(existing_cols, axis=1)\n",
    "\n",
    "all_data.head()"
   ],
   "id": "3dae783e36dbc7d1",
   "outputs": [
    {
     "data": {
      "text/plain": [
       "   user_id  merchant_id label origin  age_range  gender   u1   u2  u3   u4  \\\n",
       "0    34176         3906   0.0  train          6       0  451  256  45  109   \n",
       "1    34176          121   0.0  train          6       0  451  256  45  109   \n",
       "2    34176         4356   1.0  train          6       0  451  256  45  109   \n",
       "3    34176         2217   0.0  train          6       0  451  256  45  109   \n",
       "4   230784         4818   0.0  train          0       0   54   31  17   20   \n",
       "\n",
       "   ...      m9  um1  um2  um3  um4   um5  um6  um7  um8  um9  \n",
       "0  ...   961.0   39   20    6    1  36.0  NaN  1.0  2.0    0  \n",
       "1  ...  2699.0   14    1    1    1  13.0  NaN  1.0  NaN    0  \n",
       "2  ...   196.0   18    2    1    1  12.0  NaN  6.0  NaN    0  \n",
       "3  ...  4150.0    2    1    1    1   1.0  NaN  1.0  NaN    0  \n",
       "4  ...  1959.0    8    1    1    1   7.0  NaN  1.0  NaN    0  \n",
       "\n",
       "[5 rows x 34 columns]"
      ],
      "text/html": [
       "<div>\n",
       "<style scoped>\n",
       "    .dataframe tbody tr th:only-of-type {\n",
       "        vertical-align: middle;\n",
       "    }\n",
       "\n",
       "    .dataframe tbody tr th {\n",
       "        vertical-align: top;\n",
       "    }\n",
       "\n",
       "    .dataframe thead th {\n",
       "        text-align: right;\n",
       "    }\n",
       "</style>\n",
       "<table border=\"1\" class=\"dataframe\">\n",
       "  <thead>\n",
       "    <tr style=\"text-align: right;\">\n",
       "      <th></th>\n",
       "      <th>user_id</th>\n",
       "      <th>merchant_id</th>\n",
       "      <th>label</th>\n",
       "      <th>origin</th>\n",
       "      <th>age_range</th>\n",
       "      <th>gender</th>\n",
       "      <th>u1</th>\n",
       "      <th>u2</th>\n",
       "      <th>u3</th>\n",
       "      <th>u4</th>\n",
       "      <th>...</th>\n",
       "      <th>m9</th>\n",
       "      <th>um1</th>\n",
       "      <th>um2</th>\n",
       "      <th>um3</th>\n",
       "      <th>um4</th>\n",
       "      <th>um5</th>\n",
       "      <th>um6</th>\n",
       "      <th>um7</th>\n",
       "      <th>um8</th>\n",
       "      <th>um9</th>\n",
       "    </tr>\n",
       "  </thead>\n",
       "  <tbody>\n",
       "    <tr>\n",
       "      <th>0</th>\n",
       "      <td>34176</td>\n",
       "      <td>3906</td>\n",
       "      <td>0.0</td>\n",
       "      <td>train</td>\n",
       "      <td>6</td>\n",
       "      <td>0</td>\n",
       "      <td>451</td>\n",
       "      <td>256</td>\n",
       "      <td>45</td>\n",
       "      <td>109</td>\n",
       "      <td>...</td>\n",
       "      <td>961.0</td>\n",
       "      <td>39</td>\n",
       "      <td>20</td>\n",
       "      <td>6</td>\n",
       "      <td>1</td>\n",
       "      <td>36.0</td>\n",
       "      <td>NaN</td>\n",
       "      <td>1.0</td>\n",
       "      <td>2.0</td>\n",
       "      <td>0</td>\n",
       "    </tr>\n",
       "    <tr>\n",
       "      <th>1</th>\n",
       "      <td>34176</td>\n",
       "      <td>121</td>\n",
       "      <td>0.0</td>\n",
       "      <td>train</td>\n",
       "      <td>6</td>\n",
       "      <td>0</td>\n",
       "      <td>451</td>\n",
       "      <td>256</td>\n",
       "      <td>45</td>\n",
       "      <td>109</td>\n",
       "      <td>...</td>\n",
       "      <td>2699.0</td>\n",
       "      <td>14</td>\n",
       "      <td>1</td>\n",
       "      <td>1</td>\n",
       "      <td>1</td>\n",
       "      <td>13.0</td>\n",
       "      <td>NaN</td>\n",
       "      <td>1.0</td>\n",
       "      <td>NaN</td>\n",
       "      <td>0</td>\n",
       "    </tr>\n",
       "    <tr>\n",
       "      <th>2</th>\n",
       "      <td>34176</td>\n",
       "      <td>4356</td>\n",
       "      <td>1.0</td>\n",
       "      <td>train</td>\n",
       "      <td>6</td>\n",
       "      <td>0</td>\n",
       "      <td>451</td>\n",
       "      <td>256</td>\n",
       "      <td>45</td>\n",
       "      <td>109</td>\n",
       "      <td>...</td>\n",
       "      <td>196.0</td>\n",
       "      <td>18</td>\n",
       "      <td>2</td>\n",
       "      <td>1</td>\n",
       "      <td>1</td>\n",
       "      <td>12.0</td>\n",
       "      <td>NaN</td>\n",
       "      <td>6.0</td>\n",
       "      <td>NaN</td>\n",
       "      <td>0</td>\n",
       "    </tr>\n",
       "    <tr>\n",
       "      <th>3</th>\n",
       "      <td>34176</td>\n",
       "      <td>2217</td>\n",
       "      <td>0.0</td>\n",
       "      <td>train</td>\n",
       "      <td>6</td>\n",
       "      <td>0</td>\n",
       "      <td>451</td>\n",
       "      <td>256</td>\n",
       "      <td>45</td>\n",
       "      <td>109</td>\n",
       "      <td>...</td>\n",
       "      <td>4150.0</td>\n",
       "      <td>2</td>\n",
       "      <td>1</td>\n",
       "      <td>1</td>\n",
       "      <td>1</td>\n",
       "      <td>1.0</td>\n",
       "      <td>NaN</td>\n",
       "      <td>1.0</td>\n",
       "      <td>NaN</td>\n",
       "      <td>0</td>\n",
       "    </tr>\n",
       "    <tr>\n",
       "      <th>4</th>\n",
       "      <td>230784</td>\n",
       "      <td>4818</td>\n",
       "      <td>0.0</td>\n",
       "      <td>train</td>\n",
       "      <td>0</td>\n",
       "      <td>0</td>\n",
       "      <td>54</td>\n",
       "      <td>31</td>\n",
       "      <td>17</td>\n",
       "      <td>20</td>\n",
       "      <td>...</td>\n",
       "      <td>1959.0</td>\n",
       "      <td>8</td>\n",
       "      <td>1</td>\n",
       "      <td>1</td>\n",
       "      <td>1</td>\n",
       "      <td>7.0</td>\n",
       "      <td>NaN</td>\n",
       "      <td>1.0</td>\n",
       "      <td>NaN</td>\n",
       "      <td>0</td>\n",
       "    </tr>\n",
       "  </tbody>\n",
       "</table>\n",
       "<p>5 rows × 34 columns</p>\n",
       "</div>"
      ]
     },
     "execution_count": 62,
     "metadata": {},
     "output_type": "execute_result"
    }
   ],
   "execution_count": 62
  },
  {
   "metadata": {
    "ExecuteTime": {
     "end_time": "2025-04-17T15:09:39.178567Z",
     "start_time": "2025-04-17T15:09:34.921615Z"
    }
   },
   "cell_type": "code",
   "source": [
    "# 商家特征处理\n",
    "groups = user_log.groupby(['merchant_id'])\n",
    "\n",
    "# 商家交互行为数量\n",
    "temp = groups.size().reset_index().rename(columns={0: 'm1'})\n",
    "all_data = all_data.merge(temp, on='merchant_id', how='left')\n",
    "\n",
    "# 统计商家被交互的user_id,item_id,cat_id,brand_id的唯一值\n",
    "temp = pd.DataFrame({\n",
    "    'm2': groups['user_id'].nunique(),\n",
    "    'm3': groups['item_id'].nunique(),\n",
    "    'm4': groups['cat_id'].nunique(),\n",
    "    'm5': groups['brand_id'].nunique()\n",
    "}).reset_index()\n",
    "all_data = all_data.merge(temp, on='merchant_id', how='left')\n",
    "\n",
    "# 统计商家被交互的action_type唯一值\n",
    "temp = groups['action_type'].value_counts().unstack().reset_index()\n",
    "temp.rename(columns={0: 'm6', 1: 'm7', 2: 'm8', 3: 'm9'}, inplace=True)\n",
    "all_data = all_data.merge(temp, on='merchant_id', how='left')\n",
    "\n",
    "del temp, groups\n",
    "gc.collect()"
   ],
   "id": "8917f8f8c5f442a5",
   "outputs": [
    {
     "data": {
      "text/plain": [
       "12"
      ]
     },
     "execution_count": 59,
     "metadata": {},
     "output_type": "execute_result"
    }
   ],
   "execution_count": 59
  },
  {
   "metadata": {
    "ExecuteTime": {
     "end_time": "2025-04-17T15:36:07.379259Z",
     "start_time": "2025-04-17T15:30:38.049513Z"
    }
   },
   "cell_type": "code",
   "source": [
    "# 用户店铺联合特征\n",
    "groups = user_log.groupby(['user_id', 'merchant_id'])\n",
    "\n",
    "# 用户在不同商家交互统计\n",
    "temp = groups.size().reset_index().rename(columns={0: 'um1'})\n",
    "all_data = all_data.merge(temp, on=['user_id', 'merchant_id'], how='left')\n",
    "\n",
    "# 统计用户在不同商家交互的item_id,cat_id,brand_id的唯一值\n",
    "temp = pd.DataFrame({\n",
    "    'um2': groups['item_id'].nunique(),\n",
    "    'um3': groups['cat_id'].nunique(),\n",
    "    'um4': groups['brand_id'].nunique()\n",
    "}).reset_index()\n",
    "all_data = all_data.merge(temp, on=['user_id', 'merchant_id'], how='left')\n",
    "\n",
    "# 统计用户在不同的商家交互的action_type唯一值\n",
    "temp = groups['action_type'].value_counts().unstack().reset_index()\n",
    "temp.rename(columns={0: 'um5', 1: 'um6', 2: 'um7', 3: 'um8'}, inplace=True)\n",
    "all_data = all_data.merge(temp, on=['user_id', 'merchant_id'], how='left')\n",
    "\n",
    "# 统计用户在不同商家交互的时间间隔\n",
    "temp = groups['time_stamp'].agg([('um9', lambda x: (x.max() - x.min()).seconds // 3600)]).reset_index()\n",
    "all_data = all_data.merge(temp, on=['user_id', 'merchant_id'], how='left')\n",
    "\n",
    "del temp, groups\n",
    "gc.collect()"
   ],
   "id": "cebefa57050bcdf5",
   "outputs": [
    {
     "data": {
      "text/plain": [
       "0"
      ]
     },
     "execution_count": 61,
     "metadata": {},
     "output_type": "execute_result"
    }
   ],
   "execution_count": 61
  },
  {
   "metadata": {
    "ExecuteTime": {
     "end_time": "2025-04-17T15:42:02.270381Z",
     "start_time": "2025-04-17T15:42:02.252535Z"
    }
   },
   "cell_type": "code",
   "source": [
    "# 购买点击比\n",
    "all_data['r1'] = all_data['u9'] / all_data['u7']  # 用户购买点击比\n",
    "all_data['r2'] = all_data['m8'] / all_data['m6']  # 商家购买点击比\n",
    "all_data['r3'] = all_data['um7'] / all_data['um5']  # 不同用户不同商家购买点击比\n",
    "all_data.head()"
   ],
   "id": "ba7c54fccfea8ee2",
   "outputs": [
    {
     "data": {
      "text/plain": [
       "   user_id  merchant_id label origin  age_range  gender   u1   u2  u3   u4  \\\n",
       "0    34176         3906   0.0  train          6       0  451  256  45  109   \n",
       "1    34176          121   0.0  train          6       0  451  256  45  109   \n",
       "2    34176         4356   1.0  train          6       0  451  256  45  109   \n",
       "3    34176         2217   0.0  train          6       0  451  256  45  109   \n",
       "4   230784         4818   0.0  train          0       0   54   31  17   20   \n",
       "\n",
       "   ...  um3  um4   um5  um6  um7  um8  um9        r1        r2        r3  \n",
       "0  ...    6    1  36.0  NaN  1.0  2.0    0  0.082927  0.027572  0.027778  \n",
       "1  ...    1    1  13.0  NaN  1.0  NaN    0  0.082927  0.066145  0.076923  \n",
       "2  ...    1    1  12.0  NaN  6.0  NaN    0  0.082927  0.158024  0.500000  \n",
       "3  ...    1    1   1.0  NaN  1.0  NaN    0  0.082927  0.071243  1.000000  \n",
       "4  ...    1    1   7.0  NaN  1.0  NaN    0  0.148936  0.063164  0.142857  \n",
       "\n",
       "[5 rows x 37 columns]"
      ],
      "text/html": [
       "<div>\n",
       "<style scoped>\n",
       "    .dataframe tbody tr th:only-of-type {\n",
       "        vertical-align: middle;\n",
       "    }\n",
       "\n",
       "    .dataframe tbody tr th {\n",
       "        vertical-align: top;\n",
       "    }\n",
       "\n",
       "    .dataframe thead th {\n",
       "        text-align: right;\n",
       "    }\n",
       "</style>\n",
       "<table border=\"1\" class=\"dataframe\">\n",
       "  <thead>\n",
       "    <tr style=\"text-align: right;\">\n",
       "      <th></th>\n",
       "      <th>user_id</th>\n",
       "      <th>merchant_id</th>\n",
       "      <th>label</th>\n",
       "      <th>origin</th>\n",
       "      <th>age_range</th>\n",
       "      <th>gender</th>\n",
       "      <th>u1</th>\n",
       "      <th>u2</th>\n",
       "      <th>u3</th>\n",
       "      <th>u4</th>\n",
       "      <th>...</th>\n",
       "      <th>um3</th>\n",
       "      <th>um4</th>\n",
       "      <th>um5</th>\n",
       "      <th>um6</th>\n",
       "      <th>um7</th>\n",
       "      <th>um8</th>\n",
       "      <th>um9</th>\n",
       "      <th>r1</th>\n",
       "      <th>r2</th>\n",
       "      <th>r3</th>\n",
       "    </tr>\n",
       "  </thead>\n",
       "  <tbody>\n",
       "    <tr>\n",
       "      <th>0</th>\n",
       "      <td>34176</td>\n",
       "      <td>3906</td>\n",
       "      <td>0.0</td>\n",
       "      <td>train</td>\n",
       "      <td>6</td>\n",
       "      <td>0</td>\n",
       "      <td>451</td>\n",
       "      <td>256</td>\n",
       "      <td>45</td>\n",
       "      <td>109</td>\n",
       "      <td>...</td>\n",
       "      <td>6</td>\n",
       "      <td>1</td>\n",
       "      <td>36.0</td>\n",
       "      <td>NaN</td>\n",
       "      <td>1.0</td>\n",
       "      <td>2.0</td>\n",
       "      <td>0</td>\n",
       "      <td>0.082927</td>\n",
       "      <td>0.027572</td>\n",
       "      <td>0.027778</td>\n",
       "    </tr>\n",
       "    <tr>\n",
       "      <th>1</th>\n",
       "      <td>34176</td>\n",
       "      <td>121</td>\n",
       "      <td>0.0</td>\n",
       "      <td>train</td>\n",
       "      <td>6</td>\n",
       "      <td>0</td>\n",
       "      <td>451</td>\n",
       "      <td>256</td>\n",
       "      <td>45</td>\n",
       "      <td>109</td>\n",
       "      <td>...</td>\n",
       "      <td>1</td>\n",
       "      <td>1</td>\n",
       "      <td>13.0</td>\n",
       "      <td>NaN</td>\n",
       "      <td>1.0</td>\n",
       "      <td>NaN</td>\n",
       "      <td>0</td>\n",
       "      <td>0.082927</td>\n",
       "      <td>0.066145</td>\n",
       "      <td>0.076923</td>\n",
       "    </tr>\n",
       "    <tr>\n",
       "      <th>2</th>\n",
       "      <td>34176</td>\n",
       "      <td>4356</td>\n",
       "      <td>1.0</td>\n",
       "      <td>train</td>\n",
       "      <td>6</td>\n",
       "      <td>0</td>\n",
       "      <td>451</td>\n",
       "      <td>256</td>\n",
       "      <td>45</td>\n",
       "      <td>109</td>\n",
       "      <td>...</td>\n",
       "      <td>1</td>\n",
       "      <td>1</td>\n",
       "      <td>12.0</td>\n",
       "      <td>NaN</td>\n",
       "      <td>6.0</td>\n",
       "      <td>NaN</td>\n",
       "      <td>0</td>\n",
       "      <td>0.082927</td>\n",
       "      <td>0.158024</td>\n",
       "      <td>0.500000</td>\n",
       "    </tr>\n",
       "    <tr>\n",
       "      <th>3</th>\n",
       "      <td>34176</td>\n",
       "      <td>2217</td>\n",
       "      <td>0.0</td>\n",
       "      <td>train</td>\n",
       "      <td>6</td>\n",
       "      <td>0</td>\n",
       "      <td>451</td>\n",
       "      <td>256</td>\n",
       "      <td>45</td>\n",
       "      <td>109</td>\n",
       "      <td>...</td>\n",
       "      <td>1</td>\n",
       "      <td>1</td>\n",
       "      <td>1.0</td>\n",
       "      <td>NaN</td>\n",
       "      <td>1.0</td>\n",
       "      <td>NaN</td>\n",
       "      <td>0</td>\n",
       "      <td>0.082927</td>\n",
       "      <td>0.071243</td>\n",
       "      <td>1.000000</td>\n",
       "    </tr>\n",
       "    <tr>\n",
       "      <th>4</th>\n",
       "      <td>230784</td>\n",
       "      <td>4818</td>\n",
       "      <td>0.0</td>\n",
       "      <td>train</td>\n",
       "      <td>0</td>\n",
       "      <td>0</td>\n",
       "      <td>54</td>\n",
       "      <td>31</td>\n",
       "      <td>17</td>\n",
       "      <td>20</td>\n",
       "      <td>...</td>\n",
       "      <td>1</td>\n",
       "      <td>1</td>\n",
       "      <td>7.0</td>\n",
       "      <td>NaN</td>\n",
       "      <td>1.0</td>\n",
       "      <td>NaN</td>\n",
       "      <td>0</td>\n",
       "      <td>0.148936</td>\n",
       "      <td>0.063164</td>\n",
       "      <td>0.142857</td>\n",
       "    </tr>\n",
       "  </tbody>\n",
       "</table>\n",
       "<p>5 rows × 37 columns</p>\n",
       "</div>"
      ]
     },
     "execution_count": 63,
     "metadata": {},
     "output_type": "execute_result"
    }
   ],
   "execution_count": 63
  },
  {
   "metadata": {
    "ExecuteTime": {
     "end_time": "2025-04-17T15:46:33.241614Z",
     "start_time": "2025-04-17T15:46:33.212551Z"
    }
   },
   "cell_type": "code",
   "source": [
    "# 空数据的填充\n",
    "all_data.fillna(0, inplace=True)"
   ],
   "id": "cb7ece30232f7ff7",
   "outputs": [],
   "execution_count": 66
  },
  {
   "metadata": {
    "ExecuteTime": {
     "end_time": "2025-04-17T16:02:49.633399Z",
     "start_time": "2025-04-17T16:02:49.480107Z"
    }
   },
   "cell_type": "code",
   "source": [
    "# 年龄性别类型的转换\n",
    "# 修改age_range字段名称为age_0,age_1,...,age_8\n",
    "# 独热编码\n",
    "temp = pd.get_dummies(all_data['age_range'], prefix='age')\n",
    "all_data = pd.concat([all_data, temp], axis=1)\n",
    "temp = pd.get_dummies(all_data['gender'], prefix='gender')\n",
    "all_data = pd.concat([all_data, temp], axis=1)\n",
    "# 删除原始数据\n",
    "all_data.drop(['age_range', 'gender'], axis=1, inplace=True)\n",
    "del temp\n",
    "gc.collect()"
   ],
   "id": "ca407f18312db038",
   "outputs": [
    {
     "data": {
      "text/plain": [
       "12"
      ]
     },
     "execution_count": 71,
     "metadata": {},
     "output_type": "execute_result"
    }
   ],
   "execution_count": 71
  },
  {
   "metadata": {
    "ExecuteTime": {
     "end_time": "2025-04-17T16:11:22.384598Z",
     "start_time": "2025-04-17T16:11:19.368073Z"
    }
   },
   "cell_type": "code",
   "source": [
    "# 数据存储\n",
    "train_data = all_data[all_data['origin'] == 'train'].drop(columns=['origin'], axis=1)\n",
    "test_data = all_data[all_data['origin'] == 'test'].drop(columns=['origin'], axis=1)\n",
    "\n",
    "train_data.to_csv('train_data.csv', index=False)\n",
    "test_data.to_csv('test_data.csv', index=False)"
   ],
   "id": "1bbf40b2a4248c74",
   "outputs": [],
   "execution_count": 74
  }
 ],
 "metadata": {
  "kernelspec": {
   "display_name": "Python 3",
   "language": "python",
   "name": "python3"
  },
  "language_info": {
   "codemirror_mode": {
    "name": "ipython",
    "version": 2
   },
   "file_extension": ".py",
   "mimetype": "text/x-python",
   "name": "python",
   "nbconvert_exporter": "python",
   "pygments_lexer": "ipython2",
   "version": "2.7.6"
  }
 },
 "nbformat": 4,
 "nbformat_minor": 5
}
