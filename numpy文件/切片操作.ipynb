{
 "cells": [
  {
   "cell_type": "code",
   "id": "initial_id",
   "metadata": {
    "collapsed": true,
    "ExecuteTime": {
     "end_time": "2025-04-09T14:37:27.819522Z",
     "start_time": "2025-04-09T14:37:27.785633Z"
    }
   },
   "source": [
    "import numpy as np\n",
    "\n",
    "n = np.array([10, 20, 30, 40, 50, 60, 70, 80, 90, 100])\n",
    "n"
   ],
   "outputs": [
    {
     "data": {
      "text/plain": [
       "array([ 10,  20,  30,  40,  50,  60,  70,  80,  90, 100])"
      ]
     },
     "execution_count": 1,
     "metadata": {},
     "output_type": "execute_result"
    }
   ],
   "execution_count": 1
  },
  {
   "metadata": {
    "ExecuteTime": {
     "end_time": "2025-04-09T14:37:58.048203Z",
     "start_time": "2025-04-09T14:37:58.044012Z"
    }
   },
   "cell_type": "code",
   "source": "n[:3]  # 取前3个元素",
   "id": "6c9f7c8e35d47c28",
   "outputs": [
    {
     "data": {
      "text/plain": [
       "array([10, 20, 30])"
      ]
     },
     "execution_count": 2,
     "metadata": {},
     "output_type": "execute_result"
    }
   ],
   "execution_count": 2
  },
  {
   "metadata": {
    "ExecuteTime": {
     "end_time": "2025-04-09T14:38:26.334862Z",
     "start_time": "2025-04-09T14:38:26.330309Z"
    }
   },
   "cell_type": "code",
   "source": "n[3:7]  # 取第4到第7个元素",
   "id": "120b2221d2e92087",
   "outputs": [
    {
     "data": {
      "text/plain": [
       "array([40, 50, 60, 70])"
      ]
     },
     "execution_count": 3,
     "metadata": {},
     "output_type": "execute_result"
    }
   ],
   "execution_count": 3
  },
  {
   "metadata": {
    "ExecuteTime": {
     "end_time": "2025-04-09T14:39:24.666986Z",
     "start_time": "2025-04-09T14:39:24.662641Z"
    }
   },
   "cell_type": "code",
   "source": "n[::2]  # 取所有元素，步长为2",
   "id": "37da55f4a6a19ff8",
   "outputs": [
    {
     "data": {
      "text/plain": [
       "array([10, 30, 50, 70, 90])"
      ]
     },
     "execution_count": 4,
     "metadata": {},
     "output_type": "execute_result"
    }
   ],
   "execution_count": 4
  },
  {
   "metadata": {
    "ExecuteTime": {
     "end_time": "2025-04-09T14:40:50.361813Z",
     "start_time": "2025-04-09T14:40:50.357685Z"
    }
   },
   "cell_type": "code",
   "source": "n[::-1]  # 反转数组",
   "id": "6ce3d5756a986777",
   "outputs": [
    {
     "data": {
      "text/plain": [
       "array([100,  90,  80,  70,  60,  50,  40,  30,  20,  10])"
      ]
     },
     "execution_count": 8,
     "metadata": {},
     "output_type": "execute_result"
    }
   ],
   "execution_count": 8
  }
 ],
 "metadata": {
  "kernelspec": {
   "display_name": "Python 3",
   "language": "python",
   "name": "python3"
  },
  "language_info": {
   "codemirror_mode": {
    "name": "ipython",
    "version": 2
   },
   "file_extension": ".py",
   "mimetype": "text/x-python",
   "name": "python",
   "nbconvert_exporter": "python",
   "pygments_lexer": "ipython2",
   "version": "2.7.6"
  }
 },
 "nbformat": 4,
 "nbformat_minor": 5
}
