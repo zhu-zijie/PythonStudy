{
 "cells": [
  {
   "cell_type": "code",
   "id": "initial_id",
   "metadata": {
    "collapsed": true,
    "ExecuteTime": {
     "end_time": "2025-04-09T14:31:35.126946Z",
     "start_time": "2025-04-09T14:31:35.122895Z"
    }
   },
   "source": [
    "import numpy as np\n",
    "\n",
    "n1 = np.array([1, 2, 3])\n",
    "n2 = np.array([4, 5, 6])\n",
    "print('加法：', n1 + n2)\n",
    "print('减法：', n1 - n2)\n",
    "print('乘法：', n1 * n2)\n",
    "print('除法：', n1 / n2)\n",
    "print('幂运算：', n1 ** n2)\n",
    "print('比较运算：', n1 > n2)"
   ],
   "outputs": [
    {
     "name": "stdout",
     "output_type": "stream",
     "text": [
      "加法： [5 7 9]\n",
      "减法： [-3 -3 -3]\n",
      "乘法： [ 4 10 18]\n",
      "除法： [0.25 0.4  0.5 ]\n",
      "幂运算： [  1  32 729]\n",
      "比较运算： [False False False]\n"
     ]
    }
   ],
   "execution_count": 4
  },
  {
   "metadata": {
    "ExecuteTime": {
     "end_time": "2025-04-09T14:32:51.042892Z",
     "start_time": "2025-04-09T14:32:51.036007Z"
    }
   },
   "cell_type": "code",
   "source": [
    "# 数组中的索引\n",
    "n = np.array([1, 2, 3])\n",
    "n[0]"
   ],
   "id": "f7940644494ab174",
   "outputs": [
    {
     "data": {
      "text/plain": [
       "np.int64(1)"
      ]
     },
     "execution_count": 5,
     "metadata": {},
     "output_type": "execute_result"
    }
   ],
   "execution_count": 5
  },
  {
   "metadata": {
    "ExecuteTime": {
     "end_time": "2025-04-09T14:34:56.013854Z",
     "start_time": "2025-04-09T14:34:56.008232Z"
    }
   },
   "cell_type": "code",
   "source": [
    "n = np.array([[1, 2, 3], [4, 5, 6], [7, 8, 9]])\n",
    "n[0, 0], n[1][2], n[-1]"
   ],
   "id": "65ff8cea82f299e1",
   "outputs": [
    {
     "data": {
      "text/plain": [
       "(np.int64(1), np.int64(6), array([7, 8, 9]))"
      ]
     },
     "execution_count": 6,
     "metadata": {},
     "output_type": "execute_result"
    }
   ],
   "execution_count": 6
  }
 ],
 "metadata": {
  "kernelspec": {
   "display_name": "Python 3",
   "language": "python",
   "name": "python3"
  },
  "language_info": {
   "codemirror_mode": {
    "name": "ipython",
    "version": 2
   },
   "file_extension": ".py",
   "mimetype": "text/x-python",
   "name": "python",
   "nbconvert_exporter": "python",
   "pygments_lexer": "ipython2",
   "version": "2.7.6"
  }
 },
 "nbformat": 4,
 "nbformat_minor": 5
}
