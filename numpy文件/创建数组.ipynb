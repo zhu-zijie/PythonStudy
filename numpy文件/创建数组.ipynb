{
 "cells": [
  {
   "cell_type": "code",
   "id": "initial_id",
   "metadata": {
    "collapsed": true
   },
   "source": [
    "import numpy as np\n",
    "from numpy.ma.core import ones_like\n",
    "\n",
    "n1 = np.array([1, 2, 3])\n",
    "n1"
   ],
   "outputs": [],
   "execution_count": null
  },
  {
   "metadata": {},
   "cell_type": "code",
   "source": [
    "n2 = np.array([[1, 2, 3], [4, 5, 6], [7, 8, 9]])\n",
    "n2"
   ],
   "id": "29c4ccfc0a015645",
   "outputs": [],
   "execution_count": null
  },
  {
   "metadata": {},
   "cell_type": "code",
   "source": [
    "# 创建数组时指定类型\n",
    "n3 = np.array([[1, 2, 3], [4, 5, 6], [7, 8, 9]], dtype=float)\n",
    "n3"
   ],
   "id": "7970967ab8af3842",
   "outputs": [],
   "execution_count": null
  },
  {
   "metadata": {},
   "cell_type": "code",
   "source": [
    "# 数组复制\n",
    "n4 = np.array([1, 2, 3])\n",
    "n5 = np.array(n4, copy=True)\n",
    "n5[0] = 100\n",
    "n5[1] = 200\n",
    "n5"
   ],
   "id": "e0f4f521bb85ef78",
   "outputs": [],
   "execution_count": null
  },
  {
   "metadata": {},
   "cell_type": "code",
   "source": [
    "# 指定维数\n",
    "lst = [1, 2, 3]\n",
    "n6 = np.array(lst, ndmin=3)  # 指定维数为3\n",
    "n6"
   ],
   "id": "83241226b4c7d469",
   "outputs": [],
   "execution_count": null
  },
  {
   "metadata": {},
   "cell_type": "code",
   "source": [
    "# 不同方式创建数组\n",
    "n7 = np.empty([4, 3])  # 创建一个4行3列的空数组\n",
    "n7"
   ],
   "id": "12ab49474f7f",
   "outputs": [],
   "execution_count": null
  },
  {
   "metadata": {},
   "cell_type": "code",
   "source": [
    "# 创建一个全为0的数组\n",
    "n8 = np.zeros([4, 3])\n",
    "n8"
   ],
   "id": "236228671f1e123e",
   "outputs": [],
   "execution_count": null
  },
  {
   "metadata": {},
   "cell_type": "code",
   "source": [
    "# 创建一个全为1的数组\n",
    "n9 = np.ones([4, 3])\n",
    "n9"
   ],
   "id": "c33fde0955a547e2",
   "outputs": [],
   "execution_count": null
  },
  {
   "metadata": {},
   "cell_type": "code",
   "source": [
    "# 创建一个全为指定值的数组\n",
    "n10 = np.full([4, 3], 5)\n",
    "n10"
   ],
   "id": "873e75e205bd4ed7",
   "outputs": [],
   "execution_count": null
  },
  {
   "metadata": {},
   "cell_type": "code",
   "source": [
    "n11 = np.arange(1, 11, 2)\n",
    "n11"
   ],
   "id": "7ea4e4b9d3f1b1bc",
   "outputs": [],
   "execution_count": null
  },
  {
   "metadata": {},
   "cell_type": "code",
   "source": [
    "n12 = np.linspace(100, 200, 5, endpoint=True)  # 创建一个从100到200的数组，包含5个元素，包含200\n",
    "n12"
   ],
   "id": "3746b6767317a967",
   "outputs": [],
   "execution_count": null
  },
  {
   "metadata": {},
   "cell_type": "code",
   "source": [
    "n13 = np.logspace(0, 63, 64, base=2, dtype='uint64')  # 创建一个从2^0到2^63的数组，包含64个元素\n",
    "n13"
   ],
   "id": "afe4e6159c7a9a33",
   "outputs": [],
   "execution_count": null
  },
  {
   "metadata": {},
   "cell_type": "code",
   "source": [
    "n14 = np.random.randint(1, 3, 10)  # 创建一个包含10个随机整数的数组，范围在1到3之间\n",
    "n14"
   ],
   "id": "b1f867b23d9a0be",
   "outputs": [],
   "execution_count": null
  },
  {
   "metadata": {},
   "cell_type": "code",
   "source": [
    "n15 = np.random.randint(1, 3, size=(3, 4))  # 创建一个3行4列的随机整数数组，范围在1到3之间\n",
    "n15"
   ],
   "id": "1d776bd02a8a7300",
   "outputs": [],
   "execution_count": null
  },
  {
   "metadata": {},
   "cell_type": "code",
   "source": [
    "n16 = np.random.normal(0, 1, size=(3, 4))  # 创建一个3行4列的正态分布随机数数组，均值为0，标准差为1\n",
    "n16"
   ],
   "id": "69d2450fabac38e3",
   "outputs": [],
   "execution_count": null
  },
  {
   "metadata": {},
   "cell_type": "code",
   "source": [
    "# asarray函数的使用\n",
    "n17 = np.asarray([1, 2, 3])  # 通过列表创建一个数组\n",
    "n17"
   ],
   "id": "83bc54fbaa25f2d3",
   "outputs": [],
   "execution_count": null
  },
  {
   "metadata": {},
   "cell_type": "code",
   "source": [
    "n18 = np.asarray([(1, 2, 3), (4, 5, 6), (7, 8, 9)])  # 通过列表的元组创建一个数组\n",
    "n18"
   ],
   "id": "6bae321383cd2726",
   "outputs": [],
   "execution_count": null
  },
  {
   "metadata": {},
   "cell_type": "code",
   "source": [
    "n19 = np.asarray((1, 2, 3))  # 通过元组创建一个数组\n",
    "n19"
   ],
   "id": "581b154303911e98",
   "outputs": [],
   "execution_count": null
  },
  {
   "metadata": {},
   "cell_type": "code",
   "source": [
    "n20 = np.asarray(((1, 2, 3), (4, 5, 6), (7, 8, 9)))  # 通过元组的元组创建一个数组\n",
    "n20"
   ],
   "id": "570d63e8e83e29d7",
   "outputs": [],
   "execution_count": null
  },
  {
   "metadata": {},
   "cell_type": "code",
   "source": [
    "# 动态数组\n",
    "n21 = np.frombuffer(b'zhuzijie', dtype='S1')  # S1表示每个元素占用1个字节\n",
    "n21"
   ],
   "id": "a8c69e072c81a2c4",
   "outputs": [],
   "execution_count": null
  },
  {
   "metadata": {},
   "cell_type": "code",
   "source": [
    "# 从迭代对象中创建数组对象\n",
    "iters = (i for i in range(10))\n",
    "n22 = np.fromiter(iters, dtype=int)  # 通过迭代器创建一个数组\n",
    "n22"
   ],
   "id": "13e756ece696d7ef",
   "outputs": [],
   "execution_count": null
  },
  {
   "metadata": {},
   "cell_type": "code",
   "source": [
    "# empty_like函数的使用\n",
    "n23 = np.empty_like([[1, 2], [3, 4]])  # 创建一个和指定数组形状相同的空数组\n",
    "n23"
   ],
   "id": "308b0ebc3071e096",
   "outputs": [],
   "execution_count": null
  },
  {
   "metadata": {},
   "cell_type": "code",
   "source": [
    "n24 = np.zeros_like([[1, 2], [3, 4]])  # 创建一个和指定数组形状相同的全为0的数组\n",
    "n24"
   ],
   "id": "8bbb85423fd966f2",
   "outputs": [],
   "execution_count": null
  },
  {
   "metadata": {},
   "cell_type": "code",
   "source": [
    "n25 = np.ones_like([[1, 2], [3, 4]])\n",
    "n25"
   ],
   "id": "e698d60abc217860",
   "outputs": [],
   "execution_count": null
  },
  {
   "metadata": {},
   "cell_type": "code",
   "source": [
    "n26 = np.full_like([[1, 2], [3, 4]], 8)\n",
    "n26"
   ],
   "id": "6043c9745cc7e8ff",
   "outputs": [],
   "execution_count": null
  }
 ],
 "metadata": {
  "kernelspec": {
   "display_name": "Python 3",
   "language": "python",
   "name": "python3"
  },
  "language_info": {
   "codemirror_mode": {
    "name": "ipython",
    "version": 2
   },
   "file_extension": ".py",
   "mimetype": "text/x-python",
   "name": "python",
   "nbconvert_exporter": "python",
   "pygments_lexer": "ipython2",
   "version": "2.7.6"
  }
 },
 "nbformat": 4,
 "nbformat_minor": 5
}
