{
 "cells": [
  {
   "cell_type": "code",
   "id": "initial_id",
   "metadata": {
    "collapsed": true,
    "ExecuteTime": {
     "end_time": "2025-04-09T07:32:36.579047Z",
     "start_time": "2025-04-09T07:32:36.573656Z"
    }
   },
   "source": [
    "import numpy as np\n",
    "\n",
    "n1 = np.array([1, 2, 3], dtype=int)\n",
    "n2 = np.array([1, 2, 3], dtype='int32')\n",
    "n3 = np.array([1, 2, 3], dtype='int64')\n",
    "n4 = np.array([1, 2, 3], dtype='int_')\n",
    "n5 = np.array([1, 2, 3], dtype='float')\n",
    "n6 = np.array(['2025-01-01'], dtype='datetime64')\n",
    "n1, n2, n3, n4, n5, n6"
   ],
   "outputs": [
    {
     "data": {
      "text/plain": [
       "(array([1, 2, 3]),\n",
       " array([1, 2, 3], dtype=int32),\n",
       " array([1, 2, 3]),\n",
       " array([1, 2, 3]),\n",
       " array([1., 2., 3.]),\n",
       " array(['2025-01-01'], dtype='datetime64[D]'))"
      ]
     },
     "execution_count": 4,
     "metadata": {},
     "output_type": "execute_result"
    }
   ],
   "execution_count": 4
  }
 ],
 "metadata": {
  "kernelspec": {
   "display_name": "Python 3",
   "language": "python",
   "name": "python3"
  },
  "language_info": {
   "codemirror_mode": {
    "name": "ipython",
    "version": 2
   },
   "file_extension": ".py",
   "mimetype": "text/x-python",
   "name": "python",
   "nbconvert_exporter": "python",
   "pygments_lexer": "ipython2",
   "version": "2.7.6"
  }
 },
 "nbformat": 4,
 "nbformat_minor": 5
}
