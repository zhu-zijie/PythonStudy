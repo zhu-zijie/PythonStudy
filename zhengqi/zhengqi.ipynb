{
 "cells": [
  {
   "cell_type": "code",
   "id": "initial_id",
   "metadata": {
    "collapsed": true
   },
   "source": [
    "# 导入数据分析和可视化所需的库\n",
    "import numpy as np  # 用于数值计算\n",
    "import matplotlib.pyplot as plt  # 用于绘图\n",
    "import pandas as pd  # 用于数据处理\n",
    "import seaborn as sns  # 用于统计数据可视化\n",
    "import warnings\n",
    "from scipy import stats  # 用于统计分析\n",
    "\n",
    "warnings.filterwarnings('ignore')  # 忽略警告信息"
   ],
   "outputs": [],
   "execution_count": null
  },
  {
   "metadata": {},
   "cell_type": "code",
   "source": [
    "# 定义数据文件路径\n",
    "train_data_file = '/Users/zhuzijie/Downloads/zhengqi/zhengqi_train.txt'\n",
    "test_data_file = '/Users/zhuzijie/Downloads/zhengqi/zhengqi_test.txt'\n",
    "# 读取训练和测试数据集（以制表符分隔）\n",
    "train_data = pd.read_csv(train_data_file, sep='\\t')\n",
    "test_data = pd.read_csv(test_data_file, sep='\\t')\n",
    "# 显示训练数据的统计摘要\n",
    "train_data.describe()"
   ],
   "id": "314ad87ee4c90987",
   "outputs": [],
   "execution_count": null
  },
  {
   "metadata": {},
   "cell_type": "code",
   "source": [
    "# 为V0特征创建单独的箱线图\n",
    "fig_test = plt.figure(figsize=(12, 8))  # 设置图形大小\n",
    "sns.boxplot(x=train_data['V0'], width=0.5)  # 绘制箱线图，宽度为0.5\n",
    "plt.savefig('./2-特征箱式图.jpg', dpi=300)  # 保存图形为高分辨率图片"
   ],
   "id": "d85a2c7a41418c6f",
   "outputs": [],
   "execution_count": null
  },
  {
   "metadata": {},
   "cell_type": "code",
   "source": [
    "# 为所有特征绘制箱线图\n",
    "# 获取所有特征（不包括目标变量）\n",
    "features = train_data.columns.tolist()[:38]  # 确保只包含38个特征\n",
    "num_features = len(features)\n",
    "\n",
    "# 计算布局\n",
    "n_cols = 3\n",
    "n_rows = (num_features + n_cols - 1) // n_cols  # 向上取整\n",
    "\n",
    "# 创建子图布局\n",
    "fig, axes = plt.subplots(n_rows, n_cols, figsize=(15, n_rows * 2.5))\n",
    "axes = axes.flatten()  # 将二维数组展平为一维，便于索引\n",
    "\n",
    "# 设置全局标题\n",
    "fig.suptitle('各特征的分布情况（箱线图）', fontsize=16, y=0.92)\n",
    "\n",
    "# 设置字体\n",
    "plt.rcParams['font.sans-serif'] = ['Arial Unicode MS']\n",
    "\n",
    "# 统一样式参数\n",
    "box_props = {\n",
    "    'boxprops': {'facecolor': '#1f77b4', 'edgecolor': 'black', 'alpha': 0.7},\n",
    "    'medianprops': {'color': 'red'},\n",
    "    'whiskerprops': {'color': 'black'},\n",
    "    'capprops': {'color': 'black'}\n",
    "}\n",
    "\n",
    "# 遍历每个特征绘制箱线图\n",
    "for i, feature in enumerate(features):\n",
    "    # 在当前子图上绘制箱线图\n",
    "    sns.boxplot(x=train_data[feature], ax=axes[i], width=0.6, **box_props)\n",
    "\n",
    "    # 添加网格线\n",
    "    axes[i].grid(True, linestyle='--', alpha=0.3)\n",
    "\n",
    "    # 设置标题和轴标签\n",
    "    axes[i].set_title(feature, fontsize=10)\n",
    "    axes[i].set_xlabel('值', fontsize=8)\n",
    "    axes[i].set_ylabel('频率', fontsize=8)\n",
    "    axes[i].tick_params(axis='both', labelsize=7)\n",
    "\n",
    "# 隐藏多余的子图\n",
    "for i in range(num_features, len(axes)):\n",
    "    axes[i].set_visible(False)\n",
    "\n",
    "# 调整布局\n",
    "plt.tight_layout()\n",
    "plt.subplots_adjust(top=0.9)  # 为标题留出空间\n",
    "\n",
    "# 保存高分辨率图片\n",
    "plt.savefig('./特征箱线图.png', dpi=300, bbox_inches='tight')\n",
    "\n",
    "plt.show()\n",
    "\n",
    "plt.close(fig)"
   ],
   "id": "8b4120a0cab0e6bb",
   "outputs": [],
   "execution_count": null
  },
  {
   "metadata": {},
   "cell_type": "code",
   "source": [
    "# 创建单特征分布对比图：训练集与测试集的V0特征\n",
    "# 创建图形和坐标轴\n",
    "fig, ax = plt.subplots(figsize=(10, 6))\n",
    "\n",
    "# 用来正常显示中文标签\n",
    "plt.rcParams['font.sans-serif'] = ['Arial Unicode MS']\n",
    "\n",
    "# 定义一致的颜色方案\n",
    "train_color = '#E41A1C'  # 红色\n",
    "test_color = '#377EB8'  # 蓝色\n",
    "\n",
    "# 绘制核密度估计图\n",
    "sns.kdeplot(train_data['V0'], color=train_color, fill=True, alpha=0.8, ax=ax, label='训练集')\n",
    "sns.kdeplot(test_data['V0'], color=test_color, fill=True, alpha=0.8, ax=ax, label='测试集')\n",
    "\n",
    "# 设置图表标题和标签\n",
    "ax.set_title('V0特征的分布对比', fontsize=14, pad=10)\n",
    "ax.set_xlabel('V0值', fontsize=12)\n",
    "ax.set_ylabel('密度', fontsize=12)\n",
    "\n",
    "# 添加图例\n",
    "ax.legend(fontsize=10)\n",
    "\n",
    "# 优化刻度标签大小\n",
    "ax.tick_params(axis='both', labelsize=10)\n",
    "\n",
    "# 添加网格线提高可读性\n",
    "ax.grid(True, linestyle='--', alpha=0.3)\n",
    "\n",
    "# 调整布局\n",
    "plt.tight_layout()\n",
    "\n",
    "# 保存高分辨率图片\n",
    "plt.savefig('./V0特征分布对比.jpg', dpi=300, bbox_inches='tight')\n",
    "\n",
    "# 显示图形\n",
    "plt.show()\n",
    "\n",
    "plt.close(fig)"
   ],
   "id": "aa3dff08c6aafbb7",
   "outputs": [],
   "execution_count": null
  },
  {
   "metadata": {},
   "cell_type": "code",
   "source": [
    "# 创建多个子图比较训练集和测试集的特征分布\n",
    "# 计算布局参数\n",
    "dist_cols = 6\n",
    "dist_rows = (len(test_data.columns) + dist_cols - 1) // dist_cols  # 向上取整确保空间足够\n",
    "\n",
    "# 创建图形和轴对象数组\n",
    "fig, axes = plt.subplots(dist_rows, dist_cols, figsize=(4 * dist_cols, 3.5 * dist_rows))\n",
    "axes = axes.flatten()  # 将二维数组展平为一维，便于索引\n",
    "\n",
    "# 用来正常显示中文标签\n",
    "plt.rcParams['font.sans-serif'] = ['Arial Unicode MS']\n",
    "\n",
    "# 设置全局标题\n",
    "fig.suptitle('特征分布对比: 训练集 vs 测试集', fontsize=16, y=0.92)\n",
    "\n",
    "# 定义一致的颜色和样式\n",
    "train_color = '#E41A1C'  # 红色\n",
    "test_color = '#377EB8'  # 蓝色\n",
    "\n",
    "# 遍历所有特征\n",
    "for i, col in enumerate(test_data.columns):\n",
    "    # 在当前子图上绘制核密度估计\n",
    "    sns.kdeplot(train_data[col], color=train_color, fill=True, alpha=0.8, ax=axes[i], label='训练集')\n",
    "    sns.kdeplot(test_data[col], color=test_color, fill=True, alpha=0.8, ax=axes[i], label='测试集')\n",
    "\n",
    "    # 设置轴标签\n",
    "    axes[i].set_xlabel(col, fontsize=10)\n",
    "    axes[i].set_ylabel('密度', fontsize=10)\n",
    "    axes[i].legend(fontsize=8)\n",
    "    axes[i].tick_params(axis='both', labelsize=8)  # 调整刻度标签大小\n",
    "\n",
    "# 隐藏多余的子图\n",
    "for i in range(len(test_data.columns), len(axes)):\n",
    "    axes[i].set_visible(False)\n",
    "\n",
    "# 调整子图之间的间距\n",
    "plt.tight_layout()\n",
    "plt.subplots_adjust(top=0.9)  # 为标题留出空间\n",
    "\n",
    "# 保存高分辨率图片\n",
    "plt.savefig('./特征分布对比.png', dpi=300, bbox_inches='tight')\n",
    "plt.show()\n",
    "plt.close(fig)"
   ],
   "id": "ab3f803d2f243c89",
   "outputs": [],
   "execution_count": null
  },
  {
   "metadata": {},
   "cell_type": "code",
   "source": [
    "# 特征变量相关性\n",
    "drop_col_kde = ['V5', 'V9', 'V11', 'V17', 'V22', 'V28']\n",
    "train_data_drop = train_data.drop(columns=drop_col_kde)\n",
    "train_corr = train_data_drop.corr()\n",
    "train_corr"
   ],
   "id": "ee048039f8392ac4",
   "outputs": [],
   "execution_count": null
  },
  {
   "metadata": {},
   "cell_type": "code",
   "source": [
    "# 绘制热力图显示特征之间的相关性\n",
    "fig, ax = plt.subplots(figsize=(20, 16))  # 创建一个大尺寸的图形(20x20英寸)以容纳所有相关性数据\n",
    "sns.heatmap(train_corr, vmax=.8, square=True, annot=True, ax=ax)  # 绘制相关性热力图，设置最大颜色值为0.8，使用方形单元格，并在每个单元格中显示具体的相关系数值"
   ],
   "id": "f1b556f71eaf8e17",
   "outputs": [],
   "execution_count": null
  },
  {
   "metadata": {},
   "cell_type": "code",
   "source": [
    "# 创建优化的相关性热力图（下三角矩阵）\n",
    "plt.figure(figsize=(20, 16), clear=True)\n",
    "\n",
    "# 计算相关性矩阵\n",
    "corr_matrix = train_data_drop.corr()\n",
    "\n",
    "# 创建掩码以仅显示下三角矩阵，避免信息重复\n",
    "mask = np.triu(np.ones_like(corr_matrix, dtype=bool))\n",
    "\n",
    "# 创建更美观的颜色映射\n",
    "cmap = sns.diverging_palette(230, 20, as_cmap=True)  # 蓝-白-红配色方案\n",
    "\n",
    "# 设置中文字体\n",
    "plt.rcParams['font.sans-serif'] = ['Arial Unicode MS']\n",
    "\n",
    "# 绘制热力图\n",
    "sns.heatmap(\n",
    "    corr_matrix,\n",
    "    mask=mask,\n",
    "    cmap=cmap,\n",
    "    vmin=-1,  # 设置颜色范围\n",
    "    vmax=1,\n",
    "    center=0,  # 将白色设为0值\n",
    "    square=True,  # 确保单元格为正方形\n",
    "    annot=True,  # 显示相关系数\n",
    "    fmt='.2f',  # 保留两位小数\n",
    "    linewidths=0.5,  # 设置网格线宽度\n",
    "    cbar_kws={'shrink': 0.8, 'label': '相关系数'}  # 自定义颜色条\n",
    ")\n",
    "\n",
    "# 设置标题\n",
    "plt.title('特征相关性分析热力图', fontsize=16, pad=10)\n",
    "\n",
    "# 优化布局\n",
    "plt.tight_layout()\n",
    "\n",
    "# 保存高分辨率图片\n",
    "plt.savefig('./特征相关性分析.png', dpi=300, bbox_inches='tight')\n",
    "\n",
    "# 显示图形\n",
    "plt.show()"
   ],
   "id": "aa44569acba75ce1",
   "outputs": [],
   "execution_count": null
  },
  {
   "metadata": {},
   "cell_type": "code",
   "source": [
    "# 根据数据分布进行特征删除\n",
    "train_data.drop(drop_col_kde, axis=1, inplace=True)\n",
    "test_data.drop(drop_col_kde, axis=1, inplace=True)\n",
    "train_data.head()"
   ],
   "id": "86e07be1513abadb",
   "outputs": [],
   "execution_count": null
  },
  {
   "metadata": {},
   "cell_type": "code",
   "source": [
    "# 根据相关性系数进行特征筛选\n",
    "cond = corr_matrix['target'].abs() < 0.1\n",
    "drop_col_corr = corr_matrix.index[cond]\n",
    "train_data.drop(drop_col_corr, axis=1, inplace=True)\n",
    "test_data.drop(drop_col_corr, axis=1, inplace=True)\n",
    "test_data.tail()"
   ],
   "id": "2b5067eda0ff471e",
   "outputs": [],
   "execution_count": null
  },
  {
   "metadata": {},
   "cell_type": "code",
   "source": [
    "# 整合训练数据和测试数据\n",
    "train_data['label'] = 'train'\n",
    "test_data['label'] = 'test'\n",
    "all_data = pd.concat([train_data, test_data])\n",
    "all_data.to_csv('./processed_zhengqi_data.csv', index=False)"
   ],
   "id": "b575806abe1ad942",
   "outputs": [],
   "execution_count": null
  },
  {
   "metadata": {},
   "cell_type": "code",
   "source": [
    "# 特征归一化\n",
    "columns = list(all_data.columns)\n",
    "# 删除标签列索引\n",
    "columns.remove('label')\n",
    "# 删除目标值\n",
    "columns.remove('target')\n",
    "all_data[columns].head()"
   ],
   "id": "8d384a93b50f1047",
   "outputs": [],
   "execution_count": null
  },
  {
   "metadata": {},
   "cell_type": "code",
   "source": [
    "# 定义归一化\n",
    "def norm_min_max(col):\n",
    "    return (col - col.min()) / (col.max() - col.min())\n",
    "\n",
    "\n",
    "all_data[columns] = all_data[columns].apply(norm_min_max, axis=0)\n",
    "all_data.describe()"
   ],
   "id": "f3750c55049f857e",
   "outputs": [],
   "execution_count": null
  },
  {
   "metadata": {},
   "cell_type": "code",
   "source": [
    "# 获取训练数据\n",
    "cond = all_data['label'] == 'train'\n",
    "train_data = all_data[cond]\n",
    "train_data.drop(labels='label', axis=1, inplace=True)"
   ],
   "id": "ef0c24483f7c2635",
   "outputs": [],
   "execution_count": null
  },
  {
   "metadata": {
    "ExecuteTime": {
     "end_time": "2025-04-20T14:54:06.090411Z",
     "start_time": "2025-04-20T14:54:06.004955Z"
    }
   },
   "cell_type": "code",
   "source": "",
   "id": "43e898bdb448e401",
   "outputs": [
    {
     "data": {
      "text/plain": [
       "<Figure size 1200x400 with 1 Axes>"
      ],
      "image/png": "[encoded data removed]"
     },
     "metadata": {},
     "output_type": "display_data"
    }
   ],
   "execution_count": 25
  }
 ],
 "metadata": {
  "kernelspec": {
   "display_name": "Python 3",
   "language": "python",
   "name": "python3"
  },
  "language_info": {
   "codemirror_mode": {
    "name": "ipython",
    "version": 2
   },
   "file_extension": ".py",
   "mimetype": "text/x-python",
   "name": "python",
   "nbconvert_exporter": "python",
   "pygments_lexer": "ipython2",
   "version": "2.7.6"
  }
 },
 "nbformat": 4,
 "nbformat_minor": 5
}
