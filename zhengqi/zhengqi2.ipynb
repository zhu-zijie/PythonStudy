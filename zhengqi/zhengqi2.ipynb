{
 "cells": [
  {
   "metadata": {},
   "cell_type": "markdown",
   "source": "### 1 导入数据分析相关的库",
   "id": "283ac84de875e8e"
  },
  {
   "cell_type": "code",
   "id": "initial_id",
   "metadata": {
    "collapsed": true
   },
   "source": [
    "import numpy as np\n",
    "import pandas as pd\n",
    "import matplotlib.pyplot as plt\n",
    "from sklearn.linear_model import LinearRegression  #线性回归\n",
    "from sklearn.ensemble import RandomForestRegressor  #随机森林回归\n",
    "from sklearn.ensemble import GradientBoostingRegressor  #梯度提升回归\n",
    "from sklearn.svm import SVR  #支持向量机回归\n",
    "import lightgbm as lgb  #LightGBM\n",
    "from xgboost import XGBRegressor  #XGBoost\n",
    "from sklearn.model_selection import learning_curve  # 用于学习曲线绘制\n",
    "from sklearn.model_selection import ShuffleSplit  # 用于数据集划分\n",
    "from sklearn.model_selection import train_test_split  # 用于数据集划分\n",
    "from sklearn.metrics import mean_squared_error  #均方误差\n",
    "import warnings\n",
    "\n",
    "warnings.filterwarnings('ignore')"
   ],
   "outputs": [],
   "execution_count": null
  },
  {
   "metadata": {},
   "cell_type": "markdown",
   "source": "### 2 数据加载",
   "id": "fc37b3cf2fccbe95"
  },
  {
   "metadata": {},
   "cell_type": "markdown",
   "source": "##### 2.1 未降维数据",
   "id": "be12b7b3860381f"
  },
  {
   "metadata": {},
   "cell_type": "code",
   "source": [
    "all_data = pd.read_csv('./processed_zhengqi_data.csv')\n",
    "\n",
    "# 训练数据\n",
    "cond1 = all_data['label'] == 'train'\n",
    "train_data = all_data[cond1]\n",
    "train_data.drop(labels=['label'], axis=1, inplace=True)\n",
    "# 切分数据\n",
    "X_train, X_valid, y_train, y_valid = train_test_split(train_data.drop(labels=['target'], axis=1), train_data['target'],\n",
    "                                                      test_size=0.2)\n",
    "# 测试数据\n",
    "cond2 = all_data['label'] == 'test'\n",
    "test_data = all_data[cond2]\n",
    "test_data.drop(labels=['label', 'target'], axis=1, inplace=True)"
   ],
   "id": "ccc7e052f56d1aa3",
   "outputs": [],
   "execution_count": null
  },
  {
   "metadata": {},
   "cell_type": "markdown",
   "source": "##### 2.2 降维数据",
   "id": "e046e72ec85ff3c0"
  },
  {
   "metadata": {},
   "cell_type": "code",
   "source": [
    "# 采用pca保留特征的数据\n",
    "train_data_pca = np.load('./train_data_pca.npz')['X_train']\n",
    "target_data_pca = np.load('./train_data_pca.npz')['y_train']\n",
    "# 切分数据\n",
    "X_train_pca, X_valid_pca, y_train_pca, y_valid_pca = train_test_split(train_data_pca, target_data_pca, test_size=0.2)\n",
    "test_data_pca = np.load('./test_data_pca.npz')['X_test']"
   ],
   "id": "75909866d25df3f7",
   "outputs": [],
   "execution_count": null
  },
  {
   "metadata": {},
   "cell_type": "markdown",
   "source": "### 3 定义绘制模型学习曲线的函数",
   "id": "2c2b66100e9b10ed"
  },
  {
   "metadata": {},
   "cell_type": "code",
   "source": [
    "def plot_learn_curve(model, title, X, y, cv=None):\n",
    "    \"\"\"\n",
    "    绘制模型学习曲线\n",
    "    :param model: 模型\n",
    "    :param title: 标题\n",
    "    :param X: 特征\n",
    "    :param y: 标签\n",
    "    :param cv: 交叉验证划分器\n",
    "    \"\"\"\n",
    "\n",
    "    # 学习曲线\n",
    "    train_sizes, train_scores, test_scores = learning_curve(model, X, y, cv=cv)\n",
    "    # 计算训练集和测试集的平均分数和标准差\n",
    "    train_scores_std = np.std(train_scores, axis=1)\n",
    "    train_scores_mean = np.mean(train_scores, axis=1)\n",
    "    test_scores_mean = np.mean(test_scores, axis=1)\n",
    "    test_scores_std = np.std(test_scores, axis=1)\n",
    "\n",
    "    # 训练数据得分可视化\n",
    "    plt.plot(train_sizes, train_scores_mean, 'o-', label=\"Training score\", color=\"r\")\n",
    "    plt.fill_between(train_sizes, train_scores_mean - train_scores_std, train_scores_mean + train_scores_std, alpha=0.1,\n",
    "                     color=\"r\")\n",
    "\n",
    "    # 测试数据得分可视化\n",
    "    plt.plot(train_sizes, test_scores_mean, 'o-', label=\"Cross-validation score\", color=\"g\")\n",
    "    plt.fill_between(train_sizes, test_scores_mean - test_scores_std, test_scores_mean + test_scores_std, alpha=0.1,\n",
    "                     color=\"g\")\n",
    "\n",
    "    # 画图设置\n",
    "    plt.grid()  # 网格\n",
    "    plt.legend(loc=\"best\")\n",
    "    plt.title(title)  # 标题\n",
    "    plt.xlabel(\"Training examples\")  # x轴标签\n",
    "    plt.ylabel(\"Score\")  # y轴标签"
   ],
   "id": "5cc0eb9a16d4c264",
   "outputs": [],
   "execution_count": null
  },
  {
   "metadata": {},
   "cell_type": "markdown",
   "source": "### 4 多元线性回归",
   "id": "4fd5fa4ee4dbc204"
  },
  {
   "metadata": {},
   "cell_type": "markdown",
   "source": " ##### 4.1 模型训练",
   "id": "1170c57d5172330"
  },
  {
   "metadata": {},
   "cell_type": "code",
   "source": [
    "# 降维数据建模验证\n",
    "clf = LinearRegression()\n",
    "clf.fit(X_train_pca, y_train_pca)\n",
    "score = mean_squared_error(y_train_pca, clf.predict(X_train_pca))\n",
    "print(\"LinearRegression train score: \", score)"
   ],
   "id": "c6a73b1d5e8becc7",
   "outputs": [],
   "execution_count": null
  },
  {
   "metadata": {},
   "cell_type": "code",
   "source": [
    "# 未降维数据建模验证\n",
    "clf = LinearRegression()\n",
    "clf.fit(X_train, y_train)\n",
    "score = mean_squared_error(y_train, clf.predict(X_train))\n",
    "print(\"LinearRegression train score: \", score)"
   ],
   "id": "a896f83838c4276c",
   "outputs": [],
   "execution_count": null
  },
  {
   "metadata": {},
   "cell_type": "markdown",
   "source": "##### 4.2 模型学习曲线",
   "id": "428c36caf689fd41"
  },
  {
   "metadata": {},
   "cell_type": "code",
   "source": [
    "# 降维数据学习曲线\n",
    "X = X_train_pca\n",
    "y = y_train_pca\n",
    "title = \"Learning Curves (Linear Regression)\"\n",
    "cv = ShuffleSplit(n_splits=100, test_size=0.25, random_state=0)\n",
    "estimator = LinearRegression()  # 线性回归模型\n",
    "plot_learn_curve(estimator, title, X, y, cv=cv)\n",
    "plt.savefig(\"./多元线性回归降维数据学习曲线.png\", dpi=300, bbox_inches='tight')"
   ],
   "id": "da7ab4ce6ec3adef",
   "outputs": [],
   "execution_count": null
  },
  {
   "metadata": {},
   "cell_type": "code",
   "source": [
    "# 未降维数据学习曲线\n",
    "X = X_train\n",
    "y = y_train\n",
    "title = \"Learning Curves (Linear Regression)\"\n",
    "cv = ShuffleSplit(n_splits=100, test_size=0.25, random_state=0)\n",
    "estimator = LinearRegression()  # 线性回归模型\n",
    "plot_learn_curve(estimator, title, X, y, cv=cv)\n",
    "plt.savefig(\"./多元线性回归未降维数据学习曲线.png\", dpi=300, bbox_inches='tight')"
   ],
   "id": "3fd941f87f88b2a5",
   "outputs": [],
   "execution_count": null
  },
  {
   "metadata": {},
   "cell_type": "markdown",
   "source": "##### 4.3 模型预测",
   "id": "711d16a0a15e401c"
  },
  {
   "metadata": {},
   "cell_type": "code",
   "source": [
    "# 降维数据预测\n",
    "model = LinearRegression()\n",
    "model.fit(train_data_pca, target_data_pca)\n",
    "y_pred = model.predict(train_data_pca)\n",
    "np.savetxt(\"./多元线性回归模型预测（降维数据）.csv\", y_pred, delimiter=\",\")"
   ],
   "id": "d91a8cc57c93fd5e",
   "outputs": [],
   "execution_count": null
  },
  {
   "metadata": {},
   "cell_type": "code",
   "source": [
    "# 未降维数据预测\n",
    "model = LinearRegression()\n",
    "model.fit(train_data.drop('target', axis=1), train_data['target'])\n",
    "y_pred = model.predict(test_data)\n",
    "np.savetxt(\"./多元线性回归模型预测（未降维数据）.csv\", y_pred, delimiter=\",\")"
   ],
   "id": "a12c9167eed4e556",
   "outputs": [],
   "execution_count": null
  },
  {
   "metadata": {},
   "cell_type": "markdown",
   "source": "### 5 随机森林回归",
   "id": "c23385b3316b61d6"
  },
  {
   "metadata": {},
   "cell_type": "markdown",
   "source": "##### 5.1 模型训练",
   "id": "c2d47783d173dbb9"
  },
  {
   "metadata": {},
   "cell_type": "code",
   "source": [
    "# 降维数据建模验证\n",
    "model = RandomForestRegressor(n_estimators=200, max_depth=10, max_features='sqrt', min_samples_leaf=10,\n",
    "                              min_samples_split=40, criterion='squared_error')\n",
    "model.fit(X_train_pca, y_train_pca)\n",
    "score = mean_squared_error(y_valid_pca, model.predict(X_valid_pca))\n",
    "print(\"RandomForestRegressor train score: \", score)"
   ],
   "id": "7d81c4f1bb2f260e",
   "outputs": [],
   "execution_count": null
  },
  {
   "metadata": {},
   "cell_type": "code",
   "source": [
    "# 未降维数据建模验证\n",
    "model = RandomForestRegressor(n_estimators=200, max_depth=10, max_features='sqrt', min_samples_leaf=10,\n",
    "                              min_samples_split=40, criterion='squared_error')\n",
    "model.fit(X_train, y_train)\n",
    "score = mean_squared_error(y_valid, model.predict(X_valid))\n",
    "print(\"RandomForestRegressor train score: \", score)"
   ],
   "id": "61c984d0725f1636",
   "outputs": [],
   "execution_count": null
  },
  {
   "metadata": {},
   "cell_type": "markdown",
   "source": "##### 5.2 模型学习曲线",
   "id": "304b28e9025688f0"
  },
  {
   "metadata": {},
   "cell_type": "code",
   "source": [
    "# 降维数据学习曲线\n",
    "X = X_train_pca\n",
    "y = y_train_pca\n",
    "title = \"Learning Curves (Random Forest)\"\n",
    "cv = ShuffleSplit(n_splits=100, test_size=0.25, random_state=0)\n",
    "estimator = RandomForestRegressor(n_estimators=200, max_depth=10, max_features='sqrt', min_samples_leaf=10,\n",
    "                                  min_samples_split=40, criterion='squared_error')  # 随机森林回归模型\n",
    "plot_learn_curve(estimator, title, X, y, cv=cv)\n",
    "plt.savefig(\"./随机森林回归降维数据学习曲线.png\", dpi=300, bbox_inches='tight')"
   ],
   "id": "f2ff41aa81b50c4e",
   "outputs": [],
   "execution_count": null
  },
  {
   "metadata": {},
   "cell_type": "code",
   "source": [
    "# 未降维数据学习曲线\n",
    "X = X_train\n",
    "y = y_train\n",
    "title = \"Learning Curves (Random Forest)\"\n",
    "cv = ShuffleSplit(n_splits=100, test_size=0.25, random_state=0)\n",
    "estimator = RandomForestRegressor(n_estimators=200, max_depth=10, max_features='sqrt', min_samples_leaf=10,\n",
    "                                  min_samples_split=40, criterion='squared_error')  # 随机森林回归模型\n",
    "plot_learn_curve(estimator, title, X, y, cv=cv)\n",
    "plt.savefig(\"./随机森林回归未降维数据学习曲线.png\", dpi=300, bbox_inches='tight')"
   ],
   "id": "7ea8d2edeee46a8e",
   "outputs": [],
   "execution_count": null
  },
  {
   "metadata": {},
   "cell_type": "markdown",
   "source": "##### 5.3 模型预测",
   "id": "d3508444d258ed0f"
  },
  {
   "metadata": {},
   "cell_type": "code",
   "source": [
    "# 降维数据预测\n",
    "model = RandomForestRegressor(n_estimators=200, max_depth=10, max_features='sqrt', min_samples_leaf=10,\n",
    "                              min_samples_split=40, criterion='squared_error')\n",
    "model.fit(train_data_pca, target_data_pca)\n",
    "y_pred = model.predict(test_data_pca)\n",
    "np.savetxt(\"./随机森林回归模型预测（降维数据）.csv\", y_pred, delimiter=\",\")"
   ],
   "id": "501b98e44414bbc1",
   "outputs": [],
   "execution_count": null
  },
  {
   "metadata": {},
   "cell_type": "code",
   "source": [
    "# 未降维数据预测\n",
    "model = RandomForestRegressor(n_estimators=200, max_depth=10, max_features='sqrt', min_samples_leaf=10,\n",
    "                              min_samples_split=40, criterion='squared_error')\n",
    "model.fit(train_data.drop('target', axis=1), train_data['target'])\n",
    "y_pred = model.predict(test_data)\n",
    "np.savetxt(\"./随机森林回归模型预测（未降维数据）.csv\", y_pred, delimiter=\",\")"
   ],
   "id": "f9ed68b6d1a28bf3",
   "outputs": [],
   "execution_count": null
  },
  {
   "metadata": {},
   "cell_type": "markdown",
   "source": "### 6 SVR支持向量机回归",
   "id": "dfe7a92fdb8c47b6"
  },
  {
   "metadata": {},
   "cell_type": "markdown",
   "source": "##### 6.1 模型训练",
   "id": "fd7821c6f72773f5"
  },
  {
   "metadata": {},
   "cell_type": "code",
   "source": [
    "# 降维数据建模验证\n",
    "model = SVR(kernel='rbf', C=1.0, gamma=0.01, tol=0.0001, epsilon=0.3)\n",
    "model.fit(X_train_pca, y_train_pca)\n",
    "score = mean_squared_error(y_valid_pca, model.predict(X_valid_pca))\n",
    "print(\"SVR train score: \", score)"
   ],
   "id": "58b29bef9391fe05",
   "outputs": [],
   "execution_count": null
  },
  {
   "metadata": {},
   "cell_type": "code",
   "source": [
    "# 未降维数据建模验证\n",
    "model = SVR(kernel='rbf')\n",
    "model.fit(X_train, y_train)\n",
    "score = mean_squared_error(y_valid, model.predict(X_valid))\n",
    "print(\"SVR train score: \", score)"
   ],
   "id": "31d9bf19d2b3cb7e",
   "outputs": [],
   "execution_count": null
  },
  {
   "metadata": {},
   "cell_type": "markdown",
   "source": "##### 6.2 模型学习曲线",
   "id": "efca73c719c645f6"
  },
  {
   "metadata": {},
   "cell_type": "code",
   "source": [
    "# 降维数据学习曲线\n",
    "X = X_train_pca\n",
    "y = y_train_pca\n",
    "title = \"Learning Curves (SVR)\"\n",
    "cv = ShuffleSplit(n_splits=100, test_size=0.25, random_state=0)\n",
    "estimator = SVR(kernel='rbf', C=1.0, gamma=0.01, tol=0.0001, epsilon=0.3)  # 支持向量机回归模型\n",
    "plot_learn_curve(estimator, title, X, y, cv=cv)\n",
    "plt.savefig(\"./SVR降维数据学习曲线.png\", dpi=300, bbox_inches='tight')"
   ],
   "id": "a21c3195d279e2d2",
   "outputs": [],
   "execution_count": null
  },
  {
   "metadata": {},
   "cell_type": "code",
   "source": [
    "# 未降维数据学习曲线\n",
    "X = X_train\n",
    "y = y_train\n",
    "title = \"Learning Curves (SVR)\"\n",
    "cv = ShuffleSplit(n_splits=100, test_size=0.25, random_state=0)\n",
    "estimator = SVR(kernel='rbf')  # 支持向量机回归模型\n",
    "plot_learn_curve(estimator, title, X, y, cv=cv)\n",
    "plt.savefig(\"./SVR未降维数据学习曲线.png\", dpi=300, bbox_inches='tight')"
   ],
   "id": "fe3acec6f4c9ef7d",
   "outputs": [],
   "execution_count": null
  },
  {
   "metadata": {},
   "cell_type": "markdown",
   "source": "##### 6.3 模型预测",
   "id": "fab224d5079a6b89"
  },
  {
   "metadata": {},
   "cell_type": "code",
   "source": [
    "# 降维数据预测\n",
    "model = SVR(kernel='rbf', C=1.0, gamma=0.01, tol=0.0001, epsilon=0.3)\n",
    "model.fit(train_data_pca, target_data_pca)\n",
    "y_pred = model.predict(test_data_pca)\n",
    "np.savetxt(\"./SVR模型预测（降维数据）.csv\", y_pred, delimiter=\",\")"
   ],
   "id": "5ff9bfcd5f67b8ed",
   "outputs": [],
   "execution_count": null
  },
  {
   "metadata": {},
   "cell_type": "code",
   "source": [
    "# 未降维数据预测\n",
    "model = SVR(kernel='rbf')\n",
    "model.fit(train_data.drop('target', axis=1), train_data['target'])\n",
    "y_pred = model.predict(test_data)\n",
    "np.savetxt(\"./SVR模型预测（未降维数据）.csv\", y_pred, delimiter=\",\")"
   ],
   "id": "1642197c9f02b0c7",
   "outputs": [],
   "execution_count": null
  },
  {
   "metadata": {},
   "cell_type": "markdown",
   "source": "### 7 梯度提升回归",
   "id": "4c1cac432d2b87ac"
  },
  {
   "metadata": {},
   "cell_type": "markdown",
   "source": "##### 7.1 模型训练",
   "id": "49942ca744089886"
  },
  {
   "metadata": {},
   "cell_type": "code",
   "source": [
    "# 降维数据建模验证\n",
    "model = GradientBoostingRegressor(n_estimators=300, max_depth=14, max_features='sqrt', min_samples_leaf=10,\n",
    "                                  min_samples_split=40, learning_rate=0.03, loss='huber', subsample=0.8)\n",
    "model.fit(X_train_pca, y_train_pca)\n",
    "score = mean_squared_error(y_valid_pca, model.predict(X_valid_pca))\n",
    "print(\"GradientBoostingRegressor train score: \", score)"
   ],
   "id": "3fbe65c16e9dfeb0",
   "outputs": [],
   "execution_count": null
  },
  {
   "metadata": {},
   "cell_type": "code",
   "source": [
    "# 未降维数据建模验证\n",
    "model = GradientBoostingRegressor(n_estimators=300, max_depth=14, max_features='sqrt', min_samples_leaf=10,\n",
    "                                  min_samples_split=40, learning_rate=0.03, loss='huber', subsample=0.8)\n",
    "model.fit(X_train, y_train)\n",
    "score = mean_squared_error(y_valid, model.predict(X_valid))\n",
    "print(\"GradientBoostingRegressor train score: \", score)"
   ],
   "id": "415396b22a14ee4d",
   "outputs": [],
   "execution_count": null
  },
  {
   "metadata": {},
   "cell_type": "markdown",
   "source": "##### 7.2 模型学习曲线",
   "id": "edc04a85cdce0c1b"
  },
  {
   "metadata": {},
   "cell_type": "code",
   "source": [
    "# 降维数据学习曲线\n",
    "X = X_train_pca\n",
    "y = y_train_pca\n",
    "title = \"Learning Curves (Gradient Boosting)\"\n",
    "cv = ShuffleSplit(n_splits=100, test_size=0.25, random_state=0)\n",
    "estimator = GradientBoostingRegressor(n_estimators=300, max_depth=14, max_features='sqrt', min_samples_leaf=10,\n",
    "                                      min_samples_split=40, learning_rate=0.03, loss='huber', subsample=0.8)  # 梯度提升回归模型\n",
    "plot_learn_curve(estimator, title, X, y, cv=cv)\n",
    "plt.savefig(\"./梯度提升回归降维数据学习曲线.png\", dpi=300, bbox_inches='tight')"
   ],
   "id": "8daaf91d948ee28c",
   "outputs": [],
   "execution_count": null
  },
  {
   "metadata": {},
   "cell_type": "code",
   "source": [
    "# 未降维数据学习曲线\n",
    "X = X_train\n",
    "y = y_train\n",
    "title = \"Learning Curves (Gradient Boosting)\"\n",
    "cv = ShuffleSplit(n_splits=100, test_size=0.25, random_state=0)\n",
    "estimator = GradientBoostingRegressor(n_estimators=300, max_depth=14, max_features='sqrt', min_samples_leaf=10,\n",
    "                                      min_samples_split=40, learning_rate=0.03, loss='huber', subsample=0.8)  # 梯度提升回归模型\n",
    "plot_learn_curve(estimator, title, X, y, cv=cv)\n",
    "plt.savefig(\"./梯度提升回归未降维数据学习曲线.png\", dpi=300, bbox_inches='tight')"
   ],
   "id": "126b6ec4c986df0f",
   "outputs": [],
   "execution_count": null
  },
  {
   "metadata": {},
   "cell_type": "markdown",
   "source": "##### 7.3 模型预测",
   "id": "89bcfaabbd20851f"
  },
  {
   "metadata": {},
   "cell_type": "code",
   "source": [
    "# 降维数据预测\n",
    "model = GradientBoostingRegressor(n_estimators=300, max_depth=14, max_features='sqrt', min_samples_leaf=10,\n",
    "                                  min_samples_split=40, learning_rate=0.03, loss='huber', subsample=0.8)\n",
    "model.fit(train_data_pca, target_data_pca)\n",
    "y_pred = model.predict(test_data_pca)\n",
    "np.savetxt(\"./梯度提升回归模型预测（降维数据）.csv\", y_pred, delimiter=\",\")"
   ],
   "id": "b22c36d7337a5039",
   "outputs": [],
   "execution_count": null
  },
  {
   "metadata": {},
   "cell_type": "code",
   "source": [
    "# 未降维数据预测\n",
    "model = GradientBoostingRegressor(n_estimators=300, max_depth=14, max_features='sqrt', min_samples_leaf=10,\n",
    "                                  min_samples_split=40, learning_rate=0.03, loss='huber', subsample=0.8)\n",
    "model.fit(train_data.drop('target', axis=1), train_data['target'])\n",
    "y_pred = model.predict(test_data)\n",
    "np.savetxt(\"./梯度提升回归模型预测（未降维数据）.csv\", y_pred, delimiter=\",\")"
   ],
   "id": "b3aa5f6bd83e8dab",
   "outputs": [],
   "execution_count": null
  },
  {
   "metadata": {},
   "cell_type": "markdown",
   "source": "### 8 LightGBM",
   "id": "150458e0f4333736"
  },
  {
   "metadata": {},
   "cell_type": "markdown",
   "source": "##### 8.1 模型训练",
   "id": "48e5e4a48fb058a6"
  },
  {
   "metadata": {},
   "cell_type": "code",
   "source": [
    "# 降维数据建模验证\n",
    "model = lgb.LGBMRegressor(n_estimators=300, max_depth=5, max_bin=100, min_child_samples=10,\n",
    "                          min_child_weight=0.1, learning_rate=0.05, subsample=0.8, num_leaves=25, colsample_bytree=0.8,\n",
    "                          reg_alpha=0.5, reg_lambda=0.1)\n",
    "model.fit(train_data_pca, target_data_pca)\n",
    "score = mean_squared_error(y_valid_pca, model.predict(X_valid_pca))\n",
    "print(\"LightGBM train score: \", score)"
   ],
   "id": "70f206e8894f4e0c",
   "outputs": [],
   "execution_count": null
  },
  {
   "metadata": {},
   "cell_type": "code",
   "source": [
    "# 未降维数据建模验证\n",
    "model = lgb.LGBMRegressor(n_estimators=300, max_depth=5, max_bin=100, min_child_samples=10,\n",
    "                          min_child_weight=0.1, learning_rate=0.05, subsample=0.8, num_leaves=25, colsample_bytree=0.8,\n",
    "                          reg_alpha=0.5, reg_lambda=0.1)\n",
    "model.fit(train_data.drop('target', axis=1), train_data['target'])\n",
    "score = mean_squared_error(y_valid, model.predict(X_valid))\n",
    "print(\"LightGBM train score: \", score)"
   ],
   "id": "b9f2acb71c4414c0",
   "outputs": [],
   "execution_count": null
  },
  {
   "metadata": {},
   "cell_type": "markdown",
   "source": "##### 8.2 模型学习曲线",
   "id": "7776fee2ef1f186d"
  },
  {
   "metadata": {},
   "cell_type": "code",
   "source": [
    "# 降维数据学习曲线\n",
    "X = X_train_pca\n",
    "y = y_train_pca\n",
    "title = \"Learning Curves (LightGBM)\"\n",
    "cv = ShuffleSplit(n_splits=100, test_size=0.25, random_state=0)\n",
    "estimator = lgb.LGBMRegressor(n_estimators=300, max_depth=5, max_bin=100, min_child_samples=10,\n",
    "                              min_child_weight=0.1, learning_rate=0.05, subsample=0.8, num_leaves=25,\n",
    "                              colsample_bytree=0.8,\n",
    "                              reg_alpha=0.5, reg_lambda=0.1)  # LightGBM模型\n",
    "plot_learn_curve(estimator, title, X, y, cv=cv)\n",
    "plt.savefig(\"./LightGBM降维数据学习曲线.png\", dpi=300, bbox_inches='tight')"
   ],
   "id": "ec36db55bdc45a6d",
   "outputs": [],
   "execution_count": null
  },
  {
   "metadata": {
    "jupyter": {
     "is_executing": true
    }
   },
   "cell_type": "code",
   "source": [
    "# 未降维数据学习曲线\n",
    "X = X_train\n",
    "y = y_train\n",
    "title = \"Learning Curves (LightGBM)\"\n",
    "cv = ShuffleSplit(n_splits=100, test_size=0.25, random_state=0)\n",
    "estimator = lgb.LGBMRegressor(n_estimators=300, max_depth=5, max_bin=100, min_child_samples=10,\n",
    "                              min_child_weight=0.1, learning_rate=0.05, subsample=0.8, num_leaves=25,\n",
    "                              colsample_bytree=0.8,\n",
    "                              reg_alpha=0.5, reg_lambda=0.1)  # LightGBM模型\n",
    "plot_learn_curve(estimator, title, X, y, cv=cv)\n",
    "plt.savefig(\"LightGBM未降维数据学习曲线.png\", dpi=300, bbox_inches='tight')"
   ],
   "id": "43822b7c16b2de05",
   "outputs": [],
   "execution_count": null
  },
  {
   "metadata": {},
   "cell_type": "markdown",
   "source": "##### 8.3 模型预测",
   "id": "2d816e3c12f78060"
  },
  {
   "metadata": {},
   "cell_type": "code",
   "source": [
    "# 降维数据预测\n",
    "model = lgb.LGBMRegressor(n_estimators=300, max_depth=5, max_bin=100, min_child_samples=10,\n",
    "                          min_child_weight=0.1, learning_rate=0.05, subsample=0.8, num_leaves=25,\n",
    "                          colsample_bytree=0.8,\n",
    "                          reg_alpha=0.5, reg_lambda=0.1)\n",
    "model.fit(train_data_pca, target_data_pca)\n",
    "y_pred = model.predict(test_data_pca)\n",
    "np.savetxt(\"./lightGBM回归模型预测（降维数据）.csv\", y_pred, delimiter=\",\")"
   ],
   "id": "bbef75f2f77aeb21",
   "outputs": [],
   "execution_count": null
  },
  {
   "metadata": {},
   "cell_type": "code",
   "source": [
    "# 未降维数据预测\n",
    "model = lgb.LGBMRegressor(n_estimators=300, max_depth=5, max_bin=100, min_child_samples=10,\n",
    "                          min_child_weight=0.1, learning_rate=0.05, subsample=0.8, num_leaves=25,\n",
    "                          colsample_bytree=0.8,\n",
    "                          reg_alpha=0.5, reg_lambda=0.1)\n",
    "model.fit(train_data.drop('target', axis=1), train_data['target'])\n",
    "y_pred = model.predict(test_data)\n",
    "np.savetxt(\"./lightGBM回归模型预测（未降维数据）.csv\", y_pred, delimiter=\",\")"
   ],
   "id": "4f3519e2f1c519e1",
   "outputs": [],
   "execution_count": null
  },
  {
   "metadata": {},
   "cell_type": "markdown",
   "source": "### 9 Xgboost",
   "id": "cbebfff762d8ab5d"
  },
  {
   "metadata": {},
   "cell_type": "markdown",
   "source": "##### 9.1 模型训练",
   "id": "d46475006148fe34"
  },
  {
   "metadata": {
    "ExecuteTime": {
     "end_time": "2025-05-11T12:40:25.623851Z",
     "start_time": "2025-05-11T12:40:23.502958Z"
    }
   },
   "cell_type": "code",
   "source": [
    "# 降维数据\n",
    "model = XGBRegressor(n_estimators=300, max_depth=15, subsample=0.8, colsample_bytree=0.8, learning_rate=0.05, gamma=0,\n",
    "                     reg_alpha=0, reg_lambda=0, verbosity=1)\n",
    "model.fit(X_train_pca, y_train_pca)\n",
    "score = mean_squared_error(y_valid_pca, model.predict(X_valid_pca))\n",
    "print(\"XGB train score: \", score)"
   ],
   "id": "9a0937290366b2c1",
   "outputs": [
    {
     "name": "stdout",
     "output_type": "stream",
     "text": [
      "XGB train score:  0.13416351341874852\n"
     ]
    }
   ],
   "execution_count": 9
  },
  {
   "metadata": {
    "ExecuteTime": {
     "end_time": "2025-05-11T12:40:29.809306Z",
     "start_time": "2025-05-11T12:40:27.663088Z"
    }
   },
   "cell_type": "code",
   "source": [
    "# 未降维数据\n",
    "model = XGBRegressor(n_estimators=300, max_depth=15, subsample=0.8, colsample_bytree=0.8, learning_rate=0.05, gamma=0,\n",
    "                     reg_alpha=0, reg_lambda=0, verbosity=1)\n",
    "model.fit(X_train, y_train)\n",
    "score = mean_squared_error(y_valid, model.predict(X_valid))\n",
    "print(\"XGB train score: \", score)"
   ],
   "id": "1b2632da46684833",
   "outputs": [
    {
     "name": "stdout",
     "output_type": "stream",
     "text": [
      "XGB train score:  0.0931772228420013\n"
     ]
    }
   ],
   "execution_count": 10
  },
  {
   "metadata": {},
   "cell_type": "markdown",
   "source": "##### 9.2 模型学习曲线",
   "id": "9878627bc09af07"
  },
  {
   "metadata": {},
   "cell_type": "code",
   "outputs": [],
   "execution_count": null,
   "source": [
    "# 降维数据学习曲线\n",
    "X = X_train_pca\n",
    "y = y_train_pca\n",
    "title = \"Learning Curves (XGB)\"\n",
    "cv = ShuffleSplit(n_splits=100, test_size=0.25, random_state=0)\n",
    "estimator = XGBRegressor(n_estimators=300, max_depth=15, subsample=0.8, colsample_bytree=0.8, learning_rate=0.05,\n",
    "                         gamma=0,\n",
    "                         reg_alpha=0, reg_lambda=0, verbosity=1)\n",
    "plot_learn_curve(estimator, title, X, y, cv=cv)\n",
    "plt.savefig(\"./Xgboost降维数据学习曲线\", dpi=300, bbox_inches='tight')"
   ],
   "id": "ba2c54a91bbcedca"
  },
  {
   "metadata": {},
   "cell_type": "code",
   "outputs": [],
   "execution_count": null,
   "source": [
    "# 未降维数据学习曲线\n",
    "X = X_train\n",
    "y = y_train\n",
    "title = \"Learning Curves (XGB)\"\n",
    "cv = ShuffleSplit(n_splits=100, test_size=0.25, random_state=0)\n",
    "estimator = XGBRegressor(n_estimators=300, max_depth=15, subsample=0.8, colsample_bytree=0.8, learning_rate=0.05,\n",
    "                         gamma=0,\n",
    "                         reg_alpha=0, reg_lambda=0, verbosity=1)\n",
    "plot_learn_curve(estimator, title, X, y, cv=cv)\n",
    "plt.savefig(\"./Xgboost未降维数据学习曲线\", dpi=300, bbox_inches='tight')"
   ],
   "id": "8b8e17ca8b34eb7b"
  },
  {
   "metadata": {},
   "cell_type": "markdown",
   "source": "##### 9.3 模型预测",
   "id": "8b82b44f014a518c"
  },
  {
   "metadata": {
    "ExecuteTime": {
     "end_time": "2025-05-11T12:56:11.375425Z",
     "start_time": "2025-05-11T12:56:08.637499Z"
    }
   },
   "cell_type": "code",
   "source": [
    "# 降维数据\n",
    "model = XGBRegressor(n_estimators=300, max_depth=15, subsample=0.8, colsample_bytree=0.8, learning_rate=0.05,\n",
    "                     gamma=0,\n",
    "                     reg_alpha=0, reg_lambda=0, verbosity=1)\n",
    "model.fit(train_data_pca, target_data_pca)\n",
    "y_pred = model.predict(test_data_pca)\n",
    "np.savetxt(\"./Xgboost回归模型预测（降维数据）.csv\", y_pred, delimiter=\",\")"
   ],
   "id": "1b37b9a9ee2ad54a",
   "outputs": [],
   "execution_count": 11
  },
  {
   "metadata": {
    "ExecuteTime": {
     "end_time": "2025-05-11T12:56:15.432067Z",
     "start_time": "2025-05-11T12:56:12.926438Z"
    }
   },
   "cell_type": "code",
   "source": [
    "# 未降维数据\n",
    "model = XGBRegressor(n_estimators=300, max_depth=15, subsample=0.8, colsample_bytree=0.8, learning_rate=0.05,\n",
    "                     gamma=0,\n",
    "                     reg_alpha=0, reg_lambda=0, verbosity=1)\n",
    "model.fit(train_data.drop('target', axis=1), train_data['target'])\n",
    "y_pred = model.predict(test_data)\n",
    "np.savetxt(\"./Xgboost回归模型预测（未降维数据）.csv\", y_pred, delimiter=\",\")"
   ],
   "id": "c656552ca3b7359b",
   "outputs": [],
   "execution_count": 12
  }
 ],
 "metadata": {
  "kernelspec": {
   "display_name": "Python 3",
   "language": "python",
   "name": "python3"
  },
  "language_info": {
   "codemirror_mode": {
    "name": "ipython",
    "version": 2
   },
   "file_extension": ".py",
   "mimetype": "text/x-python",
   "name": "python",
   "nbconvert_exporter": "python",
   "pygments_lexer": "ipython2",
   "version": "2.7.6"
  }
 },
 "nbformat": 4,
 "nbformat_minor": 5
}
